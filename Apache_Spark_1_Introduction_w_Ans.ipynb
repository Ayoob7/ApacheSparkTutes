{
  "cells": [
    {
      "cell_type": "markdown",
      "source": [
        "# Environment Setup and Dataset download\n",
        "Run the following code snippets to setup the envs\n",
        "\n",
        "Download the Netflix Subscription dataset from this [link](https://drive.google.com/file/d/1optmRfNfXUFSTWY2l4FAod6aiYl4y91P/view?usp=sharing) using your IIT account and upload to the this session storage."
      ],
      "metadata": {
        "id": "J8SlBoDA628d"
      }
    },
    {
      "cell_type": "code",
      "source": [
        "!pip install pyspark\n",
        "!pip install -U -q PyDrive\n",
        "!apt install openjdk-8-jdk-headless -qq\n",
        "import os\n",
        "os.environ[\"JAVA_HOME\"] = \"/usr/lib/jvm/java-8-openjdk-amd64\""
      ],
      "metadata": {
        "id": "MGoma3n76ueW"
      },
      "execution_count": null,
      "outputs": []
    },
    {
      "cell_type": "code",
      "source": [
        "import pyspark\n",
        "import pyspark.sql  as pyspark_sql\n",
        "import pyspark.sql.types as pyspark_types\n",
        "import pyspark.sql.functions  as pyspark_functions\n",
        "from pyspark import SparkContext, SparkConf"
      ],
      "metadata": {
        "id": "AlZcw_1Z_vgt"
      },
      "execution_count": 3,
      "outputs": []
    },
    {
      "cell_type": "code",
      "source": [
        "# create the session\n",
        "conf = SparkConf().set(\"spark.ui.port\", \"4050\")\n",
        "\n",
        "# create the context\n",
        "sc = pyspark.SparkContext(conf=conf)\n",
        "spark = pyspark_sql.SparkSession.builder.getOrCreate()"
      ],
      "metadata": {
        "id": "tQ7sOWKn_z6V"
      },
      "execution_count": 4,
      "outputs": []
    },
    {
      "cell_type": "markdown",
      "source": [
        "# Dataframe Ops"
      ],
      "metadata": {
        "id": "eBDY8QtuAQS8"
      }
    },
    {
      "cell_type": "code",
      "source": [
        "# Load the dataset\n",
        "data = spark.read.csv(\"Netflix subscription fee Dec-2021.csv\", header=True, inferSchema=True)"
      ],
      "metadata": {
        "id": "nmop5DQMASzk"
      },
      "execution_count": 86,
      "outputs": []
    },
    {
      "cell_type": "code",
      "source": [
        "data.printSchema()"
      ],
      "metadata": {
        "colab": {
          "base_uri": "https://localhost:8080/"
        },
        "id": "hp4qBeFyIf_m",
        "outputId": "dcd35504-9b0e-4e7d-9096-ff8cc8eeef18"
      },
      "execution_count": 87,
      "outputs": [
        {
          "output_type": "stream",
          "name": "stdout",
          "text": [
            "root\n",
            " |-- Country_code: string (nullable = true)\n",
            " |-- Country: string (nullable = true)\n",
            " |-- Total Library Size: integer (nullable = true)\n",
            " |-- No_of_TVShows: integer (nullable = true)\n",
            " |-- No_of_Movies: integer (nullable = true)\n",
            " |-- Cost Per Month - Basic ($): double (nullable = true)\n",
            " |-- Cost Per Month - Standard ($): double (nullable = true)\n",
            " |-- Cost Per Month - Premium ($): double (nullable = true)\n",
            "\n"
          ]
        }
      ]
    },
    {
      "cell_type": "code",
      "source": [
        "data.show()"
      ],
      "metadata": {
        "colab": {
          "base_uri": "https://localhost:8080/"
        },
        "id": "mvti1HsrAWxA",
        "outputId": "b4e152e6-0eb4-45e4-b1de-1b800b383f96"
      },
      "execution_count": 88,
      "outputs": [
        {
          "output_type": "stream",
          "name": "stdout",
          "text": [
            "+------------+----------+------------------+-------------+------------+--------------------------+-----------------------------+----------------------------+\n",
            "|Country_code|   Country|Total Library Size|No_of_TVShows|No_of_Movies|Cost Per Month - Basic ($)|Cost Per Month - Standard ($)|Cost Per Month - Premium ($)|\n",
            "+------------+----------+------------------+-------------+------------+--------------------------+-----------------------------+----------------------------+\n",
            "|          ar| Argentina|              4760|         3154|        1606|                      3.74|                          6.3|                        9.26|\n",
            "|          au| Australia|              6114|         4050|        2064|                      7.84|                        12.12|                       16.39|\n",
            "|          at|   Austria|              5640|         3779|        1861|                      9.03|                        14.67|                       20.32|\n",
            "|          be|   Belgium|              4990|         3374|        1616|                     10.16|                        15.24|                       20.32|\n",
            "|          bo|   Bolivia|              4991|         3155|        1836|                      7.99|                        10.99|                       13.99|\n",
            "|          br|    Brazil|              4972|         3162|        1810|                      4.61|                         7.11|                        9.96|\n",
            "|          bg|  Bulgaria|              6797|         4819|        1978|                      9.03|                        11.29|                       13.54|\n",
            "|          ca|    Canada|              6239|         4311|        1928|                      7.91|                        11.87|                       15.03|\n",
            "|          cl|     Chile|              4994|         3156|        1838|                      7.07|                         9.91|                       12.74|\n",
            "|          co|  Colombia|              4991|         3156|        1835|                      4.31|                         6.86|                        9.93|\n",
            "|          cr|Costa Rica|              4988|         3152|        1836|                      8.99|                        12.99|                       15.99|\n",
            "|          hr|   Croatia|              2274|         1675|         599|                      9.03|                        11.29|                       13.54|\n",
            "|          cz|   Czechia|              7325|         5234|        2091|                      8.83|                        11.49|                       14.15|\n",
            "|          dk|   Denmark|              4558|         2978|        1580|                      12.0|                        15.04|                        19.6|\n",
            "|          ec|   Ecuador|              4992|         3155|        1837|                      7.99|                        10.99|                       13.99|\n",
            "|          ee|   Estonia|              6456|         4486|        1970|                      9.03|                        11.29|                       13.54|\n",
            "|          fi|   Finland|              4045|         2638|        1407|                      9.03|                        13.54|                       18.06|\n",
            "|          fr|    France|              5445|         3604|        1841|                     10.16|                        15.24|                       20.32|\n",
            "|          de|   Germany|              5668|         3814|        1854|                      9.03|                        14.67|                       20.32|\n",
            "|          gi| Gibraltar|              6167|         4079|        2088|                      9.03|                        14.67|                       20.32|\n",
            "+------------+----------+------------------+-------------+------------+--------------------------+-----------------------------+----------------------------+\n",
            "only showing top 20 rows\n",
            "\n"
          ]
        }
      ]
    },
    {
      "cell_type": "code",
      "source": [
        "data.printSchema()"
      ],
      "metadata": {
        "colab": {
          "base_uri": "https://localhost:8080/"
        },
        "id": "fUETkCjrPDSY",
        "outputId": "382108aa-76e3-4c7a-ab65-c7c7f2952071"
      },
      "execution_count": 90,
      "outputs": [
        {
          "output_type": "stream",
          "name": "stdout",
          "text": [
            "root\n",
            " |-- Country_code: string (nullable = true)\n",
            " |-- Country: string (nullable = true)\n",
            " |-- Total Library Size: integer (nullable = true)\n",
            " |-- No_of_TVShows: integer (nullable = true)\n",
            " |-- No_of_Movies: integer (nullable = true)\n",
            " |-- Cost Per Month - Basic ($): double (nullable = true)\n",
            " |-- Cost Per Month - Standard ($): double (nullable = true)\n",
            " |-- Cost Per Month - Premium ($): double (nullable = true)\n",
            "\n"
          ]
        }
      ]
    },
    {
      "cell_type": "code",
      "source": [
        "data.describe('Cost Per Month - Premium ($)').show()"
      ],
      "metadata": {
        "colab": {
          "base_uri": "https://localhost:8080/"
        },
        "id": "KVuMG1IBMcC7",
        "outputId": "50e29f5c-60b4-4ceb-843c-152fd41714c8"
      },
      "execution_count": 92,
      "outputs": [
        {
          "output_type": "stream",
          "name": "stdout",
          "text": [
            "+-------+----------------------------+\n",
            "|summary|Cost Per Month - Premium ($)|\n",
            "+-------+----------------------------+\n",
            "|  count|                          65|\n",
            "|   mean|          15.612923076923078|\n",
            "| stddev|           4.040672408104298|\n",
            "|    min|                        4.02|\n",
            "|    max|                       26.96|\n",
            "+-------+----------------------------+\n",
            "\n"
          ]
        }
      ]
    },
    {
      "cell_type": "code",
      "source": [
        "# used to serialize the data and convert to a regular python variable\n",
        "data.collect()"
      ],
      "metadata": {
        "id": "KUJlrVftW4df"
      },
      "execution_count": null,
      "outputs": []
    },
    {
      "cell_type": "code",
      "source": [
        "from pyspark.sql import functions as F"
      ],
      "metadata": {
        "id": "lPUDsSBoDoCx"
      },
      "execution_count": 40,
      "outputs": []
    },
    {
      "cell_type": "markdown",
      "source": [
        "# Selection of a column"
      ],
      "metadata": {
        "id": "_drvCRR8EXy8"
      }
    },
    {
      "cell_type": "code",
      "source": [
        "data.select(\"Country\").show()"
      ],
      "metadata": {
        "colab": {
          "base_uri": "https://localhost:8080/"
        },
        "id": "C8Xq72w9Er_d",
        "outputId": "df9e1273-b538-47a0-8893-fb1a0fcdc231"
      },
      "execution_count": 41,
      "outputs": [
        {
          "output_type": "stream",
          "name": "stdout",
          "text": [
            "+----------+\n",
            "|   Country|\n",
            "+----------+\n",
            "| Argentina|\n",
            "| Australia|\n",
            "|   Austria|\n",
            "|   Belgium|\n",
            "|   Bolivia|\n",
            "|    Brazil|\n",
            "|  Bulgaria|\n",
            "|    Canada|\n",
            "|     Chile|\n",
            "|  Colombia|\n",
            "|Costa Rica|\n",
            "|   Croatia|\n",
            "|   Czechia|\n",
            "|   Denmark|\n",
            "|   Ecuador|\n",
            "|   Estonia|\n",
            "|   Finland|\n",
            "|    France|\n",
            "|   Germany|\n",
            "| Gibraltar|\n",
            "+----------+\n",
            "only showing top 20 rows\n",
            "\n"
          ]
        }
      ]
    },
    {
      "cell_type": "code",
      "source": [
        "data.select(\"Country\", \"Total Library Size\").show()"
      ],
      "metadata": {
        "colab": {
          "base_uri": "https://localhost:8080/"
        },
        "id": "r8bjyDHJEo7w",
        "outputId": "8d3f10f5-9627-4865-a133-7d9853e34719"
      },
      "execution_count": 43,
      "outputs": [
        {
          "output_type": "stream",
          "name": "stdout",
          "text": [
            "+----------+------------------+\n",
            "|   Country|Total Library Size|\n",
            "+----------+------------------+\n",
            "| Argentina|              4760|\n",
            "| Australia|              6114|\n",
            "|   Austria|              5640|\n",
            "|   Belgium|              4990|\n",
            "|   Bolivia|              4991|\n",
            "|    Brazil|              4972|\n",
            "|  Bulgaria|              6797|\n",
            "|    Canada|              6239|\n",
            "|     Chile|              4994|\n",
            "|  Colombia|              4991|\n",
            "|Costa Rica|              4988|\n",
            "|   Croatia|              2274|\n",
            "|   Czechia|              7325|\n",
            "|   Denmark|              4558|\n",
            "|   Ecuador|              4992|\n",
            "|   Estonia|              6456|\n",
            "|   Finland|              4045|\n",
            "|    France|              5445|\n",
            "|   Germany|              5668|\n",
            "| Gibraltar|              6167|\n",
            "+----------+------------------+\n",
            "only showing top 20 rows\n",
            "\n"
          ]
        }
      ]
    },
    {
      "cell_type": "code",
      "source": [
        "data.select(\"Country\", \"Total Library Size\", \"`No. of Movies`\").show()"
      ],
      "metadata": {
        "colab": {
          "base_uri": "https://localhost:8080/"
        },
        "id": "ALG-jga2EXGq",
        "outputId": "6884b457-e79a-4834-ea33-0b3942701881"
      },
      "execution_count": 44,
      "outputs": [
        {
          "output_type": "stream",
          "name": "stdout",
          "text": [
            "+----------+------------------+-------------+\n",
            "|   Country|Total Library Size|No. of Movies|\n",
            "+----------+------------------+-------------+\n",
            "| Argentina|              4760|         1606|\n",
            "| Australia|              6114|         2064|\n",
            "|   Austria|              5640|         1861|\n",
            "|   Belgium|              4990|         1616|\n",
            "|   Bolivia|              4991|         1836|\n",
            "|    Brazil|              4972|         1810|\n",
            "|  Bulgaria|              6797|         1978|\n",
            "|    Canada|              6239|         1928|\n",
            "|     Chile|              4994|         1838|\n",
            "|  Colombia|              4991|         1835|\n",
            "|Costa Rica|              4988|         1836|\n",
            "|   Croatia|              2274|          599|\n",
            "|   Czechia|              7325|         2091|\n",
            "|   Denmark|              4558|         1580|\n",
            "|   Ecuador|              4992|         1837|\n",
            "|   Estonia|              6456|         1970|\n",
            "|   Finland|              4045|         1407|\n",
            "|    France|              5445|         1841|\n",
            "|   Germany|              5668|         1854|\n",
            "| Gibraltar|              6167|         2088|\n",
            "+----------+------------------+-------------+\n",
            "only showing top 20 rows\n",
            "\n"
          ]
        }
      ]
    },
    {
      "cell_type": "markdown",
      "source": [
        "# Filter Operation"
      ],
      "metadata": {
        "id": "qqm_MKAjGIDI"
      }
    },
    {
      "cell_type": "code",
      "source": [
        "data.filter(data[\"Total Library Size\"] > 5000).show()"
      ],
      "metadata": {
        "colab": {
          "base_uri": "https://localhost:8080/"
        },
        "id": "KLsO7G7aGJxI",
        "outputId": "2a5a8e85-33eb-4ede-b51d-af1f270dfd61"
      },
      "execution_count": 45,
      "outputs": [
        {
          "output_type": "stream",
          "name": "stdout",
          "text": [
            "+------------+---------+------------------+---------------+-------------+--------------------------+-----------------------------+----------------------------+\n",
            "|Country_code|  Country|Total Library Size|No. of TV Shows|No. of Movies|Cost Per Month - Basic ($)|Cost Per Month - Standard ($)|Cost Per Month - Premium ($)|\n",
            "+------------+---------+------------------+---------------+-------------+--------------------------+-----------------------------+----------------------------+\n",
            "|          au|Australia|              6114|           4050|         2064|                      7.84|                        12.12|                       16.39|\n",
            "|          at|  Austria|              5640|           3779|         1861|                      9.03|                        14.67|                       20.32|\n",
            "|          bg| Bulgaria|              6797|           4819|         1978|                      9.03|                        11.29|                       13.54|\n",
            "|          ca|   Canada|              6239|           4311|         1928|                      7.91|                        11.87|                       15.03|\n",
            "|          cz|  Czechia|              7325|           5234|         2091|                      8.83|                        11.49|                       14.15|\n",
            "|          ee|  Estonia|              6456|           4486|         1970|                      9.03|                        11.29|                       13.54|\n",
            "|          fr|   France|              5445|           3604|         1841|                     10.16|                        15.24|                       20.32|\n",
            "|          de|  Germany|              5668|           3814|         1854|                      9.03|                        14.67|                       20.32|\n",
            "|          gi|Gibraltar|              6167|           4079|         2088|                      9.03|                        14.67|                       20.32|\n",
            "|          hu|  Hungary|              6884|           4802|         2082|                      7.64|                        10.71|                       13.78|\n",
            "|          is|  Iceland|              6387|           4426|         1961|                      9.03|                        14.67|                       20.32|\n",
            "|          in|    India|              5843|           3718|         2125|                      2.64|                         6.61|                         8.6|\n",
            "|          ie|  Ireland|              6486|           4515|         1971|                      9.03|                        14.67|                       20.32|\n",
            "|          il|   Israel|              5713|           3650|         2063|                     10.56|                        15.05|                       19.54|\n",
            "|          it|    Italy|              5183|           3545|         1638|                      9.03|                        14.67|                       20.32|\n",
            "|          jp|    Japan|              5475|           3619|         1856|                      8.73|                        13.13|                       17.45|\n",
            "|          lv|   Latvia|              6450|           4479|         1971|                      9.03|                        11.29|                       13.54|\n",
            "|          lt|Lithuania|              6462|           4490|         1972|                      9.03|                        11.29|                       13.54|\n",
            "|          my| Malaysia|              5952|           3565|         2387|                      8.29|                        10.65|                       13.02|\n",
            "|          mc|   Monaco|              5804|           3806|         1998|                      9.03|                        13.54|                       18.06|\n",
            "+------------+---------+------------------+---------------+-------------+--------------------------+-----------------------------+----------------------------+\n",
            "only showing top 20 rows\n",
            "\n"
          ]
        }
      ]
    },
    {
      "cell_type": "markdown",
      "source": [
        "## Filtering Questions"
      ],
      "metadata": {
        "id": "DV7S79c6GfS6"
      }
    },
    {
      "cell_type": "markdown",
      "source": [],
      "metadata": {
        "id": "gdfpzTyRGoP8"
      }
    },
    {
      "cell_type": "code",
      "source": [
        "# Filter all the countries where the number of movies offered are > 2000\n",
        "data.filter(data[\"`No. of Movies`\"] > 2000).show()"
      ],
      "metadata": {
        "colab": {
          "base_uri": "https://localhost:8080/"
        },
        "id": "NoVzrwBHGhNH",
        "outputId": "eda7185b-6c45-49a6-bc39-2b69bf87fb04"
      },
      "execution_count": 46,
      "outputs": [
        {
          "output_type": "stream",
          "name": "stdout",
          "text": [
            "+------------+--------------+------------------+---------------+-------------+--------------------------+-----------------------------+----------------------------+\n",
            "|Country_code|       Country|Total Library Size|No. of TV Shows|No. of Movies|Cost Per Month - Basic ($)|Cost Per Month - Standard ($)|Cost Per Month - Premium ($)|\n",
            "+------------+--------------+------------------+---------------+-------------+--------------------------+-----------------------------+----------------------------+\n",
            "|          au|     Australia|              6114|           4050|         2064|                      7.84|                        12.12|                       16.39|\n",
            "|          cz|       Czechia|              7325|           5234|         2091|                      8.83|                        11.49|                       14.15|\n",
            "|          gi|     Gibraltar|              6167|           4079|         2088|                      9.03|                        14.67|                       20.32|\n",
            "|          hu|       Hungary|              6884|           4802|         2082|                      7.64|                        10.71|                       13.78|\n",
            "|          in|         India|              5843|           3718|         2125|                      2.64|                         6.61|                         8.6|\n",
            "|          il|        Israel|              5713|           3650|         2063|                     10.56|                        15.05|                       19.54|\n",
            "|          my|      Malaysia|              5952|           3565|         2387|                      8.29|                        10.65|                       13.02|\n",
            "|          nz|   New Zealand|              6084|           4003|         2081|                       8.8|                        12.53|                       16.94|\n",
            "|          ph|   Philippines|              6362|           4154|         2208|                      7.35|                         9.14|                       10.93|\n",
            "|          ru|        Russia|              5711|           3624|         2087|                      8.13|                        10.84|                       13.56|\n",
            "|          sg|     Singapore|              6303|           4109|         2194|                      9.51|                        12.81|                       16.11|\n",
            "|          za|  South Africa|              5736|           3686|         2050|                      6.26|                        10.05|                       12.58|\n",
            "|          ua|       Ukraine|              5336|           3261|         2075|                      5.64|                         8.46|                       11.29|\n",
            "|          gb|United Kingdom|              6643|           4551|         2092|                      7.91|                         13.2|                       18.48|\n",
            "+------------+--------------+------------------+---------------+-------------+--------------------------+-----------------------------+----------------------------+\n",
            "\n"
          ]
        }
      ]
    },
    {
      "cell_type": "markdown",
      "source": [
        "Filter all the countries where the number of movies offered are > 2000 AND \"Cost Per Month - Basic ($)\" is greater than 8 per month"
      ],
      "metadata": {
        "id": "OyDYQxnTHLvJ"
      }
    },
    {
      "cell_type": "code",
      "source": [
        "# Filter all the countries where the number of movies offered are > 2000\n",
        "data.filter((data[\"`Cost Per Month - Basic ($)`\"] > 8) & (data[\"`No. of Movies`\"] > 2000)).show()"
      ],
      "metadata": {
        "colab": {
          "base_uri": "https://localhost:8080/"
        },
        "id": "Hq3BmxgyHoww",
        "outputId": "e8c6851f-ea27-49b4-fd77-e4fcd6603d5e"
      },
      "execution_count": 47,
      "outputs": [
        {
          "output_type": "stream",
          "name": "stdout",
          "text": [
            "+------------+-----------+------------------+---------------+-------------+--------------------------+-----------------------------+----------------------------+\n",
            "|Country_code|    Country|Total Library Size|No. of TV Shows|No. of Movies|Cost Per Month - Basic ($)|Cost Per Month - Standard ($)|Cost Per Month - Premium ($)|\n",
            "+------------+-----------+------------------+---------------+-------------+--------------------------+-----------------------------+----------------------------+\n",
            "|          cz|    Czechia|              7325|           5234|         2091|                      8.83|                        11.49|                       14.15|\n",
            "|          gi|  Gibraltar|              6167|           4079|         2088|                      9.03|                        14.67|                       20.32|\n",
            "|          il|     Israel|              5713|           3650|         2063|                     10.56|                        15.05|                       19.54|\n",
            "|          my|   Malaysia|              5952|           3565|         2387|                      8.29|                        10.65|                       13.02|\n",
            "|          nz|New Zealand|              6084|           4003|         2081|                       8.8|                        12.53|                       16.94|\n",
            "|          ru|     Russia|              5711|           3624|         2087|                      8.13|                        10.84|                       13.56|\n",
            "|          sg|  Singapore|              6303|           4109|         2194|                      9.51|                        12.81|                       16.11|\n",
            "+------------+-----------+------------------+---------------+-------------+--------------------------+-----------------------------+----------------------------+\n",
            "\n"
          ]
        }
      ]
    },
    {
      "cell_type": "code",
      "source": [
        "# Filter countries with library size > 5000\n",
        "data.filter(data[\"Total Library Size\"] > 5000).show()"
      ],
      "metadata": {
        "colab": {
          "base_uri": "https://localhost:8080/"
        },
        "id": "OCeIsxKaLiC8",
        "outputId": "ffc5718b-d575-4e3a-a179-ea068736476f"
      },
      "execution_count": 52,
      "outputs": [
        {
          "output_type": "stream",
          "name": "stdout",
          "text": [
            "+------------+---------+------------------+---------------+-------------+--------------------------+-----------------------------+----------------------------+\n",
            "|Country_code|  Country|Total Library Size|No. of TV Shows|No. of Movies|Cost Per Month - Basic ($)|Cost Per Month - Standard ($)|Cost Per Month - Premium ($)|\n",
            "+------------+---------+------------------+---------------+-------------+--------------------------+-----------------------------+----------------------------+\n",
            "|          au|Australia|              6114|           4050|         2064|                      7.84|                        12.12|                       16.39|\n",
            "|          at|  Austria|              5640|           3779|         1861|                      9.03|                        14.67|                       20.32|\n",
            "|          bg| Bulgaria|              6797|           4819|         1978|                      9.03|                        11.29|                       13.54|\n",
            "|          ca|   Canada|              6239|           4311|         1928|                      7.91|                        11.87|                       15.03|\n",
            "|          cz|  Czechia|              7325|           5234|         2091|                      8.83|                        11.49|                       14.15|\n",
            "|          ee|  Estonia|              6456|           4486|         1970|                      9.03|                        11.29|                       13.54|\n",
            "|          fr|   France|              5445|           3604|         1841|                     10.16|                        15.24|                       20.32|\n",
            "|          de|  Germany|              5668|           3814|         1854|                      9.03|                        14.67|                       20.32|\n",
            "|          gi|Gibraltar|              6167|           4079|         2088|                      9.03|                        14.67|                       20.32|\n",
            "|          hu|  Hungary|              6884|           4802|         2082|                      7.64|                        10.71|                       13.78|\n",
            "|          is|  Iceland|              6387|           4426|         1961|                      9.03|                        14.67|                       20.32|\n",
            "|          in|    India|              5843|           3718|         2125|                      2.64|                         6.61|                         8.6|\n",
            "|          ie|  Ireland|              6486|           4515|         1971|                      9.03|                        14.67|                       20.32|\n",
            "|          il|   Israel|              5713|           3650|         2063|                     10.56|                        15.05|                       19.54|\n",
            "|          it|    Italy|              5183|           3545|         1638|                      9.03|                        14.67|                       20.32|\n",
            "|          jp|    Japan|              5475|           3619|         1856|                      8.73|                        13.13|                       17.45|\n",
            "|          lv|   Latvia|              6450|           4479|         1971|                      9.03|                        11.29|                       13.54|\n",
            "|          lt|Lithuania|              6462|           4490|         1972|                      9.03|                        11.29|                       13.54|\n",
            "|          my| Malaysia|              5952|           3565|         2387|                      8.29|                        10.65|                       13.02|\n",
            "|          mc|   Monaco|              5804|           3806|         1998|                      9.03|                        13.54|                       18.06|\n",
            "+------------+---------+------------------+---------------+-------------+--------------------------+-----------------------------+----------------------------+\n",
            "only showing top 20 rows\n",
            "\n"
          ]
        }
      ]
    },
    {
      "cell_type": "code",
      "source": [
        "# Select countries with Premium plan cost < $15\n",
        "data.filter(data[\"Cost Per Month - Premium ($)\"] < 15).show()"
      ],
      "metadata": {
        "colab": {
          "base_uri": "https://localhost:8080/"
        },
        "id": "jieDVSa9LsCi",
        "outputId": "37dba92c-4cb1-4b51-9447-f08fcff67c0d"
      },
      "execution_count": 53,
      "outputs": [
        {
          "output_type": "stream",
          "name": "stdout",
          "text": [
            "+------------+---------+------------------+---------------+-------------+--------------------------+-----------------------------+----------------------------+\n",
            "|Country_code|  Country|Total Library Size|No. of TV Shows|No. of Movies|Cost Per Month - Basic ($)|Cost Per Month - Standard ($)|Cost Per Month - Premium ($)|\n",
            "+------------+---------+------------------+---------------+-------------+--------------------------+-----------------------------+----------------------------+\n",
            "|          ar|Argentina|              4760|           3154|         1606|                      3.74|                          6.3|                        9.26|\n",
            "|          bo|  Bolivia|              4991|           3155|         1836|                      7.99|                        10.99|                       13.99|\n",
            "|          br|   Brazil|              4972|           3162|         1810|                      4.61|                         7.11|                        9.96|\n",
            "|          bg| Bulgaria|              6797|           4819|         1978|                      9.03|                        11.29|                       13.54|\n",
            "|          cl|    Chile|              4994|           3156|         1838|                      7.07|                         9.91|                       12.74|\n",
            "|          co| Colombia|              4991|           3156|         1835|                      4.31|                         6.86|                        9.93|\n",
            "|          hr|  Croatia|              2274|           1675|          599|                      9.03|                        11.29|                       13.54|\n",
            "|          cz|  Czechia|              7325|           5234|         2091|                      8.83|                        11.49|                       14.15|\n",
            "|          ec|  Ecuador|              4992|           3155|         1837|                      7.99|                        10.99|                       13.99|\n",
            "|          ee|  Estonia|              6456|           4486|         1970|                      9.03|                        11.29|                       13.54|\n",
            "|          gt|Guatemala|              4767|           3154|         1613|                      7.99|                        10.99|                       13.99|\n",
            "|          hn| Honduras|              4989|           3154|         1835|                      7.99|                        10.99|                       13.99|\n",
            "|          hk|Hong Kong|              4746|           2883|         1863|                      8.08|                         10.0|                       11.93|\n",
            "|          hu|  Hungary|              6884|           4802|         2082|                      7.64|                        10.71|                       13.78|\n",
            "|          in|    India|              5843|           3718|         2125|                      2.64|                         6.61|                         8.6|\n",
            "|          id|Indonesia|              3887|           2449|         1438|                      8.36|                        10.66|                       12.96|\n",
            "|          lv|   Latvia|              6450|           4479|         1971|                      9.03|                        11.29|                       13.54|\n",
            "|          lt|Lithuania|              6462|           4490|         1972|                      9.03|                        11.29|                       13.54|\n",
            "|          my| Malaysia|              5952|           3565|         2387|                      8.29|                        10.65|                       13.02|\n",
            "|          mx|   Mexico|              4993|           3158|         1835|                      6.62|                        10.43|                       14.24|\n",
            "+------------+---------+------------------+---------------+-------------+--------------------------+-----------------------------+----------------------------+\n",
            "only showing top 20 rows\n",
            "\n"
          ]
        }
      ]
    },
    {
      "cell_type": "code",
      "source": [
        "# Filter for more TV shows than movies\n",
        "data.filter(data[\"`No. of TV Shows`\"] > data[\"`No. of Movies`\"]).show()"
      ],
      "metadata": {
        "colab": {
          "base_uri": "https://localhost:8080/"
        },
        "id": "xUt0P6M8LqCI",
        "outputId": "2b5ebd72-7946-4ea2-db26-b5799ba540f5"
      },
      "execution_count": 57,
      "outputs": [
        {
          "output_type": "stream",
          "name": "stdout",
          "text": [
            "+------------+----------+------------------+---------------+-------------+--------------------------+-----------------------------+----------------------------+\n",
            "|Country_code|   Country|Total Library Size|No. of TV Shows|No. of Movies|Cost Per Month - Basic ($)|Cost Per Month - Standard ($)|Cost Per Month - Premium ($)|\n",
            "+------------+----------+------------------+---------------+-------------+--------------------------+-----------------------------+----------------------------+\n",
            "|          ar| Argentina|              4760|           3154|         1606|                      3.74|                          6.3|                        9.26|\n",
            "|          au| Australia|              6114|           4050|         2064|                      7.84|                        12.12|                       16.39|\n",
            "|          at|   Austria|              5640|           3779|         1861|                      9.03|                        14.67|                       20.32|\n",
            "|          be|   Belgium|              4990|           3374|         1616|                     10.16|                        15.24|                       20.32|\n",
            "|          bo|   Bolivia|              4991|           3155|         1836|                      7.99|                        10.99|                       13.99|\n",
            "|          br|    Brazil|              4972|           3162|         1810|                      4.61|                         7.11|                        9.96|\n",
            "|          bg|  Bulgaria|              6797|           4819|         1978|                      9.03|                        11.29|                       13.54|\n",
            "|          ca|    Canada|              6239|           4311|         1928|                      7.91|                        11.87|                       15.03|\n",
            "|          cl|     Chile|              4994|           3156|         1838|                      7.07|                         9.91|                       12.74|\n",
            "|          co|  Colombia|              4991|           3156|         1835|                      4.31|                         6.86|                        9.93|\n",
            "|          cr|Costa Rica|              4988|           3152|         1836|                      8.99|                        12.99|                       15.99|\n",
            "|          hr|   Croatia|              2274|           1675|          599|                      9.03|                        11.29|                       13.54|\n",
            "|          cz|   Czechia|              7325|           5234|         2091|                      8.83|                        11.49|                       14.15|\n",
            "|          dk|   Denmark|              4558|           2978|         1580|                      12.0|                        15.04|                        19.6|\n",
            "|          ec|   Ecuador|              4992|           3155|         1837|                      7.99|                        10.99|                       13.99|\n",
            "|          ee|   Estonia|              6456|           4486|         1970|                      9.03|                        11.29|                       13.54|\n",
            "|          fi|   Finland|              4045|           2638|         1407|                      9.03|                        13.54|                       18.06|\n",
            "|          fr|    France|              5445|           3604|         1841|                     10.16|                        15.24|                       20.32|\n",
            "|          de|   Germany|              5668|           3814|         1854|                      9.03|                        14.67|                       20.32|\n",
            "|          gi| Gibraltar|              6167|           4079|         2088|                      9.03|                        14.67|                       20.32|\n",
            "+------------+----------+------------------+---------------+-------------+--------------------------+-----------------------------+----------------------------+\n",
            "only showing top 20 rows\n",
            "\n"
          ]
        }
      ]
    },
    {
      "cell_type": "markdown",
      "source": [
        "# Selection based on a condition\n",
        "\n",
        "Print 1 for a condition otherwise 0"
      ],
      "metadata": {
        "id": "F-ubS0P3FyG1"
      }
    },
    {
      "cell_type": "code",
      "source": [
        "# all coutries with\n",
        "data.select(\"Country\",\n",
        "            F.when(data[\"Total Library Size\"] < 7000 , 1).otherwise(0)\n",
        ").show()"
      ],
      "metadata": {
        "colab": {
          "base_uri": "https://localhost:8080/"
        },
        "id": "UUJEr9lBF_YA",
        "outputId": "56c22717-b494-4d7c-833e-7b6b082deadd"
      },
      "execution_count": 94,
      "outputs": [
        {
          "output_type": "stream",
          "name": "stdout",
          "text": [
            "+----------+-------------------------------------------------------+\n",
            "|   Country|CASE WHEN (Total Library Size < 7000) THEN 1 ELSE 0 END|\n",
            "+----------+-------------------------------------------------------+\n",
            "| Argentina|                                                      1|\n",
            "| Australia|                                                      1|\n",
            "|   Austria|                                                      1|\n",
            "|   Belgium|                                                      1|\n",
            "|   Bolivia|                                                      1|\n",
            "|    Brazil|                                                      1|\n",
            "|  Bulgaria|                                                      1|\n",
            "|    Canada|                                                      1|\n",
            "|     Chile|                                                      1|\n",
            "|  Colombia|                                                      1|\n",
            "|Costa Rica|                                                      1|\n",
            "|   Croatia|                                                      1|\n",
            "|   Czechia|                                                      0|\n",
            "|   Denmark|                                                      1|\n",
            "|   Ecuador|                                                      1|\n",
            "|   Estonia|                                                      1|\n",
            "|   Finland|                                                      1|\n",
            "|    France|                                                      1|\n",
            "|   Germany|                                                      1|\n",
            "| Gibraltar|                                                      1|\n",
            "+----------+-------------------------------------------------------+\n",
            "only showing top 20 rows\n",
            "\n"
          ]
        }
      ]
    },
    {
      "cell_type": "markdown",
      "source": [
        "# Challenging Questions\n",
        "\n",
        "1. Find the countries with the lowest no of movies offered and the higest.\n",
        "\n",
        "2. Determine whether the countries are in the 1st, 2nd, 3rd or 4th quartile of the distribution of values in the no of movies column. We want a column that says 1,2,3, ocr 4 denoting those quartiles respectively"
      ],
      "metadata": {
        "id": "7VMaUjXWLepk"
      }
    },
    {
      "cell_type": "markdown",
      "source": [
        "1. First Question"
      ],
      "metadata": {
        "id": "IJqMmp9mT3E4"
      }
    },
    {
      "cell_type": "code",
      "source": [
        "# find min and max\n",
        "data.describe('No_of_Movies').show()"
      ],
      "metadata": {
        "colab": {
          "base_uri": "https://localhost:8080/"
        },
        "id": "eA-JSdJiSKS1",
        "outputId": "4ee4c015-ccc1-43c8-d781-2e8f2119787e"
      },
      "execution_count": 95,
      "outputs": [
        {
          "output_type": "stream",
          "name": "stdout",
          "text": [
            "+-------+------------------+\n",
            "|summary|      No_of_Movies|\n",
            "+-------+------------------+\n",
            "|  count|                65|\n",
            "|   mean|1795.4615384615386|\n",
            "| stddev| 327.2797483099835|\n",
            "|    min|               373|\n",
            "|    max|              2387|\n",
            "+-------+------------------+\n",
            "\n"
          ]
        }
      ]
    },
    {
      "cell_type": "code",
      "source": [
        "# can use either filtering or F.when to select the records\n",
        "# (For Smartasses: Yes there is a way to get it by aggregating) but we haven't covered it yet\n",
        "data.filter(data[\"No_of_Movies\"] == 373).show()"
      ],
      "metadata": {
        "colab": {
          "base_uri": "https://localhost:8080/"
        },
        "id": "MLiV3EoiSqNA",
        "outputId": "265e07ec-5c85-47a4-f9b2-241998e28eb4"
      },
      "execution_count": 97,
      "outputs": [
        {
          "output_type": "stream",
          "name": "stdout",
          "text": [
            "+------------+----------+------------------+-------------+------------+--------------------------+-----------------------------+----------------------------+\n",
            "|Country_code|   Country|Total Library Size|No_of_TVShows|No_of_Movies|Cost Per Month - Basic ($)|Cost Per Month - Standard ($)|Cost Per Month - Premium ($)|\n",
            "+------------+----------+------------------+-------------+------------+--------------------------+-----------------------------+----------------------------+\n",
            "|          sm|San Marino|              2310|         1937|         373|                      9.03|                        14.67|                       20.32|\n",
            "+------------+----------+------------------+-------------+------------+--------------------------+-----------------------------+----------------------------+\n",
            "\n"
          ]
        }
      ]
    },
    {
      "cell_type": "code",
      "source": [
        "data.filter(data[\"No_of_Movies\"] == 2387).show()"
      ],
      "metadata": {
        "colab": {
          "base_uri": "https://localhost:8080/"
        },
        "id": "wdXsFGMhTLpK",
        "outputId": "37b83594-8045-44cb-c96e-69751dfc652c"
      },
      "execution_count": 98,
      "outputs": [
        {
          "output_type": "stream",
          "name": "stdout",
          "text": [
            "+------------+--------+------------------+-------------+------------+--------------------------+-----------------------------+----------------------------+\n",
            "|Country_code| Country|Total Library Size|No_of_TVShows|No_of_Movies|Cost Per Month - Basic ($)|Cost Per Month - Standard ($)|Cost Per Month - Premium ($)|\n",
            "+------------+--------+------------------+-------------+------------+--------------------------+-----------------------------+----------------------------+\n",
            "|          my|Malaysia|              5952|         3565|        2387|                      8.29|                        10.65|                       13.02|\n",
            "+------------+--------+------------------+-------------+------------+--------------------------+-----------------------------+----------------------------+\n",
            "\n"
          ]
        }
      ]
    },
    {
      "cell_type": "markdown",
      "source": [
        "2. Second Question\n",
        "\n",
        "Hey Nerds... yes I know you can use custom Lambda Functions to do this.. I get it you're smart.. while we cover them for the other mere mortals in the class in the next lecture, please contend with doing it in Lowly Earthly Peasantly Python"
      ],
      "metadata": {
        "id": "jMEYm8WAT9uD"
      }
    },
    {
      "cell_type": "code",
      "source": [
        "# convert Spark to Python List\n",
        "no_of_mov_raw = data.select(\"No_of_Movies\").collect()"
      ],
      "metadata": {
        "id": "kj_vaeV_T9TV"
      },
      "execution_count": 104,
      "outputs": []
    },
    {
      "cell_type": "code",
      "source": [
        "# convert raw spark types to ints\n",
        "no_of_mov = []\n",
        "for i in no_of_mov_raw:\n",
        "  no_of_mov.append(i[0])"
      ],
      "metadata": {
        "id": "-OuYsm_7UwOT"
      },
      "execution_count": 107,
      "outputs": []
    },
    {
      "cell_type": "code",
      "source": [
        "# get quartiles values for the list of ints\n",
        "import statistics\n",
        "\n",
        "# Calculate quartiles\n",
        "q1, q2, q3 = statistics.quantiles(no_of_mov, n=4)"
      ],
      "metadata": {
        "id": "fIi_BsnIU-vu"
      },
      "execution_count": 108,
      "outputs": []
    },
    {
      "cell_type": "code",
      "source": [
        "# all coutries with\n",
        "data.select(\"Country\",\n",
        "            F.when(data[\"No_of_Movies\"] < 1622.0 , 1)\n",
        "            .otherwise(\n",
        "                F.when( (data[\"No_of_Movies\"] > 1622.0) & (data[\"No_of_Movies\"] < 1841.0), 2).otherwise(\n",
        "                    F.when( (data[\"No_of_Movies\"] > 1841.0) & (data[\"No_of_Movies\"] < 1986.0), 3).otherwise(4)\n",
        "                )\n",
        "            ).alias(\"Q_of_movies\")\n",
        ").show()"
      ],
      "metadata": {
        "id": "x0X2Z7-2ZFcB"
      },
      "execution_count": null,
      "outputs": []
    },
    {
      "cell_type": "code",
      "source": [
        "# all coutries with\n",
        "data.select(\"Country\",\n",
        "            F.when(data[\"No_of_Movies\"] < 1622.0 , 1)\n",
        "            .otherwise(\n",
        "                F.when( (data[\"No_of_Movies\"] > 1622.0) & (data[\"No_of_Movies\"] < 1841.0), 2).otherwise(\n",
        "                    F.when( (data[\"No_of_Movies\"] > 1841.0) & (data[\"No_of_Movies\"] < 1986.0), 3).otherwise(4)\n",
        "                )\n",
        "            ).alias(\"Q_of_movies\")\n",
        ").show()"
      ],
      "metadata": {
        "colab": {
          "base_uri": "https://localhost:8080/"
        },
        "id": "Hphfh-WUV4CJ",
        "outputId": "ed7e5dd8-a17b-4405-d5ae-95b62d3b9d5c"
      },
      "execution_count": 129,
      "outputs": [
        {
          "output_type": "stream",
          "name": "stdout",
          "text": [
            "+----------+-----------+\n",
            "|   Country|Q_of_movies|\n",
            "+----------+-----------+\n",
            "| Argentina|          1|\n",
            "| Australia|          4|\n",
            "|   Austria|          3|\n",
            "|   Belgium|          1|\n",
            "|   Bolivia|          2|\n",
            "|    Brazil|          2|\n",
            "|  Bulgaria|          3|\n",
            "|    Canada|          3|\n",
            "|     Chile|          2|\n",
            "|  Colombia|          2|\n",
            "|Costa Rica|          2|\n",
            "|   Croatia|          1|\n",
            "|   Czechia|          4|\n",
            "|   Denmark|          1|\n",
            "|   Ecuador|          2|\n",
            "|   Estonia|          3|\n",
            "|   Finland|          1|\n",
            "|    France|          4|\n",
            "|   Germany|          3|\n",
            "| Gibraltar|          4|\n",
            "+----------+-----------+\n",
            "only showing top 20 rows\n",
            "\n"
          ]
        }
      ]
    }
  ],
  "metadata": {
    "colab": {
      "provenance": []
    },
    "kernelspec": {
      "display_name": "Python 3",
      "name": "python3"
    }
  },
  "nbformat": 4,
  "nbformat_minor": 0
}
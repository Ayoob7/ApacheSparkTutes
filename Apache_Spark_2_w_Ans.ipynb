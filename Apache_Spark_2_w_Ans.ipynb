{
  "cells": [
    {
      "cell_type": "markdown",
      "source": [
        "# Environment Setup and Dataset download\n",
        "Run the following code snippets to setup the envs\n",
        "\n",
        "Download the Netflix Subscription dataset from this [link](https://drive.google.com/file/d/1optmRfNfXUFSTWY2l4FAod6aiYl4y91P/view?usp=sharing) using your IIT account and upload to the this session storage."
      ],
      "metadata": {
        "id": "J8SlBoDA628d"
      }
    },
    {
      "cell_type": "code",
      "source": [
        "!pip install pyspark\n",
        "!pip install -U -q PyDrive\n",
        "!apt install openjdk-8-jdk-headless -qq\n",
        "import os\n",
        "os.environ[\"JAVA_HOME\"] = \"/usr/lib/jvm/java-8-openjdk-amd64\""
      ],
      "metadata": {
        "id": "MGoma3n76ueW"
      },
      "execution_count": null,
      "outputs": []
    },
    {
      "cell_type": "code",
      "source": [
        "import pyspark\n",
        "import pyspark.sql  as pyspark_sql\n",
        "import pyspark.sql.types as pyspark_types\n",
        "import pyspark.sql.functions  as pyspark_functions\n",
        "from pyspark import SparkContext, SparkConf"
      ],
      "metadata": {
        "id": "AlZcw_1Z_vgt"
      },
      "execution_count": 2,
      "outputs": []
    },
    {
      "cell_type": "code",
      "source": [
        "# create the session\n",
        "conf = SparkConf().set(\"spark.ui.port\", \"4050\")\n",
        "\n",
        "# create the context\n",
        "sc = pyspark.SparkContext(conf=conf)\n",
        "spark = pyspark_sql.SparkSession.builder.getOrCreate()"
      ],
      "metadata": {
        "id": "tQ7sOWKn_z6V"
      },
      "execution_count": 3,
      "outputs": []
    },
    {
      "cell_type": "markdown",
      "source": [
        "# Dataframe Ops"
      ],
      "metadata": {
        "id": "eBDY8QtuAQS8"
      }
    },
    {
      "cell_type": "code",
      "source": [
        "# Load the dataset\n",
        "data = spark.read.csv(\"Netflix subscription fee Dec-2021.csv\", header=True, inferSchema=True)"
      ],
      "metadata": {
        "id": "nmop5DQMASzk"
      },
      "execution_count": 5,
      "outputs": []
    },
    {
      "cell_type": "code",
      "source": [
        "data.printSchema()"
      ],
      "metadata": {
        "colab": {
          "base_uri": "https://localhost:8080/"
        },
        "id": "hp4qBeFyIf_m",
        "outputId": "f3f93eca-1d58-4b71-b9c6-e0b2f9a005cd"
      },
      "execution_count": 6,
      "outputs": [
        {
          "output_type": "stream",
          "name": "stdout",
          "text": [
            "root\n",
            " |-- Country_code: string (nullable = true)\n",
            " |-- Country: string (nullable = true)\n",
            " |-- Total Library Size: integer (nullable = true)\n",
            " |-- No_of_TVShows: integer (nullable = true)\n",
            " |-- No_of_Movies: integer (nullable = true)\n",
            " |-- Cost Per Month - Basic ($): double (nullable = true)\n",
            " |-- Cost Per Month - Standard ($): double (nullable = true)\n",
            " |-- Cost Per Month - Premium ($): double (nullable = true)\n",
            "\n"
          ]
        }
      ]
    },
    {
      "cell_type": "code",
      "source": [
        "data.show()"
      ],
      "metadata": {
        "colab": {
          "base_uri": "https://localhost:8080/"
        },
        "id": "mvti1HsrAWxA",
        "outputId": "0dafe11c-b27d-4fd9-bcab-42a9b2bbd211"
      },
      "execution_count": 7,
      "outputs": [
        {
          "output_type": "stream",
          "name": "stdout",
          "text": [
            "+------------+----------+------------------+-------------+------------+--------------------------+-----------------------------+----------------------------+\n",
            "|Country_code|   Country|Total Library Size|No_of_TVShows|No_of_Movies|Cost Per Month - Basic ($)|Cost Per Month - Standard ($)|Cost Per Month - Premium ($)|\n",
            "+------------+----------+------------------+-------------+------------+--------------------------+-----------------------------+----------------------------+\n",
            "|          ar| Argentina|              4760|         3154|        1606|                      3.74|                          6.3|                        9.26|\n",
            "|          au| Australia|              6114|         4050|        2064|                      7.84|                        12.12|                       16.39|\n",
            "|          at|   Austria|              5640|         3779|        1861|                      9.03|                        14.67|                       20.32|\n",
            "|          be|   Belgium|              4990|         3374|        1616|                     10.16|                        15.24|                       20.32|\n",
            "|          bo|   Bolivia|              4991|         3155|        1836|                      7.99|                        10.99|                       13.99|\n",
            "|          br|    Brazil|              4972|         3162|        1810|                      4.61|                         7.11|                        9.96|\n",
            "|          bg|  Bulgaria|              6797|         4819|        1978|                      9.03|                        11.29|                       13.54|\n",
            "|          ca|    Canada|              6239|         4311|        1928|                      7.91|                        11.87|                       15.03|\n",
            "|          cl|     Chile|              4994|         3156|        1838|                      7.07|                         9.91|                       12.74|\n",
            "|          co|  Colombia|              4991|         3156|        1835|                      4.31|                         6.86|                        9.93|\n",
            "|          cr|Costa Rica|              4988|         3152|        1836|                      8.99|                        12.99|                       15.99|\n",
            "|          hr|   Croatia|              2274|         1675|         599|                      9.03|                        11.29|                       13.54|\n",
            "|          cz|   Czechia|              7325|         5234|        2091|                      8.83|                        11.49|                       14.15|\n",
            "|          dk|   Denmark|              4558|         2978|        1580|                      12.0|                        15.04|                        19.6|\n",
            "|          ec|   Ecuador|              4992|         3155|        1837|                      7.99|                        10.99|                       13.99|\n",
            "|          ee|   Estonia|              6456|         4486|        1970|                      9.03|                        11.29|                       13.54|\n",
            "|          fi|   Finland|              4045|         2638|        1407|                      9.03|                        13.54|                       18.06|\n",
            "|          fr|    France|              5445|         3604|        1841|                     10.16|                        15.24|                       20.32|\n",
            "|          de|   Germany|              5668|         3814|        1854|                      9.03|                        14.67|                       20.32|\n",
            "|          gi| Gibraltar|              6167|         4079|        2088|                      9.03|                        14.67|                       20.32|\n",
            "+------------+----------+------------------+-------------+------------+--------------------------+-----------------------------+----------------------------+\n",
            "only showing top 20 rows\n",
            "\n"
          ]
        }
      ]
    },
    {
      "cell_type": "code",
      "source": [
        "data.printSchema()"
      ],
      "metadata": {
        "colab": {
          "base_uri": "https://localhost:8080/"
        },
        "id": "fUETkCjrPDSY",
        "outputId": "4cbb8968-a155-44c8-8ce2-4fc0a7887ebc"
      },
      "execution_count": 8,
      "outputs": [
        {
          "output_type": "stream",
          "name": "stdout",
          "text": [
            "root\n",
            " |-- Country_code: string (nullable = true)\n",
            " |-- Country: string (nullable = true)\n",
            " |-- Total Library Size: integer (nullable = true)\n",
            " |-- No_of_TVShows: integer (nullable = true)\n",
            " |-- No_of_Movies: integer (nullable = true)\n",
            " |-- Cost Per Month - Basic ($): double (nullable = true)\n",
            " |-- Cost Per Month - Standard ($): double (nullable = true)\n",
            " |-- Cost Per Month - Premium ($): double (nullable = true)\n",
            "\n"
          ]
        }
      ]
    },
    {
      "cell_type": "code",
      "source": [
        "data.describe('Cost Per Month - Premium ($)').show()"
      ],
      "metadata": {
        "colab": {
          "base_uri": "https://localhost:8080/"
        },
        "id": "KVuMG1IBMcC7",
        "outputId": "53e25108-68e4-4199-d3cc-87ecad4e8a97"
      },
      "execution_count": 9,
      "outputs": [
        {
          "output_type": "stream",
          "name": "stdout",
          "text": [
            "+-------+----------------------------+\n",
            "|summary|Cost Per Month - Premium ($)|\n",
            "+-------+----------------------------+\n",
            "|  count|                          65|\n",
            "|   mean|          15.612923076923078|\n",
            "| stddev|           4.040672408104298|\n",
            "|    min|                        4.02|\n",
            "|    max|                       26.96|\n",
            "+-------+----------------------------+\n",
            "\n"
          ]
        }
      ]
    },
    {
      "cell_type": "code",
      "source": [
        "# used to serialize the data and convert to a regular python variable\n",
        "data.collect()"
      ],
      "metadata": {
        "id": "KUJlrVftW4df",
        "colab": {
          "base_uri": "https://localhost:8080/"
        },
        "outputId": "6cc483f7-8d21-4f3f-d1b3-1990f3c5ae68"
      },
      "execution_count": 10,
      "outputs": [
        {
          "output_type": "execute_result",
          "data": {
            "text/plain": [
              "[Row(Country_code='ar', Country='Argentina', Total Library Size=4760, No_of_TVShows=3154, No_of_Movies=1606, Cost Per Month - Basic ($)=3.74, Cost Per Month - Standard ($)=6.3, Cost Per Month - Premium ($)=9.26),\n",
              " Row(Country_code='au', Country='Australia', Total Library Size=6114, No_of_TVShows=4050, No_of_Movies=2064, Cost Per Month - Basic ($)=7.84, Cost Per Month - Standard ($)=12.12, Cost Per Month - Premium ($)=16.39),\n",
              " Row(Country_code='at', Country='Austria', Total Library Size=5640, No_of_TVShows=3779, No_of_Movies=1861, Cost Per Month - Basic ($)=9.03, Cost Per Month - Standard ($)=14.67, Cost Per Month - Premium ($)=20.32),\n",
              " Row(Country_code='be', Country='Belgium', Total Library Size=4990, No_of_TVShows=3374, No_of_Movies=1616, Cost Per Month - Basic ($)=10.16, Cost Per Month - Standard ($)=15.24, Cost Per Month - Premium ($)=20.32),\n",
              " Row(Country_code='bo', Country='Bolivia', Total Library Size=4991, No_of_TVShows=3155, No_of_Movies=1836, Cost Per Month - Basic ($)=7.99, Cost Per Month - Standard ($)=10.99, Cost Per Month - Premium ($)=13.99),\n",
              " Row(Country_code='br', Country='Brazil', Total Library Size=4972, No_of_TVShows=3162, No_of_Movies=1810, Cost Per Month - Basic ($)=4.61, Cost Per Month - Standard ($)=7.11, Cost Per Month - Premium ($)=9.96),\n",
              " Row(Country_code='bg', Country='Bulgaria', Total Library Size=6797, No_of_TVShows=4819, No_of_Movies=1978, Cost Per Month - Basic ($)=9.03, Cost Per Month - Standard ($)=11.29, Cost Per Month - Premium ($)=13.54),\n",
              " Row(Country_code='ca', Country='Canada', Total Library Size=6239, No_of_TVShows=4311, No_of_Movies=1928, Cost Per Month - Basic ($)=7.91, Cost Per Month - Standard ($)=11.87, Cost Per Month - Premium ($)=15.03),\n",
              " Row(Country_code='cl', Country='Chile', Total Library Size=4994, No_of_TVShows=3156, No_of_Movies=1838, Cost Per Month - Basic ($)=7.07, Cost Per Month - Standard ($)=9.91, Cost Per Month - Premium ($)=12.74),\n",
              " Row(Country_code='co', Country='Colombia', Total Library Size=4991, No_of_TVShows=3156, No_of_Movies=1835, Cost Per Month - Basic ($)=4.31, Cost Per Month - Standard ($)=6.86, Cost Per Month - Premium ($)=9.93),\n",
              " Row(Country_code='cr', Country='Costa Rica', Total Library Size=4988, No_of_TVShows=3152, No_of_Movies=1836, Cost Per Month - Basic ($)=8.99, Cost Per Month - Standard ($)=12.99, Cost Per Month - Premium ($)=15.99),\n",
              " Row(Country_code='hr', Country='Croatia', Total Library Size=2274, No_of_TVShows=1675, No_of_Movies=599, Cost Per Month - Basic ($)=9.03, Cost Per Month - Standard ($)=11.29, Cost Per Month - Premium ($)=13.54),\n",
              " Row(Country_code='cz', Country='Czechia', Total Library Size=7325, No_of_TVShows=5234, No_of_Movies=2091, Cost Per Month - Basic ($)=8.83, Cost Per Month - Standard ($)=11.49, Cost Per Month - Premium ($)=14.15),\n",
              " Row(Country_code='dk', Country='Denmark', Total Library Size=4558, No_of_TVShows=2978, No_of_Movies=1580, Cost Per Month - Basic ($)=12.0, Cost Per Month - Standard ($)=15.04, Cost Per Month - Premium ($)=19.6),\n",
              " Row(Country_code='ec', Country='Ecuador', Total Library Size=4992, No_of_TVShows=3155, No_of_Movies=1837, Cost Per Month - Basic ($)=7.99, Cost Per Month - Standard ($)=10.99, Cost Per Month - Premium ($)=13.99),\n",
              " Row(Country_code='ee', Country='Estonia', Total Library Size=6456, No_of_TVShows=4486, No_of_Movies=1970, Cost Per Month - Basic ($)=9.03, Cost Per Month - Standard ($)=11.29, Cost Per Month - Premium ($)=13.54),\n",
              " Row(Country_code='fi', Country='Finland', Total Library Size=4045, No_of_TVShows=2638, No_of_Movies=1407, Cost Per Month - Basic ($)=9.03, Cost Per Month - Standard ($)=13.54, Cost Per Month - Premium ($)=18.06),\n",
              " Row(Country_code='fr', Country='France', Total Library Size=5445, No_of_TVShows=3604, No_of_Movies=1841, Cost Per Month - Basic ($)=10.16, Cost Per Month - Standard ($)=15.24, Cost Per Month - Premium ($)=20.32),\n",
              " Row(Country_code='de', Country='Germany', Total Library Size=5668, No_of_TVShows=3814, No_of_Movies=1854, Cost Per Month - Basic ($)=9.03, Cost Per Month - Standard ($)=14.67, Cost Per Month - Premium ($)=20.32),\n",
              " Row(Country_code='gi', Country='Gibraltar', Total Library Size=6167, No_of_TVShows=4079, No_of_Movies=2088, Cost Per Month - Basic ($)=9.03, Cost Per Month - Standard ($)=14.67, Cost Per Month - Premium ($)=20.32),\n",
              " Row(Country_code='gr', Country='Greece', Total Library Size=4772, No_of_TVShows=3344, No_of_Movies=1428, Cost Per Month - Basic ($)=9.03, Cost Per Month - Standard ($)=12.42, Cost Per Month - Premium ($)=15.8),\n",
              " Row(Country_code='gt', Country='Guatemala', Total Library Size=4767, No_of_TVShows=3154, No_of_Movies=1613, Cost Per Month - Basic ($)=7.99, Cost Per Month - Standard ($)=10.99, Cost Per Month - Premium ($)=13.99),\n",
              " Row(Country_code='hn', Country='Honduras', Total Library Size=4989, No_of_TVShows=3154, No_of_Movies=1835, Cost Per Month - Basic ($)=7.99, Cost Per Month - Standard ($)=10.99, Cost Per Month - Premium ($)=13.99),\n",
              " Row(Country_code='hk', Country='Hong Kong', Total Library Size=4746, No_of_TVShows=2883, No_of_Movies=1863, Cost Per Month - Basic ($)=8.08, Cost Per Month - Standard ($)=10.0, Cost Per Month - Premium ($)=11.93),\n",
              " Row(Country_code='hu', Country='Hungary', Total Library Size=6884, No_of_TVShows=4802, No_of_Movies=2082, Cost Per Month - Basic ($)=7.64, Cost Per Month - Standard ($)=10.71, Cost Per Month - Premium ($)=13.78),\n",
              " Row(Country_code='is', Country='Iceland', Total Library Size=6387, No_of_TVShows=4426, No_of_Movies=1961, Cost Per Month - Basic ($)=9.03, Cost Per Month - Standard ($)=14.67, Cost Per Month - Premium ($)=20.32),\n",
              " Row(Country_code='in', Country='India', Total Library Size=5843, No_of_TVShows=3718, No_of_Movies=2125, Cost Per Month - Basic ($)=2.64, Cost Per Month - Standard ($)=6.61, Cost Per Month - Premium ($)=8.6),\n",
              " Row(Country_code='id', Country='Indonesia', Total Library Size=3887, No_of_TVShows=2449, No_of_Movies=1438, Cost Per Month - Basic ($)=8.36, Cost Per Month - Standard ($)=10.66, Cost Per Month - Premium ($)=12.96),\n",
              " Row(Country_code='ie', Country='Ireland', Total Library Size=6486, No_of_TVShows=4515, No_of_Movies=1971, Cost Per Month - Basic ($)=9.03, Cost Per Month - Standard ($)=14.67, Cost Per Month - Premium ($)=20.32),\n",
              " Row(Country_code='il', Country='Israel', Total Library Size=5713, No_of_TVShows=3650, No_of_Movies=2063, Cost Per Month - Basic ($)=10.56, Cost Per Month - Standard ($)=15.05, Cost Per Month - Premium ($)=19.54),\n",
              " Row(Country_code='it', Country='Italy', Total Library Size=5183, No_of_TVShows=3545, No_of_Movies=1638, Cost Per Month - Basic ($)=9.03, Cost Per Month - Standard ($)=14.67, Cost Per Month - Premium ($)=20.32),\n",
              " Row(Country_code='jp', Country='Japan', Total Library Size=5475, No_of_TVShows=3619, No_of_Movies=1856, Cost Per Month - Basic ($)=8.73, Cost Per Month - Standard ($)=13.13, Cost Per Month - Premium ($)=17.45),\n",
              " Row(Country_code='lv', Country='Latvia', Total Library Size=6450, No_of_TVShows=4479, No_of_Movies=1971, Cost Per Month - Basic ($)=9.03, Cost Per Month - Standard ($)=11.29, Cost Per Month - Premium ($)=13.54),\n",
              " Row(Country_code='li', Country='Liechtenstein', Total Library Size=3048, No_of_TVShows=1712, No_of_Movies=1336, Cost Per Month - Basic ($)=12.88, Cost Per Month - Standard ($)=20.46, Cost Per Month - Premium ($)=26.96),\n",
              " Row(Country_code='lt', Country='Lithuania', Total Library Size=6462, No_of_TVShows=4490, No_of_Movies=1972, Cost Per Month - Basic ($)=9.03, Cost Per Month - Standard ($)=11.29, Cost Per Month - Premium ($)=13.54),\n",
              " Row(Country_code='my', Country='Malaysia', Total Library Size=5952, No_of_TVShows=3565, No_of_Movies=2387, Cost Per Month - Basic ($)=8.29, Cost Per Month - Standard ($)=10.65, Cost Per Month - Premium ($)=13.02),\n",
              " Row(Country_code='mx', Country='Mexico', Total Library Size=4993, No_of_TVShows=3158, No_of_Movies=1835, Cost Per Month - Basic ($)=6.62, Cost Per Month - Standard ($)=10.43, Cost Per Month - Premium ($)=14.24),\n",
              " Row(Country_code='md', Country='Moldova', Total Library Size=3937, No_of_TVShows=2473, No_of_Movies=1464, Cost Per Month - Basic ($)=9.03, Cost Per Month - Standard ($)=11.29, Cost Per Month - Premium ($)=13.54),\n",
              " Row(Country_code='mc', Country='Monaco', Total Library Size=5804, No_of_TVShows=3806, No_of_Movies=1998, Cost Per Month - Basic ($)=9.03, Cost Per Month - Standard ($)=13.54, Cost Per Month - Premium ($)=18.06),\n",
              " Row(Country_code='nl', Country='Netherlands', Total Library Size=5376, No_of_TVShows=3779, No_of_Movies=1597, Cost Per Month - Basic ($)=9.03, Cost Per Month - Standard ($)=13.54, Cost Per Month - Premium ($)=18.06),\n",
              " Row(Country_code='nz', Country='New Zealand', Total Library Size=6084, No_of_TVShows=4003, No_of_Movies=2081, Cost Per Month - Basic ($)=8.8, Cost Per Month - Standard ($)=12.53, Cost Per Month - Premium ($)=16.94),\n",
              " Row(Country_code='no', Country='Norway', Total Library Size=4528, No_of_TVShows=2955, No_of_Movies=1573, Cost Per Month - Basic ($)=9.94, Cost Per Month - Standard ($)=12.17, Cost Per Month - Premium ($)=17.75),\n",
              " Row(Country_code='py', Country='Paraguay', Total Library Size=4797, No_of_TVShows=3155, No_of_Movies=1642, Cost Per Month - Basic ($)=8.29, Cost Per Month - Standard ($)=11.49, Cost Per Month - Premium ($)=14.69),\n",
              " Row(Country_code='pe', Country='Peru', Total Library Size=4986, No_of_TVShows=3155, No_of_Movies=1831, Cost Per Month - Basic ($)=6.11, Cost Per Month - Standard ($)=8.56, Cost Per Month - Premium ($)=11.01),\n",
              " Row(Country_code='ph', Country='Philippines', Total Library Size=6362, No_of_TVShows=4154, No_of_Movies=2208, Cost Per Month - Basic ($)=7.35, Cost Per Month - Standard ($)=9.14, Cost Per Month - Premium ($)=10.93),\n",
              " Row(Country_code='pl', Country='Poland', Total Library Size=5109, No_of_TVShows=3512, No_of_Movies=1597, Cost Per Month - Basic ($)=7.13, Cost Per Month - Standard ($)=10.58, Cost Per Month - Premium ($)=14.76),\n",
              " Row(Country_code='pt', Country='Portugal', Total Library Size=5047, No_of_TVShows=3419, No_of_Movies=1628, Cost Per Month - Basic ($)=9.03, Cost Per Month - Standard ($)=13.54, Cost Per Month - Premium ($)=18.06),\n",
              " Row(Country_code='ro', Country='Romania', Total Library Size=5303, No_of_TVShows=3832, No_of_Movies=1471, Cost Per Month - Basic ($)=9.03, Cost Per Month - Standard ($)=11.29, Cost Per Month - Premium ($)=13.54),\n",
              " Row(Country_code='ru', Country='Russia', Total Library Size=5711, No_of_TVShows=3624, No_of_Movies=2087, Cost Per Month - Basic ($)=8.13, Cost Per Month - Standard ($)=10.84, Cost Per Month - Premium ($)=13.56),\n",
              " Row(Country_code='sm', Country='San Marino', Total Library Size=2310, No_of_TVShows=1937, No_of_Movies=373, Cost Per Month - Basic ($)=9.03, Cost Per Month - Standard ($)=14.67, Cost Per Month - Premium ($)=20.32),\n",
              " Row(Country_code='sg', Country='Singapore', Total Library Size=6303, No_of_TVShows=4109, No_of_Movies=2194, Cost Per Month - Basic ($)=9.51, Cost Per Month - Standard ($)=12.81, Cost Per Month - Premium ($)=16.11),\n",
              " Row(Country_code='sk', Country='Slovakia', Total Library Size=7035, No_of_TVShows=5055, No_of_Movies=1980, Cost Per Month - Basic ($)=9.03, Cost Per Month - Standard ($)=11.29, Cost Per Month - Premium ($)=13.54),\n",
              " Row(Country_code='za', Country='South Africa', Total Library Size=5736, No_of_TVShows=3686, No_of_Movies=2050, Cost Per Month - Basic ($)=6.26, Cost Per Month - Standard ($)=10.05, Cost Per Month - Premium ($)=12.58),\n",
              " Row(Country_code='kr', Country='South Korea', Total Library Size=5195, No_of_TVShows=3334, No_of_Movies=1861, Cost Per Month - Basic ($)=8.07, Cost Per Month - Standard ($)=11.47, Cost Per Month - Premium ($)=14.45),\n",
              " Row(Country_code='es', Country='Spain', Total Library Size=5229, No_of_TVShows=3536, No_of_Movies=1693, Cost Per Month - Basic ($)=9.03, Cost Per Month - Standard ($)=14.67, Cost Per Month - Premium ($)=20.32),\n",
              " Row(Country_code='se', Country='Sweden', Total Library Size=4361, No_of_TVShows=2973, No_of_Movies=1388, Cost Per Month - Basic ($)=10.9, Cost Per Month - Standard ($)=14.2, Cost Per Month - Premium ($)=19.7),\n",
              " Row(Country_code='ch', Country='Switzerland', Total Library Size=5506, No_of_TVShows=3654, No_of_Movies=1852, Cost Per Month - Basic ($)=12.88, Cost Per Month - Standard ($)=20.46, Cost Per Month - Premium ($)=26.96),\n",
              " Row(Country_code='tw', Country='Taiwan', Total Library Size=5105, No_of_TVShows=3134, No_of_Movies=1971, Cost Per Month - Basic ($)=9.74, Cost Per Month - Standard ($)=11.9, Cost Per Month - Premium ($)=14.07),\n",
              " Row(Country_code='th', Country='Thailand', Total Library Size=4948, No_of_TVShows=2977, No_of_Movies=1971, Cost Per Month - Basic ($)=8.34, Cost Per Month - Standard ($)=10.43, Cost Per Month - Premium ($)=12.52),\n",
              " Row(Country_code='tr', Country='Turkey', Total Library Size=4639, No_of_TVShows=2930, No_of_Movies=1709, Cost Per Month - Basic ($)=1.97, Cost Per Month - Standard ($)=3.0, Cost Per Month - Premium ($)=4.02),\n",
              " Row(Country_code='ua', Country='Ukraine', Total Library Size=5336, No_of_TVShows=3261, No_of_Movies=2075, Cost Per Month - Basic ($)=5.64, Cost Per Month - Standard ($)=8.46, Cost Per Month - Premium ($)=11.29),\n",
              " Row(Country_code='gb', Country='United Kingdom', Total Library Size=6643, No_of_TVShows=4551, No_of_Movies=2092, Cost Per Month - Basic ($)=7.91, Cost Per Month - Standard ($)=13.2, Cost Per Month - Premium ($)=18.48),\n",
              " Row(Country_code='us', Country='United States', Total Library Size=5818, No_of_TVShows=3826, No_of_Movies=1992, Cost Per Month - Basic ($)=8.99, Cost Per Month - Standard ($)=13.99, Cost Per Month - Premium ($)=17.99),\n",
              " Row(Country_code='uy', Country='Uruguay', Total Library Size=4989, No_of_TVShows=3154, No_of_Movies=1835, Cost Per Month - Basic ($)=8.99, Cost Per Month - Standard ($)=12.99, Cost Per Month - Premium ($)=15.99),\n",
              " Row(Country_code='ve', Country='Venezuela', Total Library Size=4797, No_of_TVShows=3154, No_of_Movies=1643, Cost Per Month - Basic ($)=7.99, Cost Per Month - Standard ($)=10.99, Cost Per Month - Premium ($)=13.99)]"
            ]
          },
          "metadata": {},
          "execution_count": 10
        }
      ]
    },
    {
      "cell_type": "code",
      "source": [
        "from pyspark.sql import functions as F"
      ],
      "metadata": {
        "id": "lPUDsSBoDoCx"
      },
      "execution_count": 11,
      "outputs": []
    },
    {
      "cell_type": "markdown",
      "source": [
        "# Week 1\n",
        "\n",
        "Col Selection, filtering and Simple dataframe operations![hqdefault.jpg](data:image/jpeg;base64,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)"
      ],
      "metadata": {
        "id": "XK82s31uiEkG"
      }
    },
    {
      "cell_type": "markdown",
      "source": [
        "## Selection of a column"
      ],
      "metadata": {
        "id": "_drvCRR8EXy8"
      }
    },
    {
      "cell_type": "code",
      "source": [
        "data.select(\"Country\").show()"
      ],
      "metadata": {
        "colab": {
          "base_uri": "https://localhost:8080/"
        },
        "id": "C8Xq72w9Er_d",
        "outputId": "24577897-bba1-4073-b581-61ab418a5e30"
      },
      "execution_count": 12,
      "outputs": [
        {
          "output_type": "stream",
          "name": "stdout",
          "text": [
            "+----------+\n",
            "|   Country|\n",
            "+----------+\n",
            "| Argentina|\n",
            "| Australia|\n",
            "|   Austria|\n",
            "|   Belgium|\n",
            "|   Bolivia|\n",
            "|    Brazil|\n",
            "|  Bulgaria|\n",
            "|    Canada|\n",
            "|     Chile|\n",
            "|  Colombia|\n",
            "|Costa Rica|\n",
            "|   Croatia|\n",
            "|   Czechia|\n",
            "|   Denmark|\n",
            "|   Ecuador|\n",
            "|   Estonia|\n",
            "|   Finland|\n",
            "|    France|\n",
            "|   Germany|\n",
            "| Gibraltar|\n",
            "+----------+\n",
            "only showing top 20 rows\n",
            "\n"
          ]
        }
      ]
    },
    {
      "cell_type": "code",
      "source": [
        "data.select(\"Country\", \"Total Library Size\").show()"
      ],
      "metadata": {
        "colab": {
          "base_uri": "https://localhost:8080/"
        },
        "id": "r8bjyDHJEo7w",
        "outputId": "268b0a71-c752-487f-acb4-2660f36e7504"
      },
      "execution_count": 13,
      "outputs": [
        {
          "output_type": "stream",
          "name": "stdout",
          "text": [
            "+----------+------------------+\n",
            "|   Country|Total Library Size|\n",
            "+----------+------------------+\n",
            "| Argentina|              4760|\n",
            "| Australia|              6114|\n",
            "|   Austria|              5640|\n",
            "|   Belgium|              4990|\n",
            "|   Bolivia|              4991|\n",
            "|    Brazil|              4972|\n",
            "|  Bulgaria|              6797|\n",
            "|    Canada|              6239|\n",
            "|     Chile|              4994|\n",
            "|  Colombia|              4991|\n",
            "|Costa Rica|              4988|\n",
            "|   Croatia|              2274|\n",
            "|   Czechia|              7325|\n",
            "|   Denmark|              4558|\n",
            "|   Ecuador|              4992|\n",
            "|   Estonia|              6456|\n",
            "|   Finland|              4045|\n",
            "|    France|              5445|\n",
            "|   Germany|              5668|\n",
            "| Gibraltar|              6167|\n",
            "+----------+------------------+\n",
            "only showing top 20 rows\n",
            "\n"
          ]
        }
      ]
    },
    {
      "cell_type": "code",
      "source": [
        "data.select(\"Country\", \"Total Library Size\", \"`No. of Movies`\").show()"
      ],
      "metadata": {
        "colab": {
          "base_uri": "https://localhost:8080/"
        },
        "id": "ALG-jga2EXGq",
        "outputId": "6884b457-e79a-4834-ea33-0b3942701881"
      },
      "execution_count": null,
      "outputs": [
        {
          "output_type": "stream",
          "name": "stdout",
          "text": [
            "+----------+------------------+-------------+\n",
            "|   Country|Total Library Size|No. of Movies|\n",
            "+----------+------------------+-------------+\n",
            "| Argentina|              4760|         1606|\n",
            "| Australia|              6114|         2064|\n",
            "|   Austria|              5640|         1861|\n",
            "|   Belgium|              4990|         1616|\n",
            "|   Bolivia|              4991|         1836|\n",
            "|    Brazil|              4972|         1810|\n",
            "|  Bulgaria|              6797|         1978|\n",
            "|    Canada|              6239|         1928|\n",
            "|     Chile|              4994|         1838|\n",
            "|  Colombia|              4991|         1835|\n",
            "|Costa Rica|              4988|         1836|\n",
            "|   Croatia|              2274|          599|\n",
            "|   Czechia|              7325|         2091|\n",
            "|   Denmark|              4558|         1580|\n",
            "|   Ecuador|              4992|         1837|\n",
            "|   Estonia|              6456|         1970|\n",
            "|   Finland|              4045|         1407|\n",
            "|    France|              5445|         1841|\n",
            "|   Germany|              5668|         1854|\n",
            "| Gibraltar|              6167|         2088|\n",
            "+----------+------------------+-------------+\n",
            "only showing top 20 rows\n",
            "\n"
          ]
        }
      ]
    },
    {
      "cell_type": "markdown",
      "source": [
        "## Filter Operation"
      ],
      "metadata": {
        "id": "qqm_MKAjGIDI"
      }
    },
    {
      "cell_type": "code",
      "source": [
        "data.filter(data[\"Total Library Size\"] > 5000).show()"
      ],
      "metadata": {
        "colab": {
          "base_uri": "https://localhost:8080/"
        },
        "id": "KLsO7G7aGJxI",
        "outputId": "2a5a8e85-33eb-4ede-b51d-af1f270dfd61"
      },
      "execution_count": null,
      "outputs": [
        {
          "output_type": "stream",
          "name": "stdout",
          "text": [
            "+------------+---------+------------------+---------------+-------------+--------------------------+-----------------------------+----------------------------+\n",
            "|Country_code|  Country|Total Library Size|No. of TV Shows|No. of Movies|Cost Per Month - Basic ($)|Cost Per Month - Standard ($)|Cost Per Month - Premium ($)|\n",
            "+------------+---------+------------------+---------------+-------------+--------------------------+-----------------------------+----------------------------+\n",
            "|          au|Australia|              6114|           4050|         2064|                      7.84|                        12.12|                       16.39|\n",
            "|          at|  Austria|              5640|           3779|         1861|                      9.03|                        14.67|                       20.32|\n",
            "|          bg| Bulgaria|              6797|           4819|         1978|                      9.03|                        11.29|                       13.54|\n",
            "|          ca|   Canada|              6239|           4311|         1928|                      7.91|                        11.87|                       15.03|\n",
            "|          cz|  Czechia|              7325|           5234|         2091|                      8.83|                        11.49|                       14.15|\n",
            "|          ee|  Estonia|              6456|           4486|         1970|                      9.03|                        11.29|                       13.54|\n",
            "|          fr|   France|              5445|           3604|         1841|                     10.16|                        15.24|                       20.32|\n",
            "|          de|  Germany|              5668|           3814|         1854|                      9.03|                        14.67|                       20.32|\n",
            "|          gi|Gibraltar|              6167|           4079|         2088|                      9.03|                        14.67|                       20.32|\n",
            "|          hu|  Hungary|              6884|           4802|         2082|                      7.64|                        10.71|                       13.78|\n",
            "|          is|  Iceland|              6387|           4426|         1961|                      9.03|                        14.67|                       20.32|\n",
            "|          in|    India|              5843|           3718|         2125|                      2.64|                         6.61|                         8.6|\n",
            "|          ie|  Ireland|              6486|           4515|         1971|                      9.03|                        14.67|                       20.32|\n",
            "|          il|   Israel|              5713|           3650|         2063|                     10.56|                        15.05|                       19.54|\n",
            "|          it|    Italy|              5183|           3545|         1638|                      9.03|                        14.67|                       20.32|\n",
            "|          jp|    Japan|              5475|           3619|         1856|                      8.73|                        13.13|                       17.45|\n",
            "|          lv|   Latvia|              6450|           4479|         1971|                      9.03|                        11.29|                       13.54|\n",
            "|          lt|Lithuania|              6462|           4490|         1972|                      9.03|                        11.29|                       13.54|\n",
            "|          my| Malaysia|              5952|           3565|         2387|                      8.29|                        10.65|                       13.02|\n",
            "|          mc|   Monaco|              5804|           3806|         1998|                      9.03|                        13.54|                       18.06|\n",
            "+------------+---------+------------------+---------------+-------------+--------------------------+-----------------------------+----------------------------+\n",
            "only showing top 20 rows\n",
            "\n"
          ]
        }
      ]
    },
    {
      "cell_type": "markdown",
      "source": [
        "### Filtering Questions"
      ],
      "metadata": {
        "id": "DV7S79c6GfS6"
      }
    },
    {
      "cell_type": "code",
      "source": [
        "# Filter all the countries where the number of movies offered are > 2000\n",
        "data.filter(data[\"`No. of Movies`\"] > 2000).show()"
      ],
      "metadata": {
        "colab": {
          "base_uri": "https://localhost:8080/"
        },
        "id": "NoVzrwBHGhNH",
        "outputId": "eda7185b-6c45-49a6-bc39-2b69bf87fb04"
      },
      "execution_count": null,
      "outputs": [
        {
          "output_type": "stream",
          "name": "stdout",
          "text": [
            "+------------+--------------+------------------+---------------+-------------+--------------------------+-----------------------------+----------------------------+\n",
            "|Country_code|       Country|Total Library Size|No. of TV Shows|No. of Movies|Cost Per Month - Basic ($)|Cost Per Month - Standard ($)|Cost Per Month - Premium ($)|\n",
            "+------------+--------------+------------------+---------------+-------------+--------------------------+-----------------------------+----------------------------+\n",
            "|          au|     Australia|              6114|           4050|         2064|                      7.84|                        12.12|                       16.39|\n",
            "|          cz|       Czechia|              7325|           5234|         2091|                      8.83|                        11.49|                       14.15|\n",
            "|          gi|     Gibraltar|              6167|           4079|         2088|                      9.03|                        14.67|                       20.32|\n",
            "|          hu|       Hungary|              6884|           4802|         2082|                      7.64|                        10.71|                       13.78|\n",
            "|          in|         India|              5843|           3718|         2125|                      2.64|                         6.61|                         8.6|\n",
            "|          il|        Israel|              5713|           3650|         2063|                     10.56|                        15.05|                       19.54|\n",
            "|          my|      Malaysia|              5952|           3565|         2387|                      8.29|                        10.65|                       13.02|\n",
            "|          nz|   New Zealand|              6084|           4003|         2081|                       8.8|                        12.53|                       16.94|\n",
            "|          ph|   Philippines|              6362|           4154|         2208|                      7.35|                         9.14|                       10.93|\n",
            "|          ru|        Russia|              5711|           3624|         2087|                      8.13|                        10.84|                       13.56|\n",
            "|          sg|     Singapore|              6303|           4109|         2194|                      9.51|                        12.81|                       16.11|\n",
            "|          za|  South Africa|              5736|           3686|         2050|                      6.26|                        10.05|                       12.58|\n",
            "|          ua|       Ukraine|              5336|           3261|         2075|                      5.64|                         8.46|                       11.29|\n",
            "|          gb|United Kingdom|              6643|           4551|         2092|                      7.91|                         13.2|                       18.48|\n",
            "+------------+--------------+------------------+---------------+-------------+--------------------------+-----------------------------+----------------------------+\n",
            "\n"
          ]
        }
      ]
    },
    {
      "cell_type": "markdown",
      "source": [
        "Filter all the countries where the number of movies offered are > 2000 AND \"Cost Per Month - Basic ($)\" is greater than 8 per month"
      ],
      "metadata": {
        "id": "OyDYQxnTHLvJ"
      }
    },
    {
      "cell_type": "code",
      "source": [
        "# Filter all the countries where the number of movies offered are > 2000\n",
        "data.filter((data[\"`Cost Per Month - Basic ($)`\"] > 8) & (data[\"`No. of Movies`\"] > 2000)).show()"
      ],
      "metadata": {
        "colab": {
          "base_uri": "https://localhost:8080/"
        },
        "id": "Hq3BmxgyHoww",
        "outputId": "e8c6851f-ea27-49b4-fd77-e4fcd6603d5e"
      },
      "execution_count": null,
      "outputs": [
        {
          "output_type": "stream",
          "name": "stdout",
          "text": [
            "+------------+-----------+------------------+---------------+-------------+--------------------------+-----------------------------+----------------------------+\n",
            "|Country_code|    Country|Total Library Size|No. of TV Shows|No. of Movies|Cost Per Month - Basic ($)|Cost Per Month - Standard ($)|Cost Per Month - Premium ($)|\n",
            "+------------+-----------+------------------+---------------+-------------+--------------------------+-----------------------------+----------------------------+\n",
            "|          cz|    Czechia|              7325|           5234|         2091|                      8.83|                        11.49|                       14.15|\n",
            "|          gi|  Gibraltar|              6167|           4079|         2088|                      9.03|                        14.67|                       20.32|\n",
            "|          il|     Israel|              5713|           3650|         2063|                     10.56|                        15.05|                       19.54|\n",
            "|          my|   Malaysia|              5952|           3565|         2387|                      8.29|                        10.65|                       13.02|\n",
            "|          nz|New Zealand|              6084|           4003|         2081|                       8.8|                        12.53|                       16.94|\n",
            "|          ru|     Russia|              5711|           3624|         2087|                      8.13|                        10.84|                       13.56|\n",
            "|          sg|  Singapore|              6303|           4109|         2194|                      9.51|                        12.81|                       16.11|\n",
            "+------------+-----------+------------------+---------------+-------------+--------------------------+-----------------------------+----------------------------+\n",
            "\n"
          ]
        }
      ]
    },
    {
      "cell_type": "code",
      "source": [
        "# Filter countries with library size > 5000\n",
        "data.filter(data[\"Total Library Size\"] > 5000).show()"
      ],
      "metadata": {
        "colab": {
          "base_uri": "https://localhost:8080/"
        },
        "id": "OCeIsxKaLiC8",
        "outputId": "ffc5718b-d575-4e3a-a179-ea068736476f"
      },
      "execution_count": null,
      "outputs": [
        {
          "output_type": "stream",
          "name": "stdout",
          "text": [
            "+------------+---------+------------------+---------------+-------------+--------------------------+-----------------------------+----------------------------+\n",
            "|Country_code|  Country|Total Library Size|No. of TV Shows|No. of Movies|Cost Per Month - Basic ($)|Cost Per Month - Standard ($)|Cost Per Month - Premium ($)|\n",
            "+------------+---------+------------------+---------------+-------------+--------------------------+-----------------------------+----------------------------+\n",
            "|          au|Australia|              6114|           4050|         2064|                      7.84|                        12.12|                       16.39|\n",
            "|          at|  Austria|              5640|           3779|         1861|                      9.03|                        14.67|                       20.32|\n",
            "|          bg| Bulgaria|              6797|           4819|         1978|                      9.03|                        11.29|                       13.54|\n",
            "|          ca|   Canada|              6239|           4311|         1928|                      7.91|                        11.87|                       15.03|\n",
            "|          cz|  Czechia|              7325|           5234|         2091|                      8.83|                        11.49|                       14.15|\n",
            "|          ee|  Estonia|              6456|           4486|         1970|                      9.03|                        11.29|                       13.54|\n",
            "|          fr|   France|              5445|           3604|         1841|                     10.16|                        15.24|                       20.32|\n",
            "|          de|  Germany|              5668|           3814|         1854|                      9.03|                        14.67|                       20.32|\n",
            "|          gi|Gibraltar|              6167|           4079|         2088|                      9.03|                        14.67|                       20.32|\n",
            "|          hu|  Hungary|              6884|           4802|         2082|                      7.64|                        10.71|                       13.78|\n",
            "|          is|  Iceland|              6387|           4426|         1961|                      9.03|                        14.67|                       20.32|\n",
            "|          in|    India|              5843|           3718|         2125|                      2.64|                         6.61|                         8.6|\n",
            "|          ie|  Ireland|              6486|           4515|         1971|                      9.03|                        14.67|                       20.32|\n",
            "|          il|   Israel|              5713|           3650|         2063|                     10.56|                        15.05|                       19.54|\n",
            "|          it|    Italy|              5183|           3545|         1638|                      9.03|                        14.67|                       20.32|\n",
            "|          jp|    Japan|              5475|           3619|         1856|                      8.73|                        13.13|                       17.45|\n",
            "|          lv|   Latvia|              6450|           4479|         1971|                      9.03|                        11.29|                       13.54|\n",
            "|          lt|Lithuania|              6462|           4490|         1972|                      9.03|                        11.29|                       13.54|\n",
            "|          my| Malaysia|              5952|           3565|         2387|                      8.29|                        10.65|                       13.02|\n",
            "|          mc|   Monaco|              5804|           3806|         1998|                      9.03|                        13.54|                       18.06|\n",
            "+------------+---------+------------------+---------------+-------------+--------------------------+-----------------------------+----------------------------+\n",
            "only showing top 20 rows\n",
            "\n"
          ]
        }
      ]
    },
    {
      "cell_type": "code",
      "source": [
        "# Select countries with Premium plan cost < $15\n",
        "data.filter(data[\"Cost Per Month - Premium ($)\"] < 15).show()"
      ],
      "metadata": {
        "colab": {
          "base_uri": "https://localhost:8080/"
        },
        "id": "jieDVSa9LsCi",
        "outputId": "37dba92c-4cb1-4b51-9447-f08fcff67c0d"
      },
      "execution_count": null,
      "outputs": [
        {
          "output_type": "stream",
          "name": "stdout",
          "text": [
            "+------------+---------+------------------+---------------+-------------+--------------------------+-----------------------------+----------------------------+\n",
            "|Country_code|  Country|Total Library Size|No. of TV Shows|No. of Movies|Cost Per Month - Basic ($)|Cost Per Month - Standard ($)|Cost Per Month - Premium ($)|\n",
            "+------------+---------+------------------+---------------+-------------+--------------------------+-----------------------------+----------------------------+\n",
            "|          ar|Argentina|              4760|           3154|         1606|                      3.74|                          6.3|                        9.26|\n",
            "|          bo|  Bolivia|              4991|           3155|         1836|                      7.99|                        10.99|                       13.99|\n",
            "|          br|   Brazil|              4972|           3162|         1810|                      4.61|                         7.11|                        9.96|\n",
            "|          bg| Bulgaria|              6797|           4819|         1978|                      9.03|                        11.29|                       13.54|\n",
            "|          cl|    Chile|              4994|           3156|         1838|                      7.07|                         9.91|                       12.74|\n",
            "|          co| Colombia|              4991|           3156|         1835|                      4.31|                         6.86|                        9.93|\n",
            "|          hr|  Croatia|              2274|           1675|          599|                      9.03|                        11.29|                       13.54|\n",
            "|          cz|  Czechia|              7325|           5234|         2091|                      8.83|                        11.49|                       14.15|\n",
            "|          ec|  Ecuador|              4992|           3155|         1837|                      7.99|                        10.99|                       13.99|\n",
            "|          ee|  Estonia|              6456|           4486|         1970|                      9.03|                        11.29|                       13.54|\n",
            "|          gt|Guatemala|              4767|           3154|         1613|                      7.99|                        10.99|                       13.99|\n",
            "|          hn| Honduras|              4989|           3154|         1835|                      7.99|                        10.99|                       13.99|\n",
            "|          hk|Hong Kong|              4746|           2883|         1863|                      8.08|                         10.0|                       11.93|\n",
            "|          hu|  Hungary|              6884|           4802|         2082|                      7.64|                        10.71|                       13.78|\n",
            "|          in|    India|              5843|           3718|         2125|                      2.64|                         6.61|                         8.6|\n",
            "|          id|Indonesia|              3887|           2449|         1438|                      8.36|                        10.66|                       12.96|\n",
            "|          lv|   Latvia|              6450|           4479|         1971|                      9.03|                        11.29|                       13.54|\n",
            "|          lt|Lithuania|              6462|           4490|         1972|                      9.03|                        11.29|                       13.54|\n",
            "|          my| Malaysia|              5952|           3565|         2387|                      8.29|                        10.65|                       13.02|\n",
            "|          mx|   Mexico|              4993|           3158|         1835|                      6.62|                        10.43|                       14.24|\n",
            "+------------+---------+------------------+---------------+-------------+--------------------------+-----------------------------+----------------------------+\n",
            "only showing top 20 rows\n",
            "\n"
          ]
        }
      ]
    },
    {
      "cell_type": "code",
      "source": [
        "# Filter for more TV shows than movies\n",
        "data.filter(data[\"`No. of TV Shows`\"] > data[\"`No. of Movies`\"]).show()"
      ],
      "metadata": {
        "colab": {
          "base_uri": "https://localhost:8080/"
        },
        "id": "xUt0P6M8LqCI",
        "outputId": "2b5ebd72-7946-4ea2-db26-b5799ba540f5"
      },
      "execution_count": null,
      "outputs": [
        {
          "output_type": "stream",
          "name": "stdout",
          "text": [
            "+------------+----------+------------------+---------------+-------------+--------------------------+-----------------------------+----------------------------+\n",
            "|Country_code|   Country|Total Library Size|No. of TV Shows|No. of Movies|Cost Per Month - Basic ($)|Cost Per Month - Standard ($)|Cost Per Month - Premium ($)|\n",
            "+------------+----------+------------------+---------------+-------------+--------------------------+-----------------------------+----------------------------+\n",
            "|          ar| Argentina|              4760|           3154|         1606|                      3.74|                          6.3|                        9.26|\n",
            "|          au| Australia|              6114|           4050|         2064|                      7.84|                        12.12|                       16.39|\n",
            "|          at|   Austria|              5640|           3779|         1861|                      9.03|                        14.67|                       20.32|\n",
            "|          be|   Belgium|              4990|           3374|         1616|                     10.16|                        15.24|                       20.32|\n",
            "|          bo|   Bolivia|              4991|           3155|         1836|                      7.99|                        10.99|                       13.99|\n",
            "|          br|    Brazil|              4972|           3162|         1810|                      4.61|                         7.11|                        9.96|\n",
            "|          bg|  Bulgaria|              6797|           4819|         1978|                      9.03|                        11.29|                       13.54|\n",
            "|          ca|    Canada|              6239|           4311|         1928|                      7.91|                        11.87|                       15.03|\n",
            "|          cl|     Chile|              4994|           3156|         1838|                      7.07|                         9.91|                       12.74|\n",
            "|          co|  Colombia|              4991|           3156|         1835|                      4.31|                         6.86|                        9.93|\n",
            "|          cr|Costa Rica|              4988|           3152|         1836|                      8.99|                        12.99|                       15.99|\n",
            "|          hr|   Croatia|              2274|           1675|          599|                      9.03|                        11.29|                       13.54|\n",
            "|          cz|   Czechia|              7325|           5234|         2091|                      8.83|                        11.49|                       14.15|\n",
            "|          dk|   Denmark|              4558|           2978|         1580|                      12.0|                        15.04|                        19.6|\n",
            "|          ec|   Ecuador|              4992|           3155|         1837|                      7.99|                        10.99|                       13.99|\n",
            "|          ee|   Estonia|              6456|           4486|         1970|                      9.03|                        11.29|                       13.54|\n",
            "|          fi|   Finland|              4045|           2638|         1407|                      9.03|                        13.54|                       18.06|\n",
            "|          fr|    France|              5445|           3604|         1841|                     10.16|                        15.24|                       20.32|\n",
            "|          de|   Germany|              5668|           3814|         1854|                      9.03|                        14.67|                       20.32|\n",
            "|          gi| Gibraltar|              6167|           4079|         2088|                      9.03|                        14.67|                       20.32|\n",
            "+------------+----------+------------------+---------------+-------------+--------------------------+-----------------------------+----------------------------+\n",
            "only showing top 20 rows\n",
            "\n"
          ]
        }
      ]
    },
    {
      "cell_type": "markdown",
      "source": [
        "## Selection based on a condition\n",
        "\n",
        "Print 1 for a condition otherwise 0"
      ],
      "metadata": {
        "id": "F-ubS0P3FyG1"
      }
    },
    {
      "cell_type": "code",
      "source": [
        "# all coutries with\n",
        "data.select(\"Country\",\n",
        "            F.when(data[\"Total Library Size\"] < 7000 , 1).otherwise(0)\n",
        ").show()"
      ],
      "metadata": {
        "colab": {
          "base_uri": "https://localhost:8080/"
        },
        "id": "UUJEr9lBF_YA",
        "outputId": "56c22717-b494-4d7c-833e-7b6b082deadd"
      },
      "execution_count": null,
      "outputs": [
        {
          "output_type": "stream",
          "name": "stdout",
          "text": [
            "+----------+-------------------------------------------------------+\n",
            "|   Country|CASE WHEN (Total Library Size < 7000) THEN 1 ELSE 0 END|\n",
            "+----------+-------------------------------------------------------+\n",
            "| Argentina|                                                      1|\n",
            "| Australia|                                                      1|\n",
            "|   Austria|                                                      1|\n",
            "|   Belgium|                                                      1|\n",
            "|   Bolivia|                                                      1|\n",
            "|    Brazil|                                                      1|\n",
            "|  Bulgaria|                                                      1|\n",
            "|    Canada|                                                      1|\n",
            "|     Chile|                                                      1|\n",
            "|  Colombia|                                                      1|\n",
            "|Costa Rica|                                                      1|\n",
            "|   Croatia|                                                      1|\n",
            "|   Czechia|                                                      0|\n",
            "|   Denmark|                                                      1|\n",
            "|   Ecuador|                                                      1|\n",
            "|   Estonia|                                                      1|\n",
            "|   Finland|                                                      1|\n",
            "|    France|                                                      1|\n",
            "|   Germany|                                                      1|\n",
            "| Gibraltar|                                                      1|\n",
            "+----------+-------------------------------------------------------+\n",
            "only showing top 20 rows\n",
            "\n"
          ]
        }
      ]
    },
    {
      "cell_type": "markdown",
      "source": [
        "## Challenging Questions\n",
        "\n",
        "1. Find the countries with the lowest no of movies offered and the higest.\n",
        "\n",
        "2. Determine whether the countries are in the 1st, 2nd, 3rd or 4th quartile of the distribution of values in the no of movies column. We want a column that says 1,2,3, ocr 4 denoting those quartiles respectively"
      ],
      "metadata": {
        "id": "7VMaUjXWLepk"
      }
    },
    {
      "cell_type": "markdown",
      "source": [
        "1. First Question"
      ],
      "metadata": {
        "id": "IJqMmp9mT3E4"
      }
    },
    {
      "cell_type": "code",
      "source": [
        "# find min and max\n",
        "data.describe('No_of_Movies').show()"
      ],
      "metadata": {
        "colab": {
          "base_uri": "https://localhost:8080/"
        },
        "id": "eA-JSdJiSKS1",
        "outputId": "4ee4c015-ccc1-43c8-d781-2e8f2119787e"
      },
      "execution_count": null,
      "outputs": [
        {
          "output_type": "stream",
          "name": "stdout",
          "text": [
            "+-------+------------------+\n",
            "|summary|      No_of_Movies|\n",
            "+-------+------------------+\n",
            "|  count|                65|\n",
            "|   mean|1795.4615384615386|\n",
            "| stddev| 327.2797483099835|\n",
            "|    min|               373|\n",
            "|    max|              2387|\n",
            "+-------+------------------+\n",
            "\n"
          ]
        }
      ]
    },
    {
      "cell_type": "code",
      "source": [
        "# can use either filtering or F.when to select the records\n",
        "# (For Smartasses: Yes there is a way to get it by aggregating) but we haven't covered it yet\n",
        "data.filter(data[\"No_of_Movies\"] == 373).show()"
      ],
      "metadata": {
        "colab": {
          "base_uri": "https://localhost:8080/"
        },
        "id": "MLiV3EoiSqNA",
        "outputId": "265e07ec-5c85-47a4-f9b2-241998e28eb4"
      },
      "execution_count": null,
      "outputs": [
        {
          "output_type": "stream",
          "name": "stdout",
          "text": [
            "+------------+----------+------------------+-------------+------------+--------------------------+-----------------------------+----------------------------+\n",
            "|Country_code|   Country|Total Library Size|No_of_TVShows|No_of_Movies|Cost Per Month - Basic ($)|Cost Per Month - Standard ($)|Cost Per Month - Premium ($)|\n",
            "+------------+----------+------------------+-------------+------------+--------------------------+-----------------------------+----------------------------+\n",
            "|          sm|San Marino|              2310|         1937|         373|                      9.03|                        14.67|                       20.32|\n",
            "+------------+----------+------------------+-------------+------------+--------------------------+-----------------------------+----------------------------+\n",
            "\n"
          ]
        }
      ]
    },
    {
      "cell_type": "code",
      "source": [
        "data.filter(data[\"No_of_Movies\"] == 2387).show()"
      ],
      "metadata": {
        "colab": {
          "base_uri": "https://localhost:8080/"
        },
        "id": "wdXsFGMhTLpK",
        "outputId": "37b83594-8045-44cb-c96e-69751dfc652c"
      },
      "execution_count": null,
      "outputs": [
        {
          "output_type": "stream",
          "name": "stdout",
          "text": [
            "+------------+--------+------------------+-------------+------------+--------------------------+-----------------------------+----------------------------+\n",
            "|Country_code| Country|Total Library Size|No_of_TVShows|No_of_Movies|Cost Per Month - Basic ($)|Cost Per Month - Standard ($)|Cost Per Month - Premium ($)|\n",
            "+------------+--------+------------------+-------------+------------+--------------------------+-----------------------------+----------------------------+\n",
            "|          my|Malaysia|              5952|         3565|        2387|                      8.29|                        10.65|                       13.02|\n",
            "+------------+--------+------------------+-------------+------------+--------------------------+-----------------------------+----------------------------+\n",
            "\n"
          ]
        }
      ]
    },
    {
      "cell_type": "markdown",
      "source": [
        "2. Second Question\n",
        "\n",
        "Hey Nerds... yes I know you can use custom Lambda Functions to do this.. I get it you're smart.. while we cover them for the other mere mortals in the class in the next lecture, please contend with doing it in Lowly Earthly Peasantly Python"
      ],
      "metadata": {
        "id": "jMEYm8WAT9uD"
      }
    },
    {
      "cell_type": "code",
      "source": [
        "# convert Spark to Python List\n",
        "no_of_mov_raw = data.select(\"No_of_Movies\").collect()"
      ],
      "metadata": {
        "id": "kj_vaeV_T9TV"
      },
      "execution_count": null,
      "outputs": []
    },
    {
      "cell_type": "code",
      "source": [
        "# convert raw spark types to ints\n",
        "no_of_mov = []\n",
        "for i in no_of_mov_raw:\n",
        "  no_of_mov.append(i[0])"
      ],
      "metadata": {
        "id": "-OuYsm_7UwOT"
      },
      "execution_count": null,
      "outputs": []
    },
    {
      "cell_type": "code",
      "source": [
        "# get quartiles values for the list of ints\n",
        "import statistics\n",
        "\n",
        "# Calculate quartiles\n",
        "q1, q2, q3 = statistics.quantiles(no_of_mov, n=4)"
      ],
      "metadata": {
        "id": "fIi_BsnIU-vu"
      },
      "execution_count": null,
      "outputs": []
    },
    {
      "cell_type": "code",
      "source": [
        "# all coutries with\n",
        "data.select(\"Country\",\n",
        "            F.when(data[\"No_of_Movies\"] < 1622.0 , 1)\n",
        "            .otherwise(\n",
        "                F.when( (data[\"No_of_Movies\"] > 1622.0) & (data[\"No_of_Movies\"] < 1841.0), 2).otherwise(\n",
        "                    F.when( (data[\"No_of_Movies\"] > 1841.0) & (data[\"No_of_Movies\"] < 1986.0), 3).otherwise(4)\n",
        "                )\n",
        "            ).alias(\"Q_of_movies\")\n",
        ").show()"
      ],
      "metadata": {
        "id": "x0X2Z7-2ZFcB"
      },
      "execution_count": null,
      "outputs": []
    },
    {
      "cell_type": "code",
      "source": [
        "# all coutries with\n",
        "data.select(\"Country\",\n",
        "            F.when(data[\"No_of_Movies\"] < 1622.0 , 1)\n",
        "            .otherwise(\n",
        "                F.when( (data[\"No_of_Movies\"] > 1622.0) & (data[\"No_of_Movies\"] < 1841.0), 2).otherwise(\n",
        "                    F.when( (data[\"No_of_Movies\"] > 1841.0) & (data[\"No_of_Movies\"] < 1986.0), 3).otherwise(4)\n",
        "                )\n",
        "            ).alias(\"Q_of_movies\")\n",
        ").show()"
      ],
      "metadata": {
        "colab": {
          "base_uri": "https://localhost:8080/"
        },
        "id": "Hphfh-WUV4CJ",
        "outputId": "ed7e5dd8-a17b-4405-d5ae-95b62d3b9d5c"
      },
      "execution_count": null,
      "outputs": [
        {
          "output_type": "stream",
          "name": "stdout",
          "text": [
            "+----------+-----------+\n",
            "|   Country|Q_of_movies|\n",
            "+----------+-----------+\n",
            "| Argentina|          1|\n",
            "| Australia|          4|\n",
            "|   Austria|          3|\n",
            "|   Belgium|          1|\n",
            "|   Bolivia|          2|\n",
            "|    Brazil|          2|\n",
            "|  Bulgaria|          3|\n",
            "|    Canada|          3|\n",
            "|     Chile|          2|\n",
            "|  Colombia|          2|\n",
            "|Costa Rica|          2|\n",
            "|   Croatia|          1|\n",
            "|   Czechia|          4|\n",
            "|   Denmark|          1|\n",
            "|   Ecuador|          2|\n",
            "|   Estonia|          3|\n",
            "|   Finland|          1|\n",
            "|    France|          4|\n",
            "|   Germany|          3|\n",
            "| Gibraltar|          4|\n",
            "+----------+-----------+\n",
            "only showing top 20 rows\n",
            "\n"
          ]
        }
      ]
    },
    {
      "cell_type": "markdown",
      "source": [
        "# Week 2"
      ],
      "metadata": {
        "id": "UcaZ6pFQh_la"
      }
    },
    {
      "cell_type": "markdown",
      "source": [
        "## Joining in Spark\n",
        "\n",
        "\n",
        "Download this dataset https://www.kaggle.com/datasets/iamsouravbanerjee/world-population-dataset\n",
        "\n",
        "\n",
        "and upload to the session storage in Colab"
      ],
      "metadata": {
        "id": "Txey514MlzVn"
      }
    },
    {
      "cell_type": "code",
      "source": [
        "# Load the dataset\n",
        "data_population = spark.read.csv(\"world_population.csv\", header=True, inferSchema=True)"
      ],
      "metadata": {
        "id": "JX5knX1OmoyV"
      },
      "execution_count": 19,
      "outputs": []
    },
    {
      "cell_type": "code",
      "source": [
        "data_population.show()"
      ],
      "metadata": {
        "colab": {
          "base_uri": "https://localhost:8080/"
        },
        "id": "gLVpaZ7gmfrb",
        "outputId": "4ba3dc62-6bc0-4b76-8031-4e194bd32eeb"
      },
      "execution_count": 20,
      "outputs": [
        {
          "output_type": "stream",
          "name": "stdout",
          "text": [
            "+----+----+-------------------+----------------+-------------+---------------+---------------+---------------+---------------+---------------+---------------+---------------+---------------+----------+-----------------+-----------+---------------------------+\n",
            "|Rank|CCA3|  Country/Territory|         Capital|    Continent|2022 Population|2020 Population|2015 Population|2010 Population|2000 Population|1990 Population|1980 Population|1970 Population|Area (km²)|Density (per km²)|Growth Rate|World Population Percentage|\n",
            "+----+----+-------------------+----------------+-------------+---------------+---------------+---------------+---------------+---------------+---------------+---------------+---------------+----------+-----------------+-----------+---------------------------+\n",
            "|  36| AFG|        Afghanistan|           Kabul|         Asia|       41128771|       38972230|       33753499|       28189672|       19542982|       10694796|       12486631|       10752971|    652230|          63.0587|     1.0257|                       0.52|\n",
            "| 138| ALB|            Albania|          Tirana|       Europe|        2842321|        2866849|        2882481|        2913399|        3182021|        3295066|        2941651|        2324731|     28748|          98.8702|     0.9957|                       0.04|\n",
            "|  34| DZA|            Algeria|         Algiers|       Africa|       44903225|       43451666|       39543154|       35856344|       30774621|       25518074|       18739378|       13795915|   2381741|          18.8531|     1.0164|                       0.56|\n",
            "| 213| ASM|     American Samoa|       Pago Pago|      Oceania|          44273|          46189|          51368|          54849|          58230|          47818|          32886|          27075|       199|         222.4774|     0.9831|                        0.0|\n",
            "| 203| AND|            Andorra|Andorra la Vella|       Europe|          79824|          77700|          71746|          71519|          66097|          53569|          35611|          19860|       468|         170.5641|       1.01|                        0.0|\n",
            "|  42| AGO|             Angola|          Luanda|       Africa|       35588987|       33428485|       28127721|       23364185|       16394062|       11828638|        8330047|        6029700|   1246700|          28.5466|     1.0315|                       0.45|\n",
            "| 224| AIA|           Anguilla|      The Valley|North America|          15857|          15585|          14525|          13172|          11047|           8316|           6560|           6283|        91|         174.2527|     1.0066|                        0.0|\n",
            "| 201| ATG|Antigua and Barbuda|    Saint John’s|North America|          93763|          92664|          89941|          85695|          75055|          63328|          64888|          64516|       442|         212.1335|     1.0058|                        0.0|\n",
            "|  33| ARG|          Argentina|    Buenos Aires|South America|       45510318|       45036032|       43257065|       41100123|       37070774|       32637657|       28024803|       23842803|   2780400|          16.3683|     1.0052|                       0.57|\n",
            "| 140| ARM|            Armenia|         Yerevan|         Asia|        2780469|        2805608|        2878595|        2946293|        3168523|        3556539|        3135123|        2534377|     29743|          93.4831|     0.9962|                       0.03|\n",
            "| 198| ABW|              Aruba|      Oranjestad|North America|         106445|         106585|         104257|         100341|          89101|          65712|          62267|          59106|       180|         591.3611|     0.9991|                        0.0|\n",
            "|  55| AUS|          Australia|        Canberra|      Oceania|       26177413|       25670051|       23820236|       22019168|       19017963|       17048003|       14706322|       12595034|   7692024|           3.4032|     1.0099|                       0.33|\n",
            "|  99| AUT|            Austria|          Vienna|       Europe|        8939617|        8907777|        8642421|        8362829|        8010428|        7678729|        7547561|        7465301|     83871|         106.5877|      1.002|                       0.11|\n",
            "|  91| AZE|         Azerbaijan|            Baku|         Asia|       10358074|       10284951|        9863480|        9237202|        8190337|        7427836|        6383060|        5425317|     86600|         119.6082|     1.0044|                       0.13|\n",
            "| 176| BHS|            Bahamas|          Nassau|North America|         409984|         406471|         392697|         373272|         325014|         270679|         223752|         179129|     13943|          29.4043|     1.0051|                       0.01|\n",
            "| 154| BHR|            Bahrain|          Manama|         Asia|        1472233|        1477469|        1362142|        1213645|         711442|         517418|         362595|         222555|       765|        1924.4876|     1.0061|                       0.02|\n",
            "|   8| BGD|         Bangladesh|           Dhaka|         Asia|      171186372|      167420951|      157830000|      148391139|      129193327|      107147651|       83929765|       67541860|    147570|         1160.035|     1.0108|                       2.15|\n",
            "| 186| BRB|           Barbados|      Bridgetown|North America|         281635|         280693|         278083|         274711|         264657|         258868|         253575|         241397|       430|         654.9651|     1.0015|                        0.0|\n",
            "|  96| BLR|            Belarus|           Minsk|       Europe|        9534954|        9633740|        9700609|        9731427|       10256483|       10428525|        9817257|        9170786|    207600|          45.9295|     0.9955|                       0.12|\n",
            "|  81| BEL|            Belgium|        Brussels|       Europe|       11655930|       11561717|       11248303|       10877947|       10264343|        9959560|        9828986|        9629376|     30528|         381.8111|     1.0038|                       0.15|\n",
            "+----+----+-------------------+----------------+-------------+---------------+---------------+---------------+---------------+---------------+---------------+---------------+---------------+----------+-----------------+-----------+---------------------------+\n",
            "only showing top 20 rows\n",
            "\n"
          ]
        }
      ]
    },
    {
      "cell_type": "markdown",
      "source": [
        "## Sort\n",
        "\n",
        "the dataframe by \"World Population Percentage\""
      ],
      "metadata": {
        "id": "jWv_6mLGnHVR"
      }
    },
    {
      "cell_type": "code",
      "source": [
        "data_population.sort(\"World Population Percentage\", ascending=False).show()"
      ],
      "metadata": {
        "colab": {
          "base_uri": "https://localhost:8080/"
        },
        "id": "7XnAACJinHFE",
        "outputId": "99366ba8-3797-41de-f2d8-16aa3da34a89"
      },
      "execution_count": 24,
      "outputs": [
        {
          "output_type": "stream",
          "name": "stdout",
          "text": [
            "+----+----+-----------------+----------------+-------------+---------------+---------------+---------------+---------------+---------------+---------------+---------------+---------------+----------+-----------------+-----------+---------------------------+\n",
            "|Rank|CCA3|Country/Territory|         Capital|    Continent|2022 Population|2020 Population|2015 Population|2010 Population|2000 Population|1990 Population|1980 Population|1970 Population|Area (km²)|Density (per km²)|Growth Rate|World Population Percentage|\n",
            "+----+----+-----------------+----------------+-------------+---------------+---------------+---------------+---------------+---------------+---------------+---------------+---------------+----------+-----------------+-----------+---------------------------+\n",
            "|   1| CHN|            China|         Beijing|         Asia|     1425887337|     1424929781|     1393715448|     1348191368|     1264099069|     1153704252|      982372466|      822534450|   9706961|         146.8933|        1.0|                      17.88|\n",
            "|   2| IND|            India|       New Delhi|         Asia|     1417173173|     1396387127|     1322866505|     1240613620|     1059633675|      870452165|      696828385|      557501301|   3287590|         431.0675|     1.0068|                      17.77|\n",
            "|   3| USA|    United States|Washington, D.C.|North America|      338289857|      335942003|      324607776|      311182845|      282398554|      248083732|      223140018|      200328340|   9372610|          36.0935|     1.0038|                       4.24|\n",
            "|   4| IDN|        Indonesia|         Jakarta|         Asia|      275501339|      271857970|      259091970|      244016173|      214072421|      182159874|      148177096|      115228394|   1904569|         144.6529|     1.0064|                       3.45|\n",
            "|   5| PAK|         Pakistan|       Islamabad|         Asia|      235824862|      227196741|      210969298|      194454498|      154369924|      115414069|       80624057|       59290872|    881912|         267.4018|     1.0191|                       2.96|\n",
            "|   6| NGA|          Nigeria|           Abuja|       Africa|      218541212|      208327405|      183995785|      160952853|      122851984|       95214257|       72951439|       55569264|    923768|         236.5759|     1.0241|                       2.74|\n",
            "|   7| BRA|           Brazil|        Brasilia|South America|      215313498|      213196304|      205188205|      196353492|      175873720|      150706446|      122288383|       96369875|   8515767|          25.2841|     1.0046|                        2.7|\n",
            "|   8| BGD|       Bangladesh|           Dhaka|         Asia|      171186372|      167420951|      157830000|      148391139|      129193327|      107147651|       83929765|       67541860|    147570|         1160.035|     1.0108|                       2.15|\n",
            "|   9| RUS|           Russia|          Moscow|       Europe|      144713314|      145617329|      144668389|      143242599|      146844839|      148005704|      138257420|      130093010|  17098242|           8.4636|     0.9973|                       1.81|\n",
            "|  10| MEX|           Mexico|     Mexico City|North America|      127504125|      125998302|      120149897|      112532401|       97873442|       81720428|       67705186|       50289306|   1964375|          64.9082|     1.0063|                        1.6|\n",
            "|  11| JPN|            Japan|           Tokyo|         Asia|      123951692|      125244761|      127250933|      128105431|      126803861|      123686321|      117624196|      105416839|    377930|         327.9753|     0.9947|                       1.55|\n",
            "|  12| ETH|         Ethiopia|     Addis Ababa|       Africa|      123379924|      117190911|      102471895|       89237791|       67031867|       47878073|       34945469|       28308246|   1104300|         111.7268|     1.0257|                       1.55|\n",
            "|  13| PHL|      Philippines|          Manila|         Asia|      115559009|      112190977|      103031365|       94636700|       77958223|       61558898|       48419546|       37435586|    342353|         337.5434|     1.0147|                       1.45|\n",
            "|  14| EGY|            Egypt|           Cairo|       Africa|      110990103|      107465134|       97723799|       87252413|       71371371|       57214630|       43748556|       34781986|   1002450|         110.7188|     1.0158|                       1.39|\n",
            "|  15| COD|         DR Congo|        Kinshasa|       Africa|       99010212|       92853164|       78656904|       66391257|       48616317|       35987541|       26708686|       20151733|   2344858|          42.2244|     1.0325|                       1.24|\n",
            "|  16| VNM|          Vietnam|           Hanoi|         Asia|       98186856|       96648685|       92191398|       87411012|       79001142|       66912613|       52968270|       41928849|    331212|         296.4472|     1.0074|                       1.23|\n",
            "|  17| IRN|             Iran|          Tehran|         Asia|       88550570|       87290193|       81790841|       75373855|       65544383|       55793629|       38520664|       28449705|   1648195|          53.7258|     1.0071|                       1.11|\n",
            "|  18| TUR|           Turkey|          Ankara|         Asia|       85341241|       84135428|       79646178|       73195345|       64113547|       54324142|       44089069|       35540990|    783562|         108.9145|     1.0067|                       1.07|\n",
            "|  19| DEU|          Germany|          Berlin|       Europe|       83369843|       83328988|       82073226|       81325090|       81551677|       79370196|       77786703|       78294583|    357114|         233.4544|     0.9995|                       1.05|\n",
            "|  20| THA|         Thailand|         Bangkok|         Asia|       71697030|       71475664|       70294397|       68270489|       63066603|       55228410|       45737753|       35791728|    513120|         139.7276|     1.0013|                        0.9|\n",
            "+----+----+-----------------+----------------+-------------+---------------+---------------+---------------+---------------+---------------+---------------+---------------+---------------+----------+-----------------+-----------+---------------------------+\n",
            "only showing top 20 rows\n",
            "\n"
          ]
        }
      ]
    },
    {
      "cell_type": "code",
      "source": [
        "data_population.sort(\"Area (km²)\", ascending=False).show()"
      ],
      "metadata": {
        "colab": {
          "base_uri": "https://localhost:8080/"
        },
        "outputId": "8881b526-6503-44ae-b7c1-3411a9279cbe",
        "id": "GT91n3gEoCVv"
      },
      "execution_count": 25,
      "outputs": [
        {
          "output_type": "stream",
          "name": "stdout",
          "text": [
            "+----+----+-----------------+----------------+-------------+---------------+---------------+---------------+---------------+---------------+---------------+---------------+---------------+----------+-----------------+-----------+---------------------------+\n",
            "|Rank|CCA3|Country/Territory|         Capital|    Continent|2022 Population|2020 Population|2015 Population|2010 Population|2000 Population|1990 Population|1980 Population|1970 Population|Area (km²)|Density (per km²)|Growth Rate|World Population Percentage|\n",
            "+----+----+-----------------+----------------+-------------+---------------+---------------+---------------+---------------+---------------+---------------+---------------+---------------+----------+-----------------+-----------+---------------------------+\n",
            "|   9| RUS|           Russia|          Moscow|       Europe|      144713314|      145617329|      144668389|      143242599|      146844839|      148005704|      138257420|      130093010|  17098242|           8.4636|     0.9973|                       1.81|\n",
            "|  39| CAN|           Canada|          Ottawa|North America|       38454327|       37888705|       35732126|       33963412|       30683313|       27657204|       24511510|       21434577|   9984670|           3.8513|     1.0078|                       0.48|\n",
            "|   1| CHN|            China|         Beijing|         Asia|     1425887337|     1424929781|     1393715448|     1348191368|     1264099069|     1153704252|      982372466|      822534450|   9706961|         146.8933|        1.0|                      17.88|\n",
            "|   3| USA|    United States|Washington, D.C.|North America|      338289857|      335942003|      324607776|      311182845|      282398554|      248083732|      223140018|      200328340|   9372610|          36.0935|     1.0038|                       4.24|\n",
            "|   7| BRA|           Brazil|        Brasilia|South America|      215313498|      213196304|      205188205|      196353492|      175873720|      150706446|      122288383|       96369875|   8515767|          25.2841|     1.0046|                        2.7|\n",
            "|  55| AUS|        Australia|        Canberra|      Oceania|       26177413|       25670051|       23820236|       22019168|       19017963|       17048003|       14706322|       12595034|   7692024|           3.4032|     1.0099|                       0.33|\n",
            "|   2| IND|            India|       New Delhi|         Asia|     1417173173|     1396387127|     1322866505|     1240613620|     1059633675|      870452165|      696828385|      557501301|   3287590|         431.0675|     1.0068|                      17.77|\n",
            "|  33| ARG|        Argentina|    Buenos Aires|South America|       45510318|       45036032|       43257065|       41100123|       37070774|       32637657|       28024803|       23842803|   2780400|          16.3683|     1.0052|                       0.57|\n",
            "|  66| KAZ|       Kazakhstan|       Nursultan|         Asia|       19397998|       18979243|       17835909|       16627837|       15236253|       16866563|       14172710|       12265305|   2724900|           7.1188|     1.0105|                       0.24|\n",
            "|  34| DZA|          Algeria|         Algiers|       Africa|       44903225|       43451666|       39543154|       35856344|       30774621|       25518074|       18739378|       13795915|   2381741|          18.8531|     1.0164|                       0.56|\n",
            "|  15| COD|         DR Congo|        Kinshasa|       Africa|       99010212|       92853164|       78656904|       66391257|       48616317|       35987541|       26708686|       20151733|   2344858|          42.2244|     1.0325|                       1.24|\n",
            "| 208| GRL|        Greenland|            Nuuk|North America|          56466|          56026|          55895|          56351|          56184|          55599|          50106|          45434|   2166086|           0.0261|      1.004|                        0.0|\n",
            "|  41| SAU|     Saudi Arabia|          Riyadh|         Asia|       36408820|       35997107|       32749848|       29411929|       21547390|       16004763|       10171710|        6106191|   2149690|          16.9368|     1.0128|                       0.46|\n",
            "|  10| MEX|           Mexico|     Mexico City|North America|      127504125|      125998302|      120149897|      112532401|       97873442|       81720428|       67705186|       50289306|   1964375|          64.9082|     1.0063|                        1.6|\n",
            "|   4| IDN|        Indonesia|         Jakarta|         Asia|      275501339|      271857970|      259091970|      244016173|      214072421|      182159874|      148177096|      115228394|   1904569|         144.6529|     1.0064|                       3.45|\n",
            "|  32| SDN|            Sudan|        Khartoum|       Africa|       46874204|       44440486|       38171178|       33739933|       26298773|       21090886|       16673586|       11305206|   1886068|          24.8529|     1.0267|                       0.59|\n",
            "| 107| LBY|            Libya|         Tripoli|       Africa|        6812341|        6653942|        6192235|        6491988|        5154790|        4236983|        2962720|        1909177|   1759540|           3.8717|     1.0114|                       0.09|\n",
            "|  17| IRN|             Iran|          Tehran|         Asia|       88550570|       87290193|       81790841|       75373855|       65544383|       55793629|       38520664|       28449705|   1648195|          53.7258|     1.0071|                       1.11|\n",
            "| 134| MNG|         Mongolia|     Ulaanbaatar|         Asia|        3398366|        3294335|        2964749|        2702520|        2450979|        2161433|        1697780|        1293880|   1564110|           2.1727|     1.0151|                       0.04|\n",
            "|  44| PER|             Peru|            Lima|South America|       34049588|       33304756|       30711863|       29229572|       26654439|       22109099|       17492406|       13562371|   1285216|          26.4933|     1.0099|                       0.43|\n",
            "+----+----+-----------------+----------------+-------------+---------------+---------------+---------------+---------------+---------------+---------------+---------------+---------------+----------+-----------------+-----------+---------------------------+\n",
            "only showing top 20 rows\n",
            "\n"
          ]
        }
      ]
    },
    {
      "cell_type": "markdown",
      "source": [
        "## Download and upload to session.\n",
        "\n",
        "This dataset as well. https://github.com/lukes/ISO-3166-Countries-with-Regional-Codes/blob/master/all/all.csv"
      ],
      "metadata": {
        "id": "ayGNAGckovQc"
      }
    },
    {
      "cell_type": "code",
      "source": [
        "data_country_code = spark.read.csv(\"all.csv\", header=True, inferSchema=True)"
      ],
      "metadata": {
        "id": "wCiFUrQwou59"
      },
      "execution_count": 26,
      "outputs": []
    },
    {
      "cell_type": "code",
      "source": [
        "data_country_code.show()"
      ],
      "metadata": {
        "colab": {
          "base_uri": "https://localhost:8080/"
        },
        "id": "cwFbTBYjpEmw",
        "outputId": "9b66f2db-ec11-4212-d1f7-ce1dff028c70"
      },
      "execution_count": 27,
      "outputs": [
        {
          "output_type": "stream",
          "name": "stdout",
          "text": [
            "+-------------------+-------+-------+------------+-------------+--------+--------------------+-------------------+-----------+---------------+------------------------+\n",
            "|               name|alpha-2|alpha-3|country-code|   iso_3166-2|  region|          sub-region|intermediate-region|region-code|sub-region-code|intermediate-region-code|\n",
            "+-------------------+-------+-------+------------+-------------+--------+--------------------+-------------------+-----------+---------------+------------------------+\n",
            "|        Afghanistan|     AF|    AFG|           4|ISO 3166-2:AF|    Asia|       Southern Asia|               NULL|        142|             34|                    NULL|\n",
            "|      Åland Islands|     AX|    ALA|         248|ISO 3166-2:AX|  Europe|     Northern Europe|               NULL|        150|            154|                    NULL|\n",
            "|            Albania|     AL|    ALB|           8|ISO 3166-2:AL|  Europe|     Southern Europe|               NULL|        150|             39|                    NULL|\n",
            "|            Algeria|     DZ|    DZA|          12|ISO 3166-2:DZ|  Africa|     Northern Africa|               NULL|          2|             15|                    NULL|\n",
            "|     American Samoa|     AS|    ASM|          16|ISO 3166-2:AS| Oceania|           Polynesia|               NULL|          9|             61|                    NULL|\n",
            "|            Andorra|     AD|    AND|          20|ISO 3166-2:AD|  Europe|     Southern Europe|               NULL|        150|             39|                    NULL|\n",
            "|             Angola|     AO|    AGO|          24|ISO 3166-2:AO|  Africa|  Sub-Saharan Africa|      Middle Africa|          2|            202|                      17|\n",
            "|           Anguilla|     AI|    AIA|         660|ISO 3166-2:AI|Americas|Latin America and...|          Caribbean|         19|            419|                      29|\n",
            "|         Antarctica|     AQ|    ATA|          10|ISO 3166-2:AQ|    NULL|                NULL|               NULL|       NULL|           NULL|                    NULL|\n",
            "|Antigua and Barbuda|     AG|    ATG|          28|ISO 3166-2:AG|Americas|Latin America and...|          Caribbean|         19|            419|                      29|\n",
            "|          Argentina|     AR|    ARG|          32|ISO 3166-2:AR|Americas|Latin America and...|      South America|         19|            419|                       5|\n",
            "|            Armenia|     AM|    ARM|          51|ISO 3166-2:AM|    Asia|        Western Asia|               NULL|        142|            145|                    NULL|\n",
            "|              Aruba|     AW|    ABW|         533|ISO 3166-2:AW|Americas|Latin America and...|          Caribbean|         19|            419|                      29|\n",
            "|          Australia|     AU|    AUS|          36|ISO 3166-2:AU| Oceania|Australia and New...|               NULL|          9|             53|                    NULL|\n",
            "|            Austria|     AT|    AUT|          40|ISO 3166-2:AT|  Europe|      Western Europe|               NULL|        150|            155|                    NULL|\n",
            "|         Azerbaijan|     AZ|    AZE|          31|ISO 3166-2:AZ|    Asia|        Western Asia|               NULL|        142|            145|                    NULL|\n",
            "|            Bahamas|     BS|    BHS|          44|ISO 3166-2:BS|Americas|Latin America and...|          Caribbean|         19|            419|                      29|\n",
            "|            Bahrain|     BH|    BHR|          48|ISO 3166-2:BH|    Asia|        Western Asia|               NULL|        142|            145|                    NULL|\n",
            "|         Bangladesh|     BD|    BGD|          50|ISO 3166-2:BD|    Asia|       Southern Asia|               NULL|        142|             34|                    NULL|\n",
            "|           Barbados|     BB|    BRB|          52|ISO 3166-2:BB|Americas|Latin America and...|          Caribbean|         19|            419|                      29|\n",
            "+-------------------+-------+-------+------------+-------------+--------+--------------------+-------------------+-----------+---------------+------------------------+\n",
            "only showing top 20 rows\n",
            "\n"
          ]
        }
      ]
    },
    {
      "cell_type": "markdown",
      "source": [
        "## Joining\n",
        "\n",
        "join the two dataframe on the CCA3 and alpha-3 columns"
      ],
      "metadata": {
        "id": "PGGhNmt3pKs_"
      }
    },
    {
      "cell_type": "code",
      "source": [
        "data_population_to_be_joined = data_population.join(\n",
        "    data_country_code,\n",
        "    data_population['CCA3'] == data_country_code['alpha-3'],\n",
        "    'inner'\n",
        ")"
      ],
      "metadata": {
        "id": "hxwubpwLogfG"
      },
      "execution_count": 31,
      "outputs": []
    },
    {
      "cell_type": "code",
      "source": [
        "data_population_to_be_joined.show()"
      ],
      "metadata": {
        "colab": {
          "base_uri": "https://localhost:8080/"
        },
        "id": "iH5nLKBBqAwA",
        "outputId": "9a49e246-b169-4aea-d6b2-a9314d97eb1b"
      },
      "execution_count": 40,
      "outputs": [
        {
          "output_type": "stream",
          "name": "stdout",
          "text": [
            "+----+----+-------------------+----------------+-------------+---------------+---------------+---------------+---------------+---------------+---------------+---------------+---------------+----------+-----------------+-----------+---------------------------+-------------------+-------+-------+------------+-------------+--------+--------------------+-------------------+-----------+---------------+------------------------+\n",
            "|Rank|CCA3|  Country/Territory|         Capital|    Continent|2022 Population|2020 Population|2015 Population|2010 Population|2000 Population|1990 Population|1980 Population|1970 Population|Area (km²)|Density (per km²)|Growth Rate|World Population Percentage|               name|alpha-2|alpha-3|country-code|   iso_3166-2|  region|          sub-region|intermediate-region|region-code|sub-region-code|intermediate-region-code|\n",
            "+----+----+-------------------+----------------+-------------+---------------+---------------+---------------+---------------+---------------+---------------+---------------+---------------+----------+-----------------+-----------+---------------------------+-------------------+-------+-------+------------+-------------+--------+--------------------+-------------------+-----------+---------------+------------------------+\n",
            "|  36| AFG|        Afghanistan|           Kabul|         Asia|       41128771|       38972230|       33753499|       28189672|       19542982|       10694796|       12486631|       10752971|    652230|          63.0587|     1.0257|                       0.52|        Afghanistan|     AF|    AFG|           4|ISO 3166-2:AF|    Asia|       Southern Asia|               NULL|        142|             34|                    NULL|\n",
            "| 138| ALB|            Albania|          Tirana|       Europe|        2842321|        2866849|        2882481|        2913399|        3182021|        3295066|        2941651|        2324731|     28748|          98.8702|     0.9957|                       0.04|            Albania|     AL|    ALB|           8|ISO 3166-2:AL|  Europe|     Southern Europe|               NULL|        150|             39|                    NULL|\n",
            "|  34| DZA|            Algeria|         Algiers|       Africa|       44903225|       43451666|       39543154|       35856344|       30774621|       25518074|       18739378|       13795915|   2381741|          18.8531|     1.0164|                       0.56|            Algeria|     DZ|    DZA|          12|ISO 3166-2:DZ|  Africa|     Northern Africa|               NULL|          2|             15|                    NULL|\n",
            "| 213| ASM|     American Samoa|       Pago Pago|      Oceania|          44273|          46189|          51368|          54849|          58230|          47818|          32886|          27075|       199|         222.4774|     0.9831|                        0.0|     American Samoa|     AS|    ASM|          16|ISO 3166-2:AS| Oceania|           Polynesia|               NULL|          9|             61|                    NULL|\n",
            "| 203| AND|            Andorra|Andorra la Vella|       Europe|          79824|          77700|          71746|          71519|          66097|          53569|          35611|          19860|       468|         170.5641|       1.01|                        0.0|            Andorra|     AD|    AND|          20|ISO 3166-2:AD|  Europe|     Southern Europe|               NULL|        150|             39|                    NULL|\n",
            "|  42| AGO|             Angola|          Luanda|       Africa|       35588987|       33428485|       28127721|       23364185|       16394062|       11828638|        8330047|        6029700|   1246700|          28.5466|     1.0315|                       0.45|             Angola|     AO|    AGO|          24|ISO 3166-2:AO|  Africa|  Sub-Saharan Africa|      Middle Africa|          2|            202|                      17|\n",
            "| 224| AIA|           Anguilla|      The Valley|North America|          15857|          15585|          14525|          13172|          11047|           8316|           6560|           6283|        91|         174.2527|     1.0066|                        0.0|           Anguilla|     AI|    AIA|         660|ISO 3166-2:AI|Americas|Latin America and...|          Caribbean|         19|            419|                      29|\n",
            "| 201| ATG|Antigua and Barbuda|    Saint John’s|North America|          93763|          92664|          89941|          85695|          75055|          63328|          64888|          64516|       442|         212.1335|     1.0058|                        0.0|Antigua and Barbuda|     AG|    ATG|          28|ISO 3166-2:AG|Americas|Latin America and...|          Caribbean|         19|            419|                      29|\n",
            "|  33| ARG|          Argentina|    Buenos Aires|South America|       45510318|       45036032|       43257065|       41100123|       37070774|       32637657|       28024803|       23842803|   2780400|          16.3683|     1.0052|                       0.57|          Argentina|     AR|    ARG|          32|ISO 3166-2:AR|Americas|Latin America and...|      South America|         19|            419|                       5|\n",
            "| 140| ARM|            Armenia|         Yerevan|         Asia|        2780469|        2805608|        2878595|        2946293|        3168523|        3556539|        3135123|        2534377|     29743|          93.4831|     0.9962|                       0.03|            Armenia|     AM|    ARM|          51|ISO 3166-2:AM|    Asia|        Western Asia|               NULL|        142|            145|                    NULL|\n",
            "| 198| ABW|              Aruba|      Oranjestad|North America|         106445|         106585|         104257|         100341|          89101|          65712|          62267|          59106|       180|         591.3611|     0.9991|                        0.0|              Aruba|     AW|    ABW|         533|ISO 3166-2:AW|Americas|Latin America and...|          Caribbean|         19|            419|                      29|\n",
            "|  55| AUS|          Australia|        Canberra|      Oceania|       26177413|       25670051|       23820236|       22019168|       19017963|       17048003|       14706322|       12595034|   7692024|           3.4032|     1.0099|                       0.33|          Australia|     AU|    AUS|          36|ISO 3166-2:AU| Oceania|Australia and New...|               NULL|          9|             53|                    NULL|\n",
            "|  99| AUT|            Austria|          Vienna|       Europe|        8939617|        8907777|        8642421|        8362829|        8010428|        7678729|        7547561|        7465301|     83871|         106.5877|      1.002|                       0.11|            Austria|     AT|    AUT|          40|ISO 3166-2:AT|  Europe|      Western Europe|               NULL|        150|            155|                    NULL|\n",
            "|  91| AZE|         Azerbaijan|            Baku|         Asia|       10358074|       10284951|        9863480|        9237202|        8190337|        7427836|        6383060|        5425317|     86600|         119.6082|     1.0044|                       0.13|         Azerbaijan|     AZ|    AZE|          31|ISO 3166-2:AZ|    Asia|        Western Asia|               NULL|        142|            145|                    NULL|\n",
            "| 176| BHS|            Bahamas|          Nassau|North America|         409984|         406471|         392697|         373272|         325014|         270679|         223752|         179129|     13943|          29.4043|     1.0051|                       0.01|            Bahamas|     BS|    BHS|          44|ISO 3166-2:BS|Americas|Latin America and...|          Caribbean|         19|            419|                      29|\n",
            "| 154| BHR|            Bahrain|          Manama|         Asia|        1472233|        1477469|        1362142|        1213645|         711442|         517418|         362595|         222555|       765|        1924.4876|     1.0061|                       0.02|            Bahrain|     BH|    BHR|          48|ISO 3166-2:BH|    Asia|        Western Asia|               NULL|        142|            145|                    NULL|\n",
            "|   8| BGD|         Bangladesh|           Dhaka|         Asia|      171186372|      167420951|      157830000|      148391139|      129193327|      107147651|       83929765|       67541860|    147570|         1160.035|     1.0108|                       2.15|         Bangladesh|     BD|    BGD|          50|ISO 3166-2:BD|    Asia|       Southern Asia|               NULL|        142|             34|                    NULL|\n",
            "| 186| BRB|           Barbados|      Bridgetown|North America|         281635|         280693|         278083|         274711|         264657|         258868|         253575|         241397|       430|         654.9651|     1.0015|                        0.0|           Barbados|     BB|    BRB|          52|ISO 3166-2:BB|Americas|Latin America and...|          Caribbean|         19|            419|                      29|\n",
            "|  96| BLR|            Belarus|           Minsk|       Europe|        9534954|        9633740|        9700609|        9731427|       10256483|       10428525|        9817257|        9170786|    207600|          45.9295|     0.9955|                       0.12|            Belarus|     BY|    BLR|         112|ISO 3166-2:BY|  Europe|      Eastern Europe|               NULL|        150|            151|                    NULL|\n",
            "|  81| BEL|            Belgium|        Brussels|       Europe|       11655930|       11561717|       11248303|       10877947|       10264343|        9959560|        9828986|        9629376|     30528|         381.8111|     1.0038|                       0.15|            Belgium|     BE|    BEL|          56|ISO 3166-2:BE|  Europe|      Western Europe|               NULL|        150|            155|                    NULL|\n",
            "+----+----+-------------------+----------------+-------------+---------------+---------------+---------------+---------------+---------------+---------------+---------------+---------------+----------+-----------------+-----------+---------------------------+-------------------+-------+-------+------------+-------------+--------+--------------------+-------------------+-----------+---------------+------------------------+\n",
            "only showing top 20 rows\n",
            "\n"
          ]
        }
      ]
    },
    {
      "cell_type": "markdown",
      "source": [
        "## WithColoumn\n",
        "\n",
        "WithColoumn is used to create a new col based on some logic in the existing columns or external factors.  \n",
        "\n",
        "Capitalise the country code and create a new column 'CC_Capitals'"
      ],
      "metadata": {
        "id": "grlMvD0miwq5"
      }
    },
    {
      "cell_type": "code",
      "source": [
        "# Capitalise the\n",
        "caps = data.withColumn(\n",
        "    \"CC_Capitals\",\n",
        "    F.upper(data[\"Country_code\"])\n",
        ")\n",
        "\n",
        "# Display result\n",
        "caps.show()"
      ],
      "metadata": {
        "colab": {
          "base_uri": "https://localhost:8080/"
        },
        "id": "_rG6qcTuiWPF",
        "outputId": "a0762a29-616f-45be-ef4c-5e93d9028c3a"
      },
      "execution_count": 38,
      "outputs": [
        {
          "output_type": "stream",
          "name": "stdout",
          "text": [
            "+------------+----------+------------------+-------------+------------+--------------------------+-----------------------------+----------------------------+-----------+\n",
            "|Country_code|   Country|Total Library Size|No_of_TVShows|No_of_Movies|Cost Per Month - Basic ($)|Cost Per Month - Standard ($)|Cost Per Month - Premium ($)|CC_Capitals|\n",
            "+------------+----------+------------------+-------------+------------+--------------------------+-----------------------------+----------------------------+-----------+\n",
            "|          ar| Argentina|              4760|         3154|        1606|                      3.74|                          6.3|                        9.26|         AR|\n",
            "|          au| Australia|              6114|         4050|        2064|                      7.84|                        12.12|                       16.39|         AU|\n",
            "|          at|   Austria|              5640|         3779|        1861|                      9.03|                        14.67|                       20.32|         AT|\n",
            "|          be|   Belgium|              4990|         3374|        1616|                     10.16|                        15.24|                       20.32|         BE|\n",
            "|          bo|   Bolivia|              4991|         3155|        1836|                      7.99|                        10.99|                       13.99|         BO|\n",
            "|          br|    Brazil|              4972|         3162|        1810|                      4.61|                         7.11|                        9.96|         BR|\n",
            "|          bg|  Bulgaria|              6797|         4819|        1978|                      9.03|                        11.29|                       13.54|         BG|\n",
            "|          ca|    Canada|              6239|         4311|        1928|                      7.91|                        11.87|                       15.03|         CA|\n",
            "|          cl|     Chile|              4994|         3156|        1838|                      7.07|                         9.91|                       12.74|         CL|\n",
            "|          co|  Colombia|              4991|         3156|        1835|                      4.31|                         6.86|                        9.93|         CO|\n",
            "|          cr|Costa Rica|              4988|         3152|        1836|                      8.99|                        12.99|                       15.99|         CR|\n",
            "|          hr|   Croatia|              2274|         1675|         599|                      9.03|                        11.29|                       13.54|         HR|\n",
            "|          cz|   Czechia|              7325|         5234|        2091|                      8.83|                        11.49|                       14.15|         CZ|\n",
            "|          dk|   Denmark|              4558|         2978|        1580|                      12.0|                        15.04|                        19.6|         DK|\n",
            "|          ec|   Ecuador|              4992|         3155|        1837|                      7.99|                        10.99|                       13.99|         EC|\n",
            "|          ee|   Estonia|              6456|         4486|        1970|                      9.03|                        11.29|                       13.54|         EE|\n",
            "|          fi|   Finland|              4045|         2638|        1407|                      9.03|                        13.54|                       18.06|         FI|\n",
            "|          fr|    France|              5445|         3604|        1841|                     10.16|                        15.24|                       20.32|         FR|\n",
            "|          de|   Germany|              5668|         3814|        1854|                      9.03|                        14.67|                       20.32|         DE|\n",
            "|          gi| Gibraltar|              6167|         4079|        2088|                      9.03|                        14.67|                       20.32|         GI|\n",
            "+------------+----------+------------------+-------------+------------+--------------------------+-----------------------------+----------------------------+-----------+\n",
            "only showing top 20 rows\n",
            "\n"
          ]
        }
      ]
    },
    {
      "cell_type": "markdown",
      "source": [
        "## Join\n",
        "\n",
        "https://i.ytimg.com/vi/Sh4ENyItXK8/hqdefault.jpg\n",
        "\n",
        "Join the capitalised dataframe with the population dataframe on the CC_Capitals and alpha-2 columns.\n",
        "\n",
        "\n",
        "a small intro to joins is given in the pic\n",
        "\n",
        "name the df \"netflix_data_with_populations\""
      ],
      "metadata": {
        "id": "KxUIbmZssJPp"
      }
    },
    {
      "cell_type": "code",
      "source": [
        "netflix_data_with_populations = caps.join(\n",
        "    data_population_to_be_joined,\n",
        "    caps['CC_Capitals'] == data_population_to_be_joined['alpha-2'],\n",
        "    'inner'\n",
        ")"
      ],
      "metadata": {
        "id": "VzrkPJtxq8Yn"
      },
      "execution_count": 44,
      "outputs": []
    },
    {
      "cell_type": "code",
      "source": [
        "netflix_data_with_populations.count()"
      ],
      "metadata": {
        "colab": {
          "base_uri": "https://localhost:8080/"
        },
        "id": "TKcRUStkrzlw",
        "outputId": "a515884a-b744-4fa6-a39d-9c9d44509037"
      },
      "execution_count": 46,
      "outputs": [
        {
          "output_type": "execute_result",
          "data": {
            "text/plain": [
              "65"
            ]
          },
          "metadata": {},
          "execution_count": 46
        }
      ]
    },
    {
      "cell_type": "markdown",
      "source": [
        "## Aggregating functions\n",
        "\n",
        "1.   Find the average population min and max in each continent using agg and grouby\n",
        "2.   Find out using dataframe ops how to get the max value of a col\n",
        "\n"
      ],
      "metadata": {
        "id": "cOuw17crjWb3"
      }
    },
    {
      "cell_type": "code",
      "source": [
        "continent_population = data_population_to_be_joined.groupBy(\n",
        "    F.col(\"Continent\")\n",
        ").agg(\n",
        "    F.avg(\"2022 Population\").alias('Population Avg'),\n",
        "    F.min(\"2022 Population\").alias('Population min'),\n",
        "    F.max(\"2022 Population\").alias('Population max'),\n",
        ").show()"
      ],
      "metadata": {
        "colab": {
          "base_uri": "https://localhost:8080/"
        },
        "id": "EVyVM85hjVyW",
        "outputId": "bcad520d-8d40-4f9b-8362-04f83584565d"
      },
      "execution_count": 49,
      "outputs": [
        {
          "output_type": "stream",
          "name": "stdout",
          "text": [
            "+-------------+--------------------+--------------+--------------+\n",
            "|    Continent|      Population Avg|Population min|Population max|\n",
            "+-------------+--------------------+--------------+--------------+\n",
            "|       Europe|       1.486295076E7|           510|     144713314|\n",
            "|       Africa|2.5030367228070177E7|        107118|     218541212|\n",
            "|North America|        1.50074034E7|          4390|     338289857|\n",
            "|South America|3.1201186285714287E7|          3780|     215313498|\n",
            "|      Oceania|           1958198.0|          1871|      26177413|\n",
            "|         Asia|       9.442766548E7|        449002|    1425887337|\n",
            "+-------------+--------------------+--------------+--------------+\n",
            "\n"
          ]
        }
      ]
    },
    {
      "cell_type": "markdown",
      "source": [
        "\n",
        "\n",
        "For the above dataframe see how many countries in each continent as well"
      ],
      "metadata": {
        "id": "qYYunn75y78Z"
      }
    },
    {
      "cell_type": "code",
      "source": [
        "continent_population = data_population_to_be_joined.groupBy(\n",
        "    F.col(\"Continent\")\n",
        ").agg(\n",
        "    F.avg(\"2022 Population\").alias('Population Avg'),\n",
        "    F.min(\"2022 Population\").alias('Population min'),\n",
        "    F.max(\"2022 Population\").alias('Population max'),\n",
        "    F.count(\"name\").alias('Country Count'),\n",
        ").show()"
      ],
      "metadata": {
        "colab": {
          "base_uri": "https://localhost:8080/"
        },
        "id": "Q2Ob5UX-x3r7",
        "outputId": "bf955419-6090-449c-b861-dbcf883189d9"
      },
      "execution_count": 50,
      "outputs": [
        {
          "output_type": "stream",
          "name": "stdout",
          "text": [
            "+-------------+--------------------+--------------+--------------+-------------+\n",
            "|    Continent|      Population Avg|Population min|Population max|Country Count|\n",
            "+-------------+--------------------+--------------+--------------+-------------+\n",
            "|       Europe|       1.486295076E7|           510|     144713314|           50|\n",
            "|       Africa|2.5030367228070177E7|        107118|     218541212|           57|\n",
            "|North America|        1.50074034E7|          4390|     338289857|           40|\n",
            "|South America|3.1201186285714287E7|          3780|     215313498|           14|\n",
            "|      Oceania|           1958198.0|          1871|      26177413|           23|\n",
            "|         Asia|       9.442766548E7|        449002|    1425887337|           50|\n",
            "+-------------+--------------------+--------------+--------------+-------------+\n",
            "\n"
          ]
        }
      ]
    },
    {
      "cell_type": "markdown",
      "source": [
        "## Challenging Tasks\n",
        "\n",
        "for the netflix_data_with_populations dataframe,\n",
        "\n",
        "1.   Find the average population min and max in each continent using agg and grouby\n",
        "2.   Find out using dataframe ops how to get the max value of a col\n",
        "3.   For this dataframe see how many countries in each continent as well\n",
        "4. why is there a difference in the no of countries"
      ],
      "metadata": {
        "id": "BX_dAn_9zgrw"
      }
    },
    {
      "cell_type": "code",
      "source": [
        "continent_population = netflix_data_with_populations.groupBy(\n",
        "    F.col(\"Continent\")\n",
        ").agg(\n",
        "    F.avg(\"2022 Population\").alias('Population Avg'),\n",
        "    F.min(\"2022 Population\").alias('Population min'),\n",
        "    F.max(\"2022 Population\").alias('Population max'),\n",
        "    F.count(\"name\").alias('Country Count'),\n",
        ").show()"
      ],
      "metadata": {
        "colab": {
          "base_uri": "https://localhost:8080/"
        },
        "id": "ye9Poz1oziSu",
        "outputId": "ef9b911d-125e-4127-8d53-64ae3d0535b4"
      },
      "execution_count": 52,
      "outputs": [
        {
          "output_type": "stream",
          "name": "stdout",
          "text": [
            "+-------------+--------------------+--------------+--------------+-------------+\n",
            "|    Continent|      Population Avg|Population min|Population max|Country Count|\n",
            "+-------------+--------------------+--------------+--------------+-------------+\n",
            "|       Europe|2.0960307411764707E7|         32649|     144713314|           34|\n",
            "|       Africa|         5.9893885E7|      59893885|      59893885|            1|\n",
            "|North America|         8.9617651E7|       5180829|     338289857|            6|\n",
            "|South America|        4.35081505E7|       3422794|     215313498|           10|\n",
            "|      Oceania|        1.56813505E7|       5185288|      26177413|            2|\n",
            "|         Asia|        1.85114481E8|       5975689|    1417173173|           12|\n",
            "+-------------+--------------------+--------------+--------------+-------------+\n",
            "\n"
          ]
        }
      ]
    },
    {
      "cell_type": "markdown",
      "source": [
        "# Do try to answer other interesting questions using the combined df you have made."
      ],
      "metadata": {
        "id": "pQOx-J750iBx"
      }
    }
  ],
  "metadata": {
    "colab": {
      "provenance": []
    },
    "kernelspec": {
      "display_name": "Python 3",
      "name": "python3"
    }
  },
  "nbformat": 4,
  "nbformat_minor": 0
}
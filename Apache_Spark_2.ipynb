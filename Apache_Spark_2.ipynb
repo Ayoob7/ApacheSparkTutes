{
  "cells": [
    {
      "cell_type": "markdown",
      "source": [
        "# Environment Setup and Dataset download\n",
        "Run the following code snippets to setup the envs\n",
        "\n",
        "Download the Netflix Subscription dataset from this [link](https://drive.google.com/file/d/1optmRfNfXUFSTWY2l4FAod6aiYl4y91P/view?usp=sharing) using your IIT account and upload to the this session storage."
      ],
      "metadata": {
        "id": "J8SlBoDA628d"
      }
    },
    {
      "cell_type": "code",
      "source": [
        "!pip install pyspark\n",
        "!pip install -U -q PyDrive\n",
        "!apt install openjdk-8-jdk-headless -qq\n",
        "import os\n",
        "os.environ[\"JAVA_HOME\"] = \"/usr/lib/jvm/java-8-openjdk-amd64\""
      ],
      "metadata": {
        "id": "MGoma3n76ueW"
      },
      "execution_count": null,
      "outputs": []
    },
    {
      "cell_type": "code",
      "source": [
        "import pyspark\n",
        "import pyspark.sql  as pyspark_sql\n",
        "import pyspark.sql.types as pyspark_types\n",
        "import pyspark.sql.functions  as pyspark_functions\n",
        "from pyspark import SparkContext, SparkConf"
      ],
      "metadata": {
        "id": "AlZcw_1Z_vgt"
      },
      "execution_count": 2,
      "outputs": []
    },
    {
      "cell_type": "code",
      "source": [
        "# create the session\n",
        "conf = SparkConf().set(\"spark.ui.port\", \"4050\")\n",
        "\n",
        "# create the context\n",
        "sc = pyspark.SparkContext(conf=conf)\n",
        "spark = pyspark_sql.SparkSession.builder.getOrCreate()"
      ],
      "metadata": {
        "id": "tQ7sOWKn_z6V"
      },
      "execution_count": 3,
      "outputs": []
    },
    {
      "cell_type": "markdown",
      "source": [
        "# Dataframe Ops"
      ],
      "metadata": {
        "id": "eBDY8QtuAQS8"
      }
    },
    {
      "cell_type": "code",
      "source": [
        "# Load the dataset\n",
        "data = spark.read.csv(\"Netflix subscription fee Dec-2021.csv\", header=True, inferSchema=True)"
      ],
      "metadata": {
        "id": "nmop5DQMASzk"
      },
      "execution_count": 5,
      "outputs": []
    },
    {
      "cell_type": "code",
      "source": [
        "data.printSchema()"
      ],
      "metadata": {
        "colab": {
          "base_uri": "https://localhost:8080/"
        },
        "id": "hp4qBeFyIf_m",
        "outputId": "f3f93eca-1d58-4b71-b9c6-e0b2f9a005cd"
      },
      "execution_count": 6,
      "outputs": [
        {
          "output_type": "stream",
          "name": "stdout",
          "text": [
            "root\n",
            " |-- Country_code: string (nullable = true)\n",
            " |-- Country: string (nullable = true)\n",
            " |-- Total Library Size: integer (nullable = true)\n",
            " |-- No_of_TVShows: integer (nullable = true)\n",
            " |-- No_of_Movies: integer (nullable = true)\n",
            " |-- Cost Per Month - Basic ($): double (nullable = true)\n",
            " |-- Cost Per Month - Standard ($): double (nullable = true)\n",
            " |-- Cost Per Month - Premium ($): double (nullable = true)\n",
            "\n"
          ]
        }
      ]
    },
    {
      "cell_type": "code",
      "source": [
        "data.show()"
      ],
      "metadata": {
        "colab": {
          "base_uri": "https://localhost:8080/"
        },
        "id": "mvti1HsrAWxA",
        "outputId": "0dafe11c-b27d-4fd9-bcab-42a9b2bbd211"
      },
      "execution_count": 7,
      "outputs": [
        {
          "output_type": "stream",
          "name": "stdout",
          "text": [
            "+------------+----------+------------------+-------------+------------+--------------------------+-----------------------------+----------------------------+\n",
            "|Country_code|   Country|Total Library Size|No_of_TVShows|No_of_Movies|Cost Per Month - Basic ($)|Cost Per Month - Standard ($)|Cost Per Month - Premium ($)|\n",
            "+------------+----------+------------------+-------------+------------+--------------------------+-----------------------------+----------------------------+\n",
            "|          ar| Argentina|              4760|         3154|        1606|                      3.74|                          6.3|                        9.26|\n",
            "|          au| Australia|              6114|         4050|        2064|                      7.84|                        12.12|                       16.39|\n",
            "|          at|   Austria|              5640|         3779|        1861|                      9.03|                        14.67|                       20.32|\n",
            "|          be|   Belgium|              4990|         3374|        1616|                     10.16|                        15.24|                       20.32|\n",
            "|          bo|   Bolivia|              4991|         3155|        1836|                      7.99|                        10.99|                       13.99|\n",
            "|          br|    Brazil|              4972|         3162|        1810|                      4.61|                         7.11|                        9.96|\n",
            "|          bg|  Bulgaria|              6797|         4819|        1978|                      9.03|                        11.29|                       13.54|\n",
            "|          ca|    Canada|              6239|         4311|        1928|                      7.91|                        11.87|                       15.03|\n",
            "|          cl|     Chile|              4994|         3156|        1838|                      7.07|                         9.91|                       12.74|\n",
            "|          co|  Colombia|              4991|         3156|        1835|                      4.31|                         6.86|                        9.93|\n",
            "|          cr|Costa Rica|              4988|         3152|        1836|                      8.99|                        12.99|                       15.99|\n",
            "|          hr|   Croatia|              2274|         1675|         599|                      9.03|                        11.29|                       13.54|\n",
            "|          cz|   Czechia|              7325|         5234|        2091|                      8.83|                        11.49|                       14.15|\n",
            "|          dk|   Denmark|              4558|         2978|        1580|                      12.0|                        15.04|                        19.6|\n",
            "|          ec|   Ecuador|              4992|         3155|        1837|                      7.99|                        10.99|                       13.99|\n",
            "|          ee|   Estonia|              6456|         4486|        1970|                      9.03|                        11.29|                       13.54|\n",
            "|          fi|   Finland|              4045|         2638|        1407|                      9.03|                        13.54|                       18.06|\n",
            "|          fr|    France|              5445|         3604|        1841|                     10.16|                        15.24|                       20.32|\n",
            "|          de|   Germany|              5668|         3814|        1854|                      9.03|                        14.67|                       20.32|\n",
            "|          gi| Gibraltar|              6167|         4079|        2088|                      9.03|                        14.67|                       20.32|\n",
            "+------------+----------+------------------+-------------+------------+--------------------------+-----------------------------+----------------------------+\n",
            "only showing top 20 rows\n",
            "\n"
          ]
        }
      ]
    },
    {
      "cell_type": "code",
      "source": [
        "data.printSchema()"
      ],
      "metadata": {
        "colab": {
          "base_uri": "https://localhost:8080/"
        },
        "id": "fUETkCjrPDSY",
        "outputId": "4cbb8968-a155-44c8-8ce2-4fc0a7887ebc"
      },
      "execution_count": 8,
      "outputs": [
        {
          "output_type": "stream",
          "name": "stdout",
          "text": [
            "root\n",
            " |-- Country_code: string (nullable = true)\n",
            " |-- Country: string (nullable = true)\n",
            " |-- Total Library Size: integer (nullable = true)\n",
            " |-- No_of_TVShows: integer (nullable = true)\n",
            " |-- No_of_Movies: integer (nullable = true)\n",
            " |-- Cost Per Month - Basic ($): double (nullable = true)\n",
            " |-- Cost Per Month - Standard ($): double (nullable = true)\n",
            " |-- Cost Per Month - Premium ($): double (nullable = true)\n",
            "\n"
          ]
        }
      ]
    },
    {
      "cell_type": "code",
      "source": [
        "data.describe('Cost Per Month - Premium ($)').show()"
      ],
      "metadata": {
        "colab": {
          "base_uri": "https://localhost:8080/"
        },
        "id": "KVuMG1IBMcC7",
        "outputId": "53e25108-68e4-4199-d3cc-87ecad4e8a97"
      },
      "execution_count": 9,
      "outputs": [
        {
          "output_type": "stream",
          "name": "stdout",
          "text": [
            "+-------+----------------------------+\n",
            "|summary|Cost Per Month - Premium ($)|\n",
            "+-------+----------------------------+\n",
            "|  count|                          65|\n",
            "|   mean|          15.612923076923078|\n",
            "| stddev|           4.040672408104298|\n",
            "|    min|                        4.02|\n",
            "|    max|                       26.96|\n",
            "+-------+----------------------------+\n",
            "\n"
          ]
        }
      ]
    },
    {
      "cell_type": "code",
      "source": [
        "# used to serialize the data and convert to a regular python variable\n",
        "data.collect()"
      ],
      "metadata": {
        "id": "KUJlrVftW4df",
        "colab": {
          "base_uri": "https://localhost:8080/"
        },
        "outputId": "6cc483f7-8d21-4f3f-d1b3-1990f3c5ae68"
      },
      "execution_count": 10,
      "outputs": [
        {
          "output_type": "execute_result",
          "data": {
            "text/plain": [
              "[Row(Country_code='ar', Country='Argentina', Total Library Size=4760, No_of_TVShows=3154, No_of_Movies=1606, Cost Per Month - Basic ($)=3.74, Cost Per Month - Standard ($)=6.3, Cost Per Month - Premium ($)=9.26),\n",
              " Row(Country_code='au', Country='Australia', Total Library Size=6114, No_of_TVShows=4050, No_of_Movies=2064, Cost Per Month - Basic ($)=7.84, Cost Per Month - Standard ($)=12.12, Cost Per Month - Premium ($)=16.39),\n",
              " Row(Country_code='at', Country='Austria', Total Library Size=5640, No_of_TVShows=3779, No_of_Movies=1861, Cost Per Month - Basic ($)=9.03, Cost Per Month - Standard ($)=14.67, Cost Per Month - Premium ($)=20.32),\n",
              " Row(Country_code='be', Country='Belgium', Total Library Size=4990, No_of_TVShows=3374, No_of_Movies=1616, Cost Per Month - Basic ($)=10.16, Cost Per Month - Standard ($)=15.24, Cost Per Month - Premium ($)=20.32),\n",
              " Row(Country_code='bo', Country='Bolivia', Total Library Size=4991, No_of_TVShows=3155, No_of_Movies=1836, Cost Per Month - Basic ($)=7.99, Cost Per Month - Standard ($)=10.99, Cost Per Month - Premium ($)=13.99),\n",
              " Row(Country_code='br', Country='Brazil', Total Library Size=4972, No_of_TVShows=3162, No_of_Movies=1810, Cost Per Month - Basic ($)=4.61, Cost Per Month - Standard ($)=7.11, Cost Per Month - Premium ($)=9.96),\n",
              " Row(Country_code='bg', Country='Bulgaria', Total Library Size=6797, No_of_TVShows=4819, No_of_Movies=1978, Cost Per Month - Basic ($)=9.03, Cost Per Month - Standard ($)=11.29, Cost Per Month - Premium ($)=13.54),\n",
              " Row(Country_code='ca', Country='Canada', Total Library Size=6239, No_of_TVShows=4311, No_of_Movies=1928, Cost Per Month - Basic ($)=7.91, Cost Per Month - Standard ($)=11.87, Cost Per Month - Premium ($)=15.03),\n",
              " Row(Country_code='cl', Country='Chile', Total Library Size=4994, No_of_TVShows=3156, No_of_Movies=1838, Cost Per Month - Basic ($)=7.07, Cost Per Month - Standard ($)=9.91, Cost Per Month - Premium ($)=12.74),\n",
              " Row(Country_code='co', Country='Colombia', Total Library Size=4991, No_of_TVShows=3156, No_of_Movies=1835, Cost Per Month - Basic ($)=4.31, Cost Per Month - Standard ($)=6.86, Cost Per Month - Premium ($)=9.93),\n",
              " Row(Country_code='cr', Country='Costa Rica', Total Library Size=4988, No_of_TVShows=3152, No_of_Movies=1836, Cost Per Month - Basic ($)=8.99, Cost Per Month - Standard ($)=12.99, Cost Per Month - Premium ($)=15.99),\n",
              " Row(Country_code='hr', Country='Croatia', Total Library Size=2274, No_of_TVShows=1675, No_of_Movies=599, Cost Per Month - Basic ($)=9.03, Cost Per Month - Standard ($)=11.29, Cost Per Month - Premium ($)=13.54),\n",
              " Row(Country_code='cz', Country='Czechia', Total Library Size=7325, No_of_TVShows=5234, No_of_Movies=2091, Cost Per Month - Basic ($)=8.83, Cost Per Month - Standard ($)=11.49, Cost Per Month - Premium ($)=14.15),\n",
              " Row(Country_code='dk', Country='Denmark', Total Library Size=4558, No_of_TVShows=2978, No_of_Movies=1580, Cost Per Month - Basic ($)=12.0, Cost Per Month - Standard ($)=15.04, Cost Per Month - Premium ($)=19.6),\n",
              " Row(Country_code='ec', Country='Ecuador', Total Library Size=4992, No_of_TVShows=3155, No_of_Movies=1837, Cost Per Month - Basic ($)=7.99, Cost Per Month - Standard ($)=10.99, Cost Per Month - Premium ($)=13.99),\n",
              " Row(Country_code='ee', Country='Estonia', Total Library Size=6456, No_of_TVShows=4486, No_of_Movies=1970, Cost Per Month - Basic ($)=9.03, Cost Per Month - Standard ($)=11.29, Cost Per Month - Premium ($)=13.54),\n",
              " Row(Country_code='fi', Country='Finland', Total Library Size=4045, No_of_TVShows=2638, No_of_Movies=1407, Cost Per Month - Basic ($)=9.03, Cost Per Month - Standard ($)=13.54, Cost Per Month - Premium ($)=18.06),\n",
              " Row(Country_code='fr', Country='France', Total Library Size=5445, No_of_TVShows=3604, No_of_Movies=1841, Cost Per Month - Basic ($)=10.16, Cost Per Month - Standard ($)=15.24, Cost Per Month - Premium ($)=20.32),\n",
              " Row(Country_code='de', Country='Germany', Total Library Size=5668, No_of_TVShows=3814, No_of_Movies=1854, Cost Per Month - Basic ($)=9.03, Cost Per Month - Standard ($)=14.67, Cost Per Month - Premium ($)=20.32),\n",
              " Row(Country_code='gi', Country='Gibraltar', Total Library Size=6167, No_of_TVShows=4079, No_of_Movies=2088, Cost Per Month - Basic ($)=9.03, Cost Per Month - Standard ($)=14.67, Cost Per Month - Premium ($)=20.32),\n",
              " Row(Country_code='gr', Country='Greece', Total Library Size=4772, No_of_TVShows=3344, No_of_Movies=1428, Cost Per Month - Basic ($)=9.03, Cost Per Month - Standard ($)=12.42, Cost Per Month - Premium ($)=15.8),\n",
              " Row(Country_code='gt', Country='Guatemala', Total Library Size=4767, No_of_TVShows=3154, No_of_Movies=1613, Cost Per Month - Basic ($)=7.99, Cost Per Month - Standard ($)=10.99, Cost Per Month - Premium ($)=13.99),\n",
              " Row(Country_code='hn', Country='Honduras', Total Library Size=4989, No_of_TVShows=3154, No_of_Movies=1835, Cost Per Month - Basic ($)=7.99, Cost Per Month - Standard ($)=10.99, Cost Per Month - Premium ($)=13.99),\n",
              " Row(Country_code='hk', Country='Hong Kong', Total Library Size=4746, No_of_TVShows=2883, No_of_Movies=1863, Cost Per Month - Basic ($)=8.08, Cost Per Month - Standard ($)=10.0, Cost Per Month - Premium ($)=11.93),\n",
              " Row(Country_code='hu', Country='Hungary', Total Library Size=6884, No_of_TVShows=4802, No_of_Movies=2082, Cost Per Month - Basic ($)=7.64, Cost Per Month - Standard ($)=10.71, Cost Per Month - Premium ($)=13.78),\n",
              " Row(Country_code='is', Country='Iceland', Total Library Size=6387, No_of_TVShows=4426, No_of_Movies=1961, Cost Per Month - Basic ($)=9.03, Cost Per Month - Standard ($)=14.67, Cost Per Month - Premium ($)=20.32),\n",
              " Row(Country_code='in', Country='India', Total Library Size=5843, No_of_TVShows=3718, No_of_Movies=2125, Cost Per Month - Basic ($)=2.64, Cost Per Month - Standard ($)=6.61, Cost Per Month - Premium ($)=8.6),\n",
              " Row(Country_code='id', Country='Indonesia', Total Library Size=3887, No_of_TVShows=2449, No_of_Movies=1438, Cost Per Month - Basic ($)=8.36, Cost Per Month - Standard ($)=10.66, Cost Per Month - Premium ($)=12.96),\n",
              " Row(Country_code='ie', Country='Ireland', Total Library Size=6486, No_of_TVShows=4515, No_of_Movies=1971, Cost Per Month - Basic ($)=9.03, Cost Per Month - Standard ($)=14.67, Cost Per Month - Premium ($)=20.32),\n",
              " Row(Country_code='il', Country='Israel', Total Library Size=5713, No_of_TVShows=3650, No_of_Movies=2063, Cost Per Month - Basic ($)=10.56, Cost Per Month - Standard ($)=15.05, Cost Per Month - Premium ($)=19.54),\n",
              " Row(Country_code='it', Country='Italy', Total Library Size=5183, No_of_TVShows=3545, No_of_Movies=1638, Cost Per Month - Basic ($)=9.03, Cost Per Month - Standard ($)=14.67, Cost Per Month - Premium ($)=20.32),\n",
              " Row(Country_code='jp', Country='Japan', Total Library Size=5475, No_of_TVShows=3619, No_of_Movies=1856, Cost Per Month - Basic ($)=8.73, Cost Per Month - Standard ($)=13.13, Cost Per Month - Premium ($)=17.45),\n",
              " Row(Country_code='lv', Country='Latvia', Total Library Size=6450, No_of_TVShows=4479, No_of_Movies=1971, Cost Per Month - Basic ($)=9.03, Cost Per Month - Standard ($)=11.29, Cost Per Month - Premium ($)=13.54),\n",
              " Row(Country_code='li', Country='Liechtenstein', Total Library Size=3048, No_of_TVShows=1712, No_of_Movies=1336, Cost Per Month - Basic ($)=12.88, Cost Per Month - Standard ($)=20.46, Cost Per Month - Premium ($)=26.96),\n",
              " Row(Country_code='lt', Country='Lithuania', Total Library Size=6462, No_of_TVShows=4490, No_of_Movies=1972, Cost Per Month - Basic ($)=9.03, Cost Per Month - Standard ($)=11.29, Cost Per Month - Premium ($)=13.54),\n",
              " Row(Country_code='my', Country='Malaysia', Total Library Size=5952, No_of_TVShows=3565, No_of_Movies=2387, Cost Per Month - Basic ($)=8.29, Cost Per Month - Standard ($)=10.65, Cost Per Month - Premium ($)=13.02),\n",
              " Row(Country_code='mx', Country='Mexico', Total Library Size=4993, No_of_TVShows=3158, No_of_Movies=1835, Cost Per Month - Basic ($)=6.62, Cost Per Month - Standard ($)=10.43, Cost Per Month - Premium ($)=14.24),\n",
              " Row(Country_code='md', Country='Moldova', Total Library Size=3937, No_of_TVShows=2473, No_of_Movies=1464, Cost Per Month - Basic ($)=9.03, Cost Per Month - Standard ($)=11.29, Cost Per Month - Premium ($)=13.54),\n",
              " Row(Country_code='mc', Country='Monaco', Total Library Size=5804, No_of_TVShows=3806, No_of_Movies=1998, Cost Per Month - Basic ($)=9.03, Cost Per Month - Standard ($)=13.54, Cost Per Month - Premium ($)=18.06),\n",
              " Row(Country_code='nl', Country='Netherlands', Total Library Size=5376, No_of_TVShows=3779, No_of_Movies=1597, Cost Per Month - Basic ($)=9.03, Cost Per Month - Standard ($)=13.54, Cost Per Month - Premium ($)=18.06),\n",
              " Row(Country_code='nz', Country='New Zealand', Total Library Size=6084, No_of_TVShows=4003, No_of_Movies=2081, Cost Per Month - Basic ($)=8.8, Cost Per Month - Standard ($)=12.53, Cost Per Month - Premium ($)=16.94),\n",
              " Row(Country_code='no', Country='Norway', Total Library Size=4528, No_of_TVShows=2955, No_of_Movies=1573, Cost Per Month - Basic ($)=9.94, Cost Per Month - Standard ($)=12.17, Cost Per Month - Premium ($)=17.75),\n",
              " Row(Country_code='py', Country='Paraguay', Total Library Size=4797, No_of_TVShows=3155, No_of_Movies=1642, Cost Per Month - Basic ($)=8.29, Cost Per Month - Standard ($)=11.49, Cost Per Month - Premium ($)=14.69),\n",
              " Row(Country_code='pe', Country='Peru', Total Library Size=4986, No_of_TVShows=3155, No_of_Movies=1831, Cost Per Month - Basic ($)=6.11, Cost Per Month - Standard ($)=8.56, Cost Per Month - Premium ($)=11.01),\n",
              " Row(Country_code='ph', Country='Philippines', Total Library Size=6362, No_of_TVShows=4154, No_of_Movies=2208, Cost Per Month - Basic ($)=7.35, Cost Per Month - Standard ($)=9.14, Cost Per Month - Premium ($)=10.93),\n",
              " Row(Country_code='pl', Country='Poland', Total Library Size=5109, No_of_TVShows=3512, No_of_Movies=1597, Cost Per Month - Basic ($)=7.13, Cost Per Month - Standard ($)=10.58, Cost Per Month - Premium ($)=14.76),\n",
              " Row(Country_code='pt', Country='Portugal', Total Library Size=5047, No_of_TVShows=3419, No_of_Movies=1628, Cost Per Month - Basic ($)=9.03, Cost Per Month - Standard ($)=13.54, Cost Per Month - Premium ($)=18.06),\n",
              " Row(Country_code='ro', Country='Romania', Total Library Size=5303, No_of_TVShows=3832, No_of_Movies=1471, Cost Per Month - Basic ($)=9.03, Cost Per Month - Standard ($)=11.29, Cost Per Month - Premium ($)=13.54),\n",
              " Row(Country_code='ru', Country='Russia', Total Library Size=5711, No_of_TVShows=3624, No_of_Movies=2087, Cost Per Month - Basic ($)=8.13, Cost Per Month - Standard ($)=10.84, Cost Per Month - Premium ($)=13.56),\n",
              " Row(Country_code='sm', Country='San Marino', Total Library Size=2310, No_of_TVShows=1937, No_of_Movies=373, Cost Per Month - Basic ($)=9.03, Cost Per Month - Standard ($)=14.67, Cost Per Month - Premium ($)=20.32),\n",
              " Row(Country_code='sg', Country='Singapore', Total Library Size=6303, No_of_TVShows=4109, No_of_Movies=2194, Cost Per Month - Basic ($)=9.51, Cost Per Month - Standard ($)=12.81, Cost Per Month - Premium ($)=16.11),\n",
              " Row(Country_code='sk', Country='Slovakia', Total Library Size=7035, No_of_TVShows=5055, No_of_Movies=1980, Cost Per Month - Basic ($)=9.03, Cost Per Month - Standard ($)=11.29, Cost Per Month - Premium ($)=13.54),\n",
              " Row(Country_code='za', Country='South Africa', Total Library Size=5736, No_of_TVShows=3686, No_of_Movies=2050, Cost Per Month - Basic ($)=6.26, Cost Per Month - Standard ($)=10.05, Cost Per Month - Premium ($)=12.58),\n",
              " Row(Country_code='kr', Country='South Korea', Total Library Size=5195, No_of_TVShows=3334, No_of_Movies=1861, Cost Per Month - Basic ($)=8.07, Cost Per Month - Standard ($)=11.47, Cost Per Month - Premium ($)=14.45),\n",
              " Row(Country_code='es', Country='Spain', Total Library Size=5229, No_of_TVShows=3536, No_of_Movies=1693, Cost Per Month - Basic ($)=9.03, Cost Per Month - Standard ($)=14.67, Cost Per Month - Premium ($)=20.32),\n",
              " Row(Country_code='se', Country='Sweden', Total Library Size=4361, No_of_TVShows=2973, No_of_Movies=1388, Cost Per Month - Basic ($)=10.9, Cost Per Month - Standard ($)=14.2, Cost Per Month - Premium ($)=19.7),\n",
              " Row(Country_code='ch', Country='Switzerland', Total Library Size=5506, No_of_TVShows=3654, No_of_Movies=1852, Cost Per Month - Basic ($)=12.88, Cost Per Month - Standard ($)=20.46, Cost Per Month - Premium ($)=26.96),\n",
              " Row(Country_code='tw', Country='Taiwan', Total Library Size=5105, No_of_TVShows=3134, No_of_Movies=1971, Cost Per Month - Basic ($)=9.74, Cost Per Month - Standard ($)=11.9, Cost Per Month - Premium ($)=14.07),\n",
              " Row(Country_code='th', Country='Thailand', Total Library Size=4948, No_of_TVShows=2977, No_of_Movies=1971, Cost Per Month - Basic ($)=8.34, Cost Per Month - Standard ($)=10.43, Cost Per Month - Premium ($)=12.52),\n",
              " Row(Country_code='tr', Country='Turkey', Total Library Size=4639, No_of_TVShows=2930, No_of_Movies=1709, Cost Per Month - Basic ($)=1.97, Cost Per Month - Standard ($)=3.0, Cost Per Month - Premium ($)=4.02),\n",
              " Row(Country_code='ua', Country='Ukraine', Total Library Size=5336, No_of_TVShows=3261, No_of_Movies=2075, Cost Per Month - Basic ($)=5.64, Cost Per Month - Standard ($)=8.46, Cost Per Month - Premium ($)=11.29),\n",
              " Row(Country_code='gb', Country='United Kingdom', Total Library Size=6643, No_of_TVShows=4551, No_of_Movies=2092, Cost Per Month - Basic ($)=7.91, Cost Per Month - Standard ($)=13.2, Cost Per Month - Premium ($)=18.48),\n",
              " Row(Country_code='us', Country='United States', Total Library Size=5818, No_of_TVShows=3826, No_of_Movies=1992, Cost Per Month - Basic ($)=8.99, Cost Per Month - Standard ($)=13.99, Cost Per Month - Premium ($)=17.99),\n",
              " Row(Country_code='uy', Country='Uruguay', Total Library Size=4989, No_of_TVShows=3154, No_of_Movies=1835, Cost Per Month - Basic ($)=8.99, Cost Per Month - Standard ($)=12.99, Cost Per Month - Premium ($)=15.99),\n",
              " Row(Country_code='ve', Country='Venezuela', Total Library Size=4797, No_of_TVShows=3154, No_of_Movies=1643, Cost Per Month - Basic ($)=7.99, Cost Per Month - Standard ($)=10.99, Cost Per Month - Premium ($)=13.99)]"
            ]
          },
          "metadata": {},
          "execution_count": 10
        }
      ]
    },
    {
      "cell_type": "code",
      "source": [
        "from pyspark.sql import functions as F"
      ],
      "metadata": {
        "id": "lPUDsSBoDoCx"
      },
      "execution_count": 11,
      "outputs": []
    },
    {
      "cell_type": "markdown",
      "source": [
        "# Week 2"
      ],
      "metadata": {
        "id": "UcaZ6pFQh_la"
      }
    },
    {
      "cell_type": "markdown",
      "source": [
        "## Joining in Spark\n",
        "\n",
        "\n",
        "Download this dataset https://www.kaggle.com/datasets/iamsouravbanerjee/world-population-dataset\n",
        "\n",
        "\n",
        "and upload to the session storage in Colab"
      ],
      "metadata": {
        "id": "Txey514MlzVn"
      }
    },
    {
      "cell_type": "code",
      "source": [
        "# Load the dataset"
      ],
      "metadata": {
        "id": "JX5knX1OmoyV"
      },
      "execution_count": 19,
      "outputs": []
    },
    {
      "cell_type": "code",
      "source": [],
      "metadata": {
        "colab": {
          "base_uri": "https://localhost:8080/"
        },
        "id": "gLVpaZ7gmfrb",
        "outputId": "4ba3dc62-6bc0-4b76-8031-4e194bd32eeb"
      },
      "execution_count": 20,
      "outputs": [
        {
          "output_type": "stream",
          "name": "stdout",
          "text": [
            "+----+----+-------------------+----------------+-------------+---------------+---------------+---------------+---------------+---------------+---------------+---------------+---------------+----------+-----------------+-----------+---------------------------+\n",
            "|Rank|CCA3|  Country/Territory|         Capital|    Continent|2022 Population|2020 Population|2015 Population|2010 Population|2000 Population|1990 Population|1980 Population|1970 Population|Area (km²)|Density (per km²)|Growth Rate|World Population Percentage|\n",
            "+----+----+-------------------+----------------+-------------+---------------+---------------+---------------+---------------+---------------+---------------+---------------+---------------+----------+-----------------+-----------+---------------------------+\n",
            "|  36| AFG|        Afghanistan|           Kabul|         Asia|       41128771|       38972230|       33753499|       28189672|       19542982|       10694796|       12486631|       10752971|    652230|          63.0587|     1.0257|                       0.52|\n",
            "| 138| ALB|            Albania|          Tirana|       Europe|        2842321|        2866849|        2882481|        2913399|        3182021|        3295066|        2941651|        2324731|     28748|          98.8702|     0.9957|                       0.04|\n",
            "|  34| DZA|            Algeria|         Algiers|       Africa|       44903225|       43451666|       39543154|       35856344|       30774621|       25518074|       18739378|       13795915|   2381741|          18.8531|     1.0164|                       0.56|\n",
            "| 213| ASM|     American Samoa|       Pago Pago|      Oceania|          44273|          46189|          51368|          54849|          58230|          47818|          32886|          27075|       199|         222.4774|     0.9831|                        0.0|\n",
            "| 203| AND|            Andorra|Andorra la Vella|       Europe|          79824|          77700|          71746|          71519|          66097|          53569|          35611|          19860|       468|         170.5641|       1.01|                        0.0|\n",
            "|  42| AGO|             Angola|          Luanda|       Africa|       35588987|       33428485|       28127721|       23364185|       16394062|       11828638|        8330047|        6029700|   1246700|          28.5466|     1.0315|                       0.45|\n",
            "| 224| AIA|           Anguilla|      The Valley|North America|          15857|          15585|          14525|          13172|          11047|           8316|           6560|           6283|        91|         174.2527|     1.0066|                        0.0|\n",
            "| 201| ATG|Antigua and Barbuda|    Saint John’s|North America|          93763|          92664|          89941|          85695|          75055|          63328|          64888|          64516|       442|         212.1335|     1.0058|                        0.0|\n",
            "|  33| ARG|          Argentina|    Buenos Aires|South America|       45510318|       45036032|       43257065|       41100123|       37070774|       32637657|       28024803|       23842803|   2780400|          16.3683|     1.0052|                       0.57|\n",
            "| 140| ARM|            Armenia|         Yerevan|         Asia|        2780469|        2805608|        2878595|        2946293|        3168523|        3556539|        3135123|        2534377|     29743|          93.4831|     0.9962|                       0.03|\n",
            "| 198| ABW|              Aruba|      Oranjestad|North America|         106445|         106585|         104257|         100341|          89101|          65712|          62267|          59106|       180|         591.3611|     0.9991|                        0.0|\n",
            "|  55| AUS|          Australia|        Canberra|      Oceania|       26177413|       25670051|       23820236|       22019168|       19017963|       17048003|       14706322|       12595034|   7692024|           3.4032|     1.0099|                       0.33|\n",
            "|  99| AUT|            Austria|          Vienna|       Europe|        8939617|        8907777|        8642421|        8362829|        8010428|        7678729|        7547561|        7465301|     83871|         106.5877|      1.002|                       0.11|\n",
            "|  91| AZE|         Azerbaijan|            Baku|         Asia|       10358074|       10284951|        9863480|        9237202|        8190337|        7427836|        6383060|        5425317|     86600|         119.6082|     1.0044|                       0.13|\n",
            "| 176| BHS|            Bahamas|          Nassau|North America|         409984|         406471|         392697|         373272|         325014|         270679|         223752|         179129|     13943|          29.4043|     1.0051|                       0.01|\n",
            "| 154| BHR|            Bahrain|          Manama|         Asia|        1472233|        1477469|        1362142|        1213645|         711442|         517418|         362595|         222555|       765|        1924.4876|     1.0061|                       0.02|\n",
            "|   8| BGD|         Bangladesh|           Dhaka|         Asia|      171186372|      167420951|      157830000|      148391139|      129193327|      107147651|       83929765|       67541860|    147570|         1160.035|     1.0108|                       2.15|\n",
            "| 186| BRB|           Barbados|      Bridgetown|North America|         281635|         280693|         278083|         274711|         264657|         258868|         253575|         241397|       430|         654.9651|     1.0015|                        0.0|\n",
            "|  96| BLR|            Belarus|           Minsk|       Europe|        9534954|        9633740|        9700609|        9731427|       10256483|       10428525|        9817257|        9170786|    207600|          45.9295|     0.9955|                       0.12|\n",
            "|  81| BEL|            Belgium|        Brussels|       Europe|       11655930|       11561717|       11248303|       10877947|       10264343|        9959560|        9828986|        9629376|     30528|         381.8111|     1.0038|                       0.15|\n",
            "+----+----+-------------------+----------------+-------------+---------------+---------------+---------------+---------------+---------------+---------------+---------------+---------------+----------+-----------------+-----------+---------------------------+\n",
            "only showing top 20 rows\n",
            "\n"
          ]
        }
      ]
    },
    {
      "cell_type": "markdown",
      "source": [
        "## Sort\n",
        "\n",
        "the dataframe by \"World Population Percentage\""
      ],
      "metadata": {
        "id": "jWv_6mLGnHVR"
      }
    },
    {
      "cell_type": "code",
      "source": [],
      "metadata": {
        "colab": {
          "base_uri": "https://localhost:8080/"
        },
        "id": "7XnAACJinHFE",
        "outputId": "99366ba8-3797-41de-f2d8-16aa3da34a89"
      },
      "execution_count": 24,
      "outputs": [
        {
          "output_type": "stream",
          "name": "stdout",
          "text": [
            "+----+----+-----------------+----------------+-------------+---------------+---------------+---------------+---------------+---------------+---------------+---------------+---------------+----------+-----------------+-----------+---------------------------+\n",
            "|Rank|CCA3|Country/Territory|         Capital|    Continent|2022 Population|2020 Population|2015 Population|2010 Population|2000 Population|1990 Population|1980 Population|1970 Population|Area (km²)|Density (per km²)|Growth Rate|World Population Percentage|\n",
            "+----+----+-----------------+----------------+-------------+---------------+---------------+---------------+---------------+---------------+---------------+---------------+---------------+----------+-----------------+-----------+---------------------------+\n",
            "|   1| CHN|            China|         Beijing|         Asia|     1425887337|     1424929781|     1393715448|     1348191368|     1264099069|     1153704252|      982372466|      822534450|   9706961|         146.8933|        1.0|                      17.88|\n",
            "|   2| IND|            India|       New Delhi|         Asia|     1417173173|     1396387127|     1322866505|     1240613620|     1059633675|      870452165|      696828385|      557501301|   3287590|         431.0675|     1.0068|                      17.77|\n",
            "|   3| USA|    United States|Washington, D.C.|North America|      338289857|      335942003|      324607776|      311182845|      282398554|      248083732|      223140018|      200328340|   9372610|          36.0935|     1.0038|                       4.24|\n",
            "|   4| IDN|        Indonesia|         Jakarta|         Asia|      275501339|      271857970|      259091970|      244016173|      214072421|      182159874|      148177096|      115228394|   1904569|         144.6529|     1.0064|                       3.45|\n",
            "|   5| PAK|         Pakistan|       Islamabad|         Asia|      235824862|      227196741|      210969298|      194454498|      154369924|      115414069|       80624057|       59290872|    881912|         267.4018|     1.0191|                       2.96|\n",
            "|   6| NGA|          Nigeria|           Abuja|       Africa|      218541212|      208327405|      183995785|      160952853|      122851984|       95214257|       72951439|       55569264|    923768|         236.5759|     1.0241|                       2.74|\n",
            "|   7| BRA|           Brazil|        Brasilia|South America|      215313498|      213196304|      205188205|      196353492|      175873720|      150706446|      122288383|       96369875|   8515767|          25.2841|     1.0046|                        2.7|\n",
            "|   8| BGD|       Bangladesh|           Dhaka|         Asia|      171186372|      167420951|      157830000|      148391139|      129193327|      107147651|       83929765|       67541860|    147570|         1160.035|     1.0108|                       2.15|\n",
            "|   9| RUS|           Russia|          Moscow|       Europe|      144713314|      145617329|      144668389|      143242599|      146844839|      148005704|      138257420|      130093010|  17098242|           8.4636|     0.9973|                       1.81|\n",
            "|  10| MEX|           Mexico|     Mexico City|North America|      127504125|      125998302|      120149897|      112532401|       97873442|       81720428|       67705186|       50289306|   1964375|          64.9082|     1.0063|                        1.6|\n",
            "|  11| JPN|            Japan|           Tokyo|         Asia|      123951692|      125244761|      127250933|      128105431|      126803861|      123686321|      117624196|      105416839|    377930|         327.9753|     0.9947|                       1.55|\n",
            "|  12| ETH|         Ethiopia|     Addis Ababa|       Africa|      123379924|      117190911|      102471895|       89237791|       67031867|       47878073|       34945469|       28308246|   1104300|         111.7268|     1.0257|                       1.55|\n",
            "|  13| PHL|      Philippines|          Manila|         Asia|      115559009|      112190977|      103031365|       94636700|       77958223|       61558898|       48419546|       37435586|    342353|         337.5434|     1.0147|                       1.45|\n",
            "|  14| EGY|            Egypt|           Cairo|       Africa|      110990103|      107465134|       97723799|       87252413|       71371371|       57214630|       43748556|       34781986|   1002450|         110.7188|     1.0158|                       1.39|\n",
            "|  15| COD|         DR Congo|        Kinshasa|       Africa|       99010212|       92853164|       78656904|       66391257|       48616317|       35987541|       26708686|       20151733|   2344858|          42.2244|     1.0325|                       1.24|\n",
            "|  16| VNM|          Vietnam|           Hanoi|         Asia|       98186856|       96648685|       92191398|       87411012|       79001142|       66912613|       52968270|       41928849|    331212|         296.4472|     1.0074|                       1.23|\n",
            "|  17| IRN|             Iran|          Tehran|         Asia|       88550570|       87290193|       81790841|       75373855|       65544383|       55793629|       38520664|       28449705|   1648195|          53.7258|     1.0071|                       1.11|\n",
            "|  18| TUR|           Turkey|          Ankara|         Asia|       85341241|       84135428|       79646178|       73195345|       64113547|       54324142|       44089069|       35540990|    783562|         108.9145|     1.0067|                       1.07|\n",
            "|  19| DEU|          Germany|          Berlin|       Europe|       83369843|       83328988|       82073226|       81325090|       81551677|       79370196|       77786703|       78294583|    357114|         233.4544|     0.9995|                       1.05|\n",
            "|  20| THA|         Thailand|         Bangkok|         Asia|       71697030|       71475664|       70294397|       68270489|       63066603|       55228410|       45737753|       35791728|    513120|         139.7276|     1.0013|                        0.9|\n",
            "+----+----+-----------------+----------------+-------------+---------------+---------------+---------------+---------------+---------------+---------------+---------------+---------------+----------+-----------------+-----------+---------------------------+\n",
            "only showing top 20 rows\n",
            "\n"
          ]
        }
      ]
    },
    {
      "cell_type": "code",
      "source": [],
      "metadata": {
        "colab": {
          "base_uri": "https://localhost:8080/"
        },
        "outputId": "8881b526-6503-44ae-b7c1-3411a9279cbe",
        "id": "GT91n3gEoCVv"
      },
      "execution_count": 25,
      "outputs": [
        {
          "output_type": "stream",
          "name": "stdout",
          "text": [
            "+----+----+-----------------+----------------+-------------+---------------+---------------+---------------+---------------+---------------+---------------+---------------+---------------+----------+-----------------+-----------+---------------------------+\n",
            "|Rank|CCA3|Country/Territory|         Capital|    Continent|2022 Population|2020 Population|2015 Population|2010 Population|2000 Population|1990 Population|1980 Population|1970 Population|Area (km²)|Density (per km²)|Growth Rate|World Population Percentage|\n",
            "+----+----+-----------------+----------------+-------------+---------------+---------------+---------------+---------------+---------------+---------------+---------------+---------------+----------+-----------------+-----------+---------------------------+\n",
            "|   9| RUS|           Russia|          Moscow|       Europe|      144713314|      145617329|      144668389|      143242599|      146844839|      148005704|      138257420|      130093010|  17098242|           8.4636|     0.9973|                       1.81|\n",
            "|  39| CAN|           Canada|          Ottawa|North America|       38454327|       37888705|       35732126|       33963412|       30683313|       27657204|       24511510|       21434577|   9984670|           3.8513|     1.0078|                       0.48|\n",
            "|   1| CHN|            China|         Beijing|         Asia|     1425887337|     1424929781|     1393715448|     1348191368|     1264099069|     1153704252|      982372466|      822534450|   9706961|         146.8933|        1.0|                      17.88|\n",
            "|   3| USA|    United States|Washington, D.C.|North America|      338289857|      335942003|      324607776|      311182845|      282398554|      248083732|      223140018|      200328340|   9372610|          36.0935|     1.0038|                       4.24|\n",
            "|   7| BRA|           Brazil|        Brasilia|South America|      215313498|      213196304|      205188205|      196353492|      175873720|      150706446|      122288383|       96369875|   8515767|          25.2841|     1.0046|                        2.7|\n",
            "|  55| AUS|        Australia|        Canberra|      Oceania|       26177413|       25670051|       23820236|       22019168|       19017963|       17048003|       14706322|       12595034|   7692024|           3.4032|     1.0099|                       0.33|\n",
            "|   2| IND|            India|       New Delhi|         Asia|     1417173173|     1396387127|     1322866505|     1240613620|     1059633675|      870452165|      696828385|      557501301|   3287590|         431.0675|     1.0068|                      17.77|\n",
            "|  33| ARG|        Argentina|    Buenos Aires|South America|       45510318|       45036032|       43257065|       41100123|       37070774|       32637657|       28024803|       23842803|   2780400|          16.3683|     1.0052|                       0.57|\n",
            "|  66| KAZ|       Kazakhstan|       Nursultan|         Asia|       19397998|       18979243|       17835909|       16627837|       15236253|       16866563|       14172710|       12265305|   2724900|           7.1188|     1.0105|                       0.24|\n",
            "|  34| DZA|          Algeria|         Algiers|       Africa|       44903225|       43451666|       39543154|       35856344|       30774621|       25518074|       18739378|       13795915|   2381741|          18.8531|     1.0164|                       0.56|\n",
            "|  15| COD|         DR Congo|        Kinshasa|       Africa|       99010212|       92853164|       78656904|       66391257|       48616317|       35987541|       26708686|       20151733|   2344858|          42.2244|     1.0325|                       1.24|\n",
            "| 208| GRL|        Greenland|            Nuuk|North America|          56466|          56026|          55895|          56351|          56184|          55599|          50106|          45434|   2166086|           0.0261|      1.004|                        0.0|\n",
            "|  41| SAU|     Saudi Arabia|          Riyadh|         Asia|       36408820|       35997107|       32749848|       29411929|       21547390|       16004763|       10171710|        6106191|   2149690|          16.9368|     1.0128|                       0.46|\n",
            "|  10| MEX|           Mexico|     Mexico City|North America|      127504125|      125998302|      120149897|      112532401|       97873442|       81720428|       67705186|       50289306|   1964375|          64.9082|     1.0063|                        1.6|\n",
            "|   4| IDN|        Indonesia|         Jakarta|         Asia|      275501339|      271857970|      259091970|      244016173|      214072421|      182159874|      148177096|      115228394|   1904569|         144.6529|     1.0064|                       3.45|\n",
            "|  32| SDN|            Sudan|        Khartoum|       Africa|       46874204|       44440486|       38171178|       33739933|       26298773|       21090886|       16673586|       11305206|   1886068|          24.8529|     1.0267|                       0.59|\n",
            "| 107| LBY|            Libya|         Tripoli|       Africa|        6812341|        6653942|        6192235|        6491988|        5154790|        4236983|        2962720|        1909177|   1759540|           3.8717|     1.0114|                       0.09|\n",
            "|  17| IRN|             Iran|          Tehran|         Asia|       88550570|       87290193|       81790841|       75373855|       65544383|       55793629|       38520664|       28449705|   1648195|          53.7258|     1.0071|                       1.11|\n",
            "| 134| MNG|         Mongolia|     Ulaanbaatar|         Asia|        3398366|        3294335|        2964749|        2702520|        2450979|        2161433|        1697780|        1293880|   1564110|           2.1727|     1.0151|                       0.04|\n",
            "|  44| PER|             Peru|            Lima|South America|       34049588|       33304756|       30711863|       29229572|       26654439|       22109099|       17492406|       13562371|   1285216|          26.4933|     1.0099|                       0.43|\n",
            "+----+----+-----------------+----------------+-------------+---------------+---------------+---------------+---------------+---------------+---------------+---------------+---------------+----------+-----------------+-----------+---------------------------+\n",
            "only showing top 20 rows\n",
            "\n"
          ]
        }
      ]
    },
    {
      "cell_type": "markdown",
      "source": [
        "## Download and upload to session.\n",
        "\n",
        "This dataset as well. https://github.com/lukes/ISO-3166-Countries-with-Regional-Codes/blob/master/all/all.csv"
      ],
      "metadata": {
        "id": "ayGNAGckovQc"
      }
    },
    {
      "cell_type": "code",
      "source": [],
      "metadata": {
        "id": "wCiFUrQwou59"
      },
      "execution_count": 26,
      "outputs": []
    },
    {
      "cell_type": "code",
      "source": [],
      "metadata": {
        "colab": {
          "base_uri": "https://localhost:8080/"
        },
        "id": "cwFbTBYjpEmw",
        "outputId": "9b66f2db-ec11-4212-d1f7-ce1dff028c70"
      },
      "execution_count": 27,
      "outputs": [
        {
          "output_type": "stream",
          "name": "stdout",
          "text": [
            "+-------------------+-------+-------+------------+-------------+--------+--------------------+-------------------+-----------+---------------+------------------------+\n",
            "|               name|alpha-2|alpha-3|country-code|   iso_3166-2|  region|          sub-region|intermediate-region|region-code|sub-region-code|intermediate-region-code|\n",
            "+-------------------+-------+-------+------------+-------------+--------+--------------------+-------------------+-----------+---------------+------------------------+\n",
            "|        Afghanistan|     AF|    AFG|           4|ISO 3166-2:AF|    Asia|       Southern Asia|               NULL|        142|             34|                    NULL|\n",
            "|      Åland Islands|     AX|    ALA|         248|ISO 3166-2:AX|  Europe|     Northern Europe|               NULL|        150|            154|                    NULL|\n",
            "|            Albania|     AL|    ALB|           8|ISO 3166-2:AL|  Europe|     Southern Europe|               NULL|        150|             39|                    NULL|\n",
            "|            Algeria|     DZ|    DZA|          12|ISO 3166-2:DZ|  Africa|     Northern Africa|               NULL|          2|             15|                    NULL|\n",
            "|     American Samoa|     AS|    ASM|          16|ISO 3166-2:AS| Oceania|           Polynesia|               NULL|          9|             61|                    NULL|\n",
            "|            Andorra|     AD|    AND|          20|ISO 3166-2:AD|  Europe|     Southern Europe|               NULL|        150|             39|                    NULL|\n",
            "|             Angola|     AO|    AGO|          24|ISO 3166-2:AO|  Africa|  Sub-Saharan Africa|      Middle Africa|          2|            202|                      17|\n",
            "|           Anguilla|     AI|    AIA|         660|ISO 3166-2:AI|Americas|Latin America and...|          Caribbean|         19|            419|                      29|\n",
            "|         Antarctica|     AQ|    ATA|          10|ISO 3166-2:AQ|    NULL|                NULL|               NULL|       NULL|           NULL|                    NULL|\n",
            "|Antigua and Barbuda|     AG|    ATG|          28|ISO 3166-2:AG|Americas|Latin America and...|          Caribbean|         19|            419|                      29|\n",
            "|          Argentina|     AR|    ARG|          32|ISO 3166-2:AR|Americas|Latin America and...|      South America|         19|            419|                       5|\n",
            "|            Armenia|     AM|    ARM|          51|ISO 3166-2:AM|    Asia|        Western Asia|               NULL|        142|            145|                    NULL|\n",
            "|              Aruba|     AW|    ABW|         533|ISO 3166-2:AW|Americas|Latin America and...|          Caribbean|         19|            419|                      29|\n",
            "|          Australia|     AU|    AUS|          36|ISO 3166-2:AU| Oceania|Australia and New...|               NULL|          9|             53|                    NULL|\n",
            "|            Austria|     AT|    AUT|          40|ISO 3166-2:AT|  Europe|      Western Europe|               NULL|        150|            155|                    NULL|\n",
            "|         Azerbaijan|     AZ|    AZE|          31|ISO 3166-2:AZ|    Asia|        Western Asia|               NULL|        142|            145|                    NULL|\n",
            "|            Bahamas|     BS|    BHS|          44|ISO 3166-2:BS|Americas|Latin America and...|          Caribbean|         19|            419|                      29|\n",
            "|            Bahrain|     BH|    BHR|          48|ISO 3166-2:BH|    Asia|        Western Asia|               NULL|        142|            145|                    NULL|\n",
            "|         Bangladesh|     BD|    BGD|          50|ISO 3166-2:BD|    Asia|       Southern Asia|               NULL|        142|             34|                    NULL|\n",
            "|           Barbados|     BB|    BRB|          52|ISO 3166-2:BB|Americas|Latin America and...|          Caribbean|         19|            419|                      29|\n",
            "+-------------------+-------+-------+------------+-------------+--------+--------------------+-------------------+-----------+---------------+------------------------+\n",
            "only showing top 20 rows\n",
            "\n"
          ]
        }
      ]
    },
    {
      "cell_type": "markdown",
      "source": [
        "## Joining\n",
        "\n",
        "join the two dataframe on the CCA3 and alpha-3 columns"
      ],
      "metadata": {
        "id": "PGGhNmt3pKs_"
      }
    },
    {
      "cell_type": "code",
      "source": [],
      "metadata": {
        "id": "hxwubpwLogfG"
      },
      "execution_count": 31,
      "outputs": []
    },
    {
      "cell_type": "code",
      "source": [],
      "metadata": {
        "colab": {
          "base_uri": "https://localhost:8080/"
        },
        "id": "iH5nLKBBqAwA",
        "outputId": "9a49e246-b169-4aea-d6b2-a9314d97eb1b"
      },
      "execution_count": 40,
      "outputs": [
        {
          "output_type": "stream",
          "name": "stdout",
          "text": [
            "+----+----+-------------------+----------------+-------------+---------------+---------------+---------------+---------------+---------------+---------------+---------------+---------------+----------+-----------------+-----------+---------------------------+-------------------+-------+-------+------------+-------------+--------+--------------------+-------------------+-----------+---------------+------------------------+\n",
            "|Rank|CCA3|  Country/Territory|         Capital|    Continent|2022 Population|2020 Population|2015 Population|2010 Population|2000 Population|1990 Population|1980 Population|1970 Population|Area (km²)|Density (per km²)|Growth Rate|World Population Percentage|               name|alpha-2|alpha-3|country-code|   iso_3166-2|  region|          sub-region|intermediate-region|region-code|sub-region-code|intermediate-region-code|\n",
            "+----+----+-------------------+----------------+-------------+---------------+---------------+---------------+---------------+---------------+---------------+---------------+---------------+----------+-----------------+-----------+---------------------------+-------------------+-------+-------+------------+-------------+--------+--------------------+-------------------+-----------+---------------+------------------------+\n",
            "|  36| AFG|        Afghanistan|           Kabul|         Asia|       41128771|       38972230|       33753499|       28189672|       19542982|       10694796|       12486631|       10752971|    652230|          63.0587|     1.0257|                       0.52|        Afghanistan|     AF|    AFG|           4|ISO 3166-2:AF|    Asia|       Southern Asia|               NULL|        142|             34|                    NULL|\n",
            "| 138| ALB|            Albania|          Tirana|       Europe|        2842321|        2866849|        2882481|        2913399|        3182021|        3295066|        2941651|        2324731|     28748|          98.8702|     0.9957|                       0.04|            Albania|     AL|    ALB|           8|ISO 3166-2:AL|  Europe|     Southern Europe|               NULL|        150|             39|                    NULL|\n",
            "|  34| DZA|            Algeria|         Algiers|       Africa|       44903225|       43451666|       39543154|       35856344|       30774621|       25518074|       18739378|       13795915|   2381741|          18.8531|     1.0164|                       0.56|            Algeria|     DZ|    DZA|          12|ISO 3166-2:DZ|  Africa|     Northern Africa|               NULL|          2|             15|                    NULL|\n",
            "| 213| ASM|     American Samoa|       Pago Pago|      Oceania|          44273|          46189|          51368|          54849|          58230|          47818|          32886|          27075|       199|         222.4774|     0.9831|                        0.0|     American Samoa|     AS|    ASM|          16|ISO 3166-2:AS| Oceania|           Polynesia|               NULL|          9|             61|                    NULL|\n",
            "| 203| AND|            Andorra|Andorra la Vella|       Europe|          79824|          77700|          71746|          71519|          66097|          53569|          35611|          19860|       468|         170.5641|       1.01|                        0.0|            Andorra|     AD|    AND|          20|ISO 3166-2:AD|  Europe|     Southern Europe|               NULL|        150|             39|                    NULL|\n",
            "|  42| AGO|             Angola|          Luanda|       Africa|       35588987|       33428485|       28127721|       23364185|       16394062|       11828638|        8330047|        6029700|   1246700|          28.5466|     1.0315|                       0.45|             Angola|     AO|    AGO|          24|ISO 3166-2:AO|  Africa|  Sub-Saharan Africa|      Middle Africa|          2|            202|                      17|\n",
            "| 224| AIA|           Anguilla|      The Valley|North America|          15857|          15585|          14525|          13172|          11047|           8316|           6560|           6283|        91|         174.2527|     1.0066|                        0.0|           Anguilla|     AI|    AIA|         660|ISO 3166-2:AI|Americas|Latin America and...|          Caribbean|         19|            419|                      29|\n",
            "| 201| ATG|Antigua and Barbuda|    Saint John’s|North America|          93763|          92664|          89941|          85695|          75055|          63328|          64888|          64516|       442|         212.1335|     1.0058|                        0.0|Antigua and Barbuda|     AG|    ATG|          28|ISO 3166-2:AG|Americas|Latin America and...|          Caribbean|         19|            419|                      29|\n",
            "|  33| ARG|          Argentina|    Buenos Aires|South America|       45510318|       45036032|       43257065|       41100123|       37070774|       32637657|       28024803|       23842803|   2780400|          16.3683|     1.0052|                       0.57|          Argentina|     AR|    ARG|          32|ISO 3166-2:AR|Americas|Latin America and...|      South America|         19|            419|                       5|\n",
            "| 140| ARM|            Armenia|         Yerevan|         Asia|        2780469|        2805608|        2878595|        2946293|        3168523|        3556539|        3135123|        2534377|     29743|          93.4831|     0.9962|                       0.03|            Armenia|     AM|    ARM|          51|ISO 3166-2:AM|    Asia|        Western Asia|               NULL|        142|            145|                    NULL|\n",
            "| 198| ABW|              Aruba|      Oranjestad|North America|         106445|         106585|         104257|         100341|          89101|          65712|          62267|          59106|       180|         591.3611|     0.9991|                        0.0|              Aruba|     AW|    ABW|         533|ISO 3166-2:AW|Americas|Latin America and...|          Caribbean|         19|            419|                      29|\n",
            "|  55| AUS|          Australia|        Canberra|      Oceania|       26177413|       25670051|       23820236|       22019168|       19017963|       17048003|       14706322|       12595034|   7692024|           3.4032|     1.0099|                       0.33|          Australia|     AU|    AUS|          36|ISO 3166-2:AU| Oceania|Australia and New...|               NULL|          9|             53|                    NULL|\n",
            "|  99| AUT|            Austria|          Vienna|       Europe|        8939617|        8907777|        8642421|        8362829|        8010428|        7678729|        7547561|        7465301|     83871|         106.5877|      1.002|                       0.11|            Austria|     AT|    AUT|          40|ISO 3166-2:AT|  Europe|      Western Europe|               NULL|        150|            155|                    NULL|\n",
            "|  91| AZE|         Azerbaijan|            Baku|         Asia|       10358074|       10284951|        9863480|        9237202|        8190337|        7427836|        6383060|        5425317|     86600|         119.6082|     1.0044|                       0.13|         Azerbaijan|     AZ|    AZE|          31|ISO 3166-2:AZ|    Asia|        Western Asia|               NULL|        142|            145|                    NULL|\n",
            "| 176| BHS|            Bahamas|          Nassau|North America|         409984|         406471|         392697|         373272|         325014|         270679|         223752|         179129|     13943|          29.4043|     1.0051|                       0.01|            Bahamas|     BS|    BHS|          44|ISO 3166-2:BS|Americas|Latin America and...|          Caribbean|         19|            419|                      29|\n",
            "| 154| BHR|            Bahrain|          Manama|         Asia|        1472233|        1477469|        1362142|        1213645|         711442|         517418|         362595|         222555|       765|        1924.4876|     1.0061|                       0.02|            Bahrain|     BH|    BHR|          48|ISO 3166-2:BH|    Asia|        Western Asia|               NULL|        142|            145|                    NULL|\n",
            "|   8| BGD|         Bangladesh|           Dhaka|         Asia|      171186372|      167420951|      157830000|      148391139|      129193327|      107147651|       83929765|       67541860|    147570|         1160.035|     1.0108|                       2.15|         Bangladesh|     BD|    BGD|          50|ISO 3166-2:BD|    Asia|       Southern Asia|               NULL|        142|             34|                    NULL|\n",
            "| 186| BRB|           Barbados|      Bridgetown|North America|         281635|         280693|         278083|         274711|         264657|         258868|         253575|         241397|       430|         654.9651|     1.0015|                        0.0|           Barbados|     BB|    BRB|          52|ISO 3166-2:BB|Americas|Latin America and...|          Caribbean|         19|            419|                      29|\n",
            "|  96| BLR|            Belarus|           Minsk|       Europe|        9534954|        9633740|        9700609|        9731427|       10256483|       10428525|        9817257|        9170786|    207600|          45.9295|     0.9955|                       0.12|            Belarus|     BY|    BLR|         112|ISO 3166-2:BY|  Europe|      Eastern Europe|               NULL|        150|            151|                    NULL|\n",
            "|  81| BEL|            Belgium|        Brussels|       Europe|       11655930|       11561717|       11248303|       10877947|       10264343|        9959560|        9828986|        9629376|     30528|         381.8111|     1.0038|                       0.15|            Belgium|     BE|    BEL|          56|ISO 3166-2:BE|  Europe|      Western Europe|               NULL|        150|            155|                    NULL|\n",
            "+----+----+-------------------+----------------+-------------+---------------+---------------+---------------+---------------+---------------+---------------+---------------+---------------+----------+-----------------+-----------+---------------------------+-------------------+-------+-------+------------+-------------+--------+--------------------+-------------------+-----------+---------------+------------------------+\n",
            "only showing top 20 rows\n",
            "\n"
          ]
        }
      ]
    },
    {
      "cell_type": "markdown",
      "source": [
        "## WithColoumn\n",
        "\n",
        "WithColoumn is used to create a new col based on some logic in the existing columns or external factors.  \n",
        "\n",
        "Capitalise the country code and create a new column 'CC_Capitals'"
      ],
      "metadata": {
        "id": "grlMvD0miwq5"
      }
    },
    {
      "cell_type": "code",
      "source": [],
      "metadata": {
        "colab": {
          "base_uri": "https://localhost:8080/"
        },
        "id": "_rG6qcTuiWPF",
        "outputId": "a0762a29-616f-45be-ef4c-5e93d9028c3a"
      },
      "execution_count": 38,
      "outputs": [
        {
          "output_type": "stream",
          "name": "stdout",
          "text": [
            "+------------+----------+------------------+-------------+------------+--------------------------+-----------------------------+----------------------------+-----------+\n",
            "|Country_code|   Country|Total Library Size|No_of_TVShows|No_of_Movies|Cost Per Month - Basic ($)|Cost Per Month - Standard ($)|Cost Per Month - Premium ($)|CC_Capitals|\n",
            "+------------+----------+------------------+-------------+------------+--------------------------+-----------------------------+----------------------------+-----------+\n",
            "|          ar| Argentina|              4760|         3154|        1606|                      3.74|                          6.3|                        9.26|         AR|\n",
            "|          au| Australia|              6114|         4050|        2064|                      7.84|                        12.12|                       16.39|         AU|\n",
            "|          at|   Austria|              5640|         3779|        1861|                      9.03|                        14.67|                       20.32|         AT|\n",
            "|          be|   Belgium|              4990|         3374|        1616|                     10.16|                        15.24|                       20.32|         BE|\n",
            "|          bo|   Bolivia|              4991|         3155|        1836|                      7.99|                        10.99|                       13.99|         BO|\n",
            "|          br|    Brazil|              4972|         3162|        1810|                      4.61|                         7.11|                        9.96|         BR|\n",
            "|          bg|  Bulgaria|              6797|         4819|        1978|                      9.03|                        11.29|                       13.54|         BG|\n",
            "|          ca|    Canada|              6239|         4311|        1928|                      7.91|                        11.87|                       15.03|         CA|\n",
            "|          cl|     Chile|              4994|         3156|        1838|                      7.07|                         9.91|                       12.74|         CL|\n",
            "|          co|  Colombia|              4991|         3156|        1835|                      4.31|                         6.86|                        9.93|         CO|\n",
            "|          cr|Costa Rica|              4988|         3152|        1836|                      8.99|                        12.99|                       15.99|         CR|\n",
            "|          hr|   Croatia|              2274|         1675|         599|                      9.03|                        11.29|                       13.54|         HR|\n",
            "|          cz|   Czechia|              7325|         5234|        2091|                      8.83|                        11.49|                       14.15|         CZ|\n",
            "|          dk|   Denmark|              4558|         2978|        1580|                      12.0|                        15.04|                        19.6|         DK|\n",
            "|          ec|   Ecuador|              4992|         3155|        1837|                      7.99|                        10.99|                       13.99|         EC|\n",
            "|          ee|   Estonia|              6456|         4486|        1970|                      9.03|                        11.29|                       13.54|         EE|\n",
            "|          fi|   Finland|              4045|         2638|        1407|                      9.03|                        13.54|                       18.06|         FI|\n",
            "|          fr|    France|              5445|         3604|        1841|                     10.16|                        15.24|                       20.32|         FR|\n",
            "|          de|   Germany|              5668|         3814|        1854|                      9.03|                        14.67|                       20.32|         DE|\n",
            "|          gi| Gibraltar|              6167|         4079|        2088|                      9.03|                        14.67|                       20.32|         GI|\n",
            "+------------+----------+------------------+-------------+------------+--------------------------+-----------------------------+----------------------------+-----------+\n",
            "only showing top 20 rows\n",
            "\n"
          ]
        }
      ]
    },
    {
      "cell_type": "markdown",
      "source": [
        "## Join\n",
        "\n",
        "https://i.ytimg.com/vi/Sh4ENyItXK8/hqdefault.jpg\n",
        "\n",
        "Join the capitalised dataframe with the population dataframe on the CC_Capitals and alpha-2 columns.\n",
        "\n",
        "\n",
        "a small intro to joins is given in the pic\n",
        "\n",
        "name the df \"netflix_data_with_populations\""
      ],
      "metadata": {
        "id": "KxUIbmZssJPp"
      }
    },
    {
      "cell_type": "code",
      "source": [],
      "metadata": {
        "id": "VzrkPJtxq8Yn"
      },
      "execution_count": 44,
      "outputs": []
    },
    {
      "cell_type": "code",
      "source": [],
      "metadata": {
        "colab": {
          "base_uri": "https://localhost:8080/"
        },
        "id": "TKcRUStkrzlw",
        "outputId": "a515884a-b744-4fa6-a39d-9c9d44509037"
      },
      "execution_count": 46,
      "outputs": [
        {
          "output_type": "execute_result",
          "data": {
            "text/plain": [
              "65"
            ]
          },
          "metadata": {},
          "execution_count": 46
        }
      ]
    },
    {
      "cell_type": "markdown",
      "source": [
        "## Aggregating functions\n",
        "\n",
        "1.   Find the average population min and max in each continent using agg and grouby\n",
        "2.   Find out using dataframe ops how to get the max value of a col\n",
        "\n"
      ],
      "metadata": {
        "id": "cOuw17crjWb3"
      }
    },
    {
      "cell_type": "code",
      "source": [],
      "metadata": {
        "colab": {
          "base_uri": "https://localhost:8080/"
        },
        "id": "EVyVM85hjVyW",
        "outputId": "bcad520d-8d40-4f9b-8362-04f83584565d"
      },
      "execution_count": 49,
      "outputs": [
        {
          "output_type": "stream",
          "name": "stdout",
          "text": [
            "+-------------+--------------------+--------------+--------------+\n",
            "|    Continent|      Population Avg|Population min|Population max|\n",
            "+-------------+--------------------+--------------+--------------+\n",
            "|       Europe|       1.486295076E7|           510|     144713314|\n",
            "|       Africa|2.5030367228070177E7|        107118|     218541212|\n",
            "|North America|        1.50074034E7|          4390|     338289857|\n",
            "|South America|3.1201186285714287E7|          3780|     215313498|\n",
            "|      Oceania|           1958198.0|          1871|      26177413|\n",
            "|         Asia|       9.442766548E7|        449002|    1425887337|\n",
            "+-------------+--------------------+--------------+--------------+\n",
            "\n"
          ]
        }
      ]
    },
    {
      "cell_type": "markdown",
      "source": [
        "\n",
        "\n",
        "For the above dataframe see how many countries in each continent as well"
      ],
      "metadata": {
        "id": "qYYunn75y78Z"
      }
    },
    {
      "cell_type": "code",
      "source": [],
      "metadata": {
        "colab": {
          "base_uri": "https://localhost:8080/"
        },
        "id": "Q2Ob5UX-x3r7",
        "outputId": "bf955419-6090-449c-b861-dbcf883189d9"
      },
      "execution_count": 50,
      "outputs": [
        {
          "output_type": "stream",
          "name": "stdout",
          "text": [
            "+-------------+--------------------+--------------+--------------+-------------+\n",
            "|    Continent|      Population Avg|Population min|Population max|Country Count|\n",
            "+-------------+--------------------+--------------+--------------+-------------+\n",
            "|       Europe|       1.486295076E7|           510|     144713314|           50|\n",
            "|       Africa|2.5030367228070177E7|        107118|     218541212|           57|\n",
            "|North America|        1.50074034E7|          4390|     338289857|           40|\n",
            "|South America|3.1201186285714287E7|          3780|     215313498|           14|\n",
            "|      Oceania|           1958198.0|          1871|      26177413|           23|\n",
            "|         Asia|       9.442766548E7|        449002|    1425887337|           50|\n",
            "+-------------+--------------------+--------------+--------------+-------------+\n",
            "\n"
          ]
        }
      ]
    },
    {
      "cell_type": "markdown",
      "source": [
        "## Challenging Tasks\n",
        "\n",
        "for the netflix_data_with_populations dataframe,\n",
        "\n",
        "1.   Find the average population min and max in each continent using agg and grouby\n",
        "2.   Find out using dataframe ops how to get the max value of a col\n",
        "3.   For this dataframe see how many countries in each continent as well\n",
        "4. why is there a difference in the no of countries"
      ],
      "metadata": {
        "id": "BX_dAn_9zgrw"
      }
    },
    {
      "cell_type": "code",
      "source": [],
      "metadata": {
        "colab": {
          "base_uri": "https://localhost:8080/"
        },
        "id": "ye9Poz1oziSu",
        "outputId": "ef9b911d-125e-4127-8d53-64ae3d0535b4"
      },
      "execution_count": 52,
      "outputs": [
        {
          "output_type": "stream",
          "name": "stdout",
          "text": [
            "+-------------+--------------------+--------------+--------------+-------------+\n",
            "|    Continent|      Population Avg|Population min|Population max|Country Count|\n",
            "+-------------+--------------------+--------------+--------------+-------------+\n",
            "|       Europe|2.0960307411764707E7|         32649|     144713314|           34|\n",
            "|       Africa|         5.9893885E7|      59893885|      59893885|            1|\n",
            "|North America|         8.9617651E7|       5180829|     338289857|            6|\n",
            "|South America|        4.35081505E7|       3422794|     215313498|           10|\n",
            "|      Oceania|        1.56813505E7|       5185288|      26177413|            2|\n",
            "|         Asia|        1.85114481E8|       5975689|    1417173173|           12|\n",
            "+-------------+--------------------+--------------+--------------+-------------+\n",
            "\n"
          ]
        }
      ]
    },
    {
      "cell_type": "markdown",
      "source": [
        "# Do try to answer other interesting questions using the combined df you have made."
      ],
      "metadata": {
        "id": "pQOx-J750iBx"
      }
    }
  ],
  "metadata": {
    "colab": {
      "provenance": [],
      "toc_visible": true
    },
    "kernelspec": {
      "display_name": "Python 3",
      "name": "python3"
    }
  },
  "nbformat": 4,
  "nbformat_minor": 0
}
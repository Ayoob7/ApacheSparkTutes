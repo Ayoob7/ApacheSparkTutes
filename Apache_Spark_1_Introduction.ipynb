{
  "cells": [
    {
      "cell_type": "markdown",
      "source": [
        "# Environment Setup and Dataset download\n",
        "Run the following code snippets to setup the envs\n",
        "\n",
        "Download the Netflix Subscription dataset from this [link](https://drive.google.com/file/d/1optmRfNfXUFSTWY2l4FAod6aiYl4y91P/view?usp=sharing) using your IIT account and upload to the this session storage."
      ],
      "metadata": {
        "id": "J8SlBoDA628d"
      }
    },
    {
      "cell_type": "code",
      "source": [
        "!pip install pyspark\n",
        "!pip install -U -q PyDrive\n",
        "!apt install openjdk-8-jdk-headless -qq\n",
        "import os\n",
        "os.environ[\"JAVA_HOME\"] = \"/usr/lib/jvm/java-8-openjdk-amd64\""
      ],
      "metadata": {
        "id": "MGoma3n76ueW"
      },
      "execution_count": null,
      "outputs": []
    },
    {
      "cell_type": "code",
      "source": [
        "import pyspark\n",
        "import pyspark.sql  as pyspark_sql\n",
        "import pyspark.sql.types as pyspark_types\n",
        "import pyspark.sql.functions  as pyspark_functions\n",
        "from pyspark import SparkContext, SparkConf"
      ],
      "metadata": {
        "id": "AlZcw_1Z_vgt"
      },
      "execution_count": 3,
      "outputs": []
    },
    {
      "cell_type": "code",
      "source": [
        "# create the session\n",
        "conf = SparkConf().set(\"spark.ui.port\", \"4050\")\n",
        "\n",
        "# create the context\n",
        "sc = pyspark.SparkContext(conf=conf)\n",
        "spark = pyspark_sql.SparkSession.builder.getOrCreate()"
      ],
      "metadata": {
        "id": "tQ7sOWKn_z6V"
      },
      "execution_count": 4,
      "outputs": []
    },
    {
      "cell_type": "markdown",
      "source": [
        "# Dataframe Ops"
      ],
      "metadata": {
        "id": "eBDY8QtuAQS8"
      }
    },
    {
      "cell_type": "code",
      "source": [
        "# Load the dataset\n",
        "data = spark.read.csv(\"Netflix subscription fee Dec-2021.csv\", header=True, inferSchema=True)"
      ],
      "metadata": {
        "id": "nmop5DQMASzk"
      },
      "execution_count": 131,
      "outputs": []
    },
    {
      "cell_type": "code",
      "source": [
        "data.printSchema()"
      ],
      "metadata": {
        "colab": {
          "base_uri": "https://localhost:8080/"
        },
        "id": "hp4qBeFyIf_m",
        "outputId": "fe6182a1-df08-486c-dd89-25c3d534ba13"
      },
      "execution_count": 132,
      "outputs": [
        {
          "output_type": "stream",
          "name": "stdout",
          "text": [
            "root\n",
            " |-- Country_code: string (nullable = true)\n",
            " |-- Country: string (nullable = true)\n",
            " |-- Total Library Size: integer (nullable = true)\n",
            " |-- No_of_TVShows: integer (nullable = true)\n",
            " |-- No_of_Movies: integer (nullable = true)\n",
            " |-- Cost Per Month - Basic ($): double (nullable = true)\n",
            " |-- Cost Per Month - Standard ($): double (nullable = true)\n",
            " |-- Cost Per Month - Premium ($): double (nullable = true)\n",
            "\n"
          ]
        }
      ]
    },
    {
      "cell_type": "code",
      "source": [
        "data.show()"
      ],
      "metadata": {
        "colab": {
          "base_uri": "https://localhost:8080/"
        },
        "id": "mvti1HsrAWxA",
        "outputId": "a730180f-0b6a-4c2e-b0fb-5182d6fa8dba"
      },
      "execution_count": 133,
      "outputs": [
        {
          "output_type": "stream",
          "name": "stdout",
          "text": [
            "+------------+----------+------------------+-------------+------------+--------------------------+-----------------------------+----------------------------+\n",
            "|Country_code|   Country|Total Library Size|No_of_TVShows|No_of_Movies|Cost Per Month - Basic ($)|Cost Per Month - Standard ($)|Cost Per Month - Premium ($)|\n",
            "+------------+----------+------------------+-------------+------------+--------------------------+-----------------------------+----------------------------+\n",
            "|          ar| Argentina|              4760|         3154|        1606|                      3.74|                          6.3|                        9.26|\n",
            "|          au| Australia|              6114|         4050|        2064|                      7.84|                        12.12|                       16.39|\n",
            "|          at|   Austria|              5640|         3779|        1861|                      9.03|                        14.67|                       20.32|\n",
            "|          be|   Belgium|              4990|         3374|        1616|                     10.16|                        15.24|                       20.32|\n",
            "|          bo|   Bolivia|              4991|         3155|        1836|                      7.99|                        10.99|                       13.99|\n",
            "|          br|    Brazil|              4972|         3162|        1810|                      4.61|                         7.11|                        9.96|\n",
            "|          bg|  Bulgaria|              6797|         4819|        1978|                      9.03|                        11.29|                       13.54|\n",
            "|          ca|    Canada|              6239|         4311|        1928|                      7.91|                        11.87|                       15.03|\n",
            "|          cl|     Chile|              4994|         3156|        1838|                      7.07|                         9.91|                       12.74|\n",
            "|          co|  Colombia|              4991|         3156|        1835|                      4.31|                         6.86|                        9.93|\n",
            "|          cr|Costa Rica|              4988|         3152|        1836|                      8.99|                        12.99|                       15.99|\n",
            "|          hr|   Croatia|              2274|         1675|         599|                      9.03|                        11.29|                       13.54|\n",
            "|          cz|   Czechia|              7325|         5234|        2091|                      8.83|                        11.49|                       14.15|\n",
            "|          dk|   Denmark|              4558|         2978|        1580|                      12.0|                        15.04|                        19.6|\n",
            "|          ec|   Ecuador|              4992|         3155|        1837|                      7.99|                        10.99|                       13.99|\n",
            "|          ee|   Estonia|              6456|         4486|        1970|                      9.03|                        11.29|                       13.54|\n",
            "|          fi|   Finland|              4045|         2638|        1407|                      9.03|                        13.54|                       18.06|\n",
            "|          fr|    France|              5445|         3604|        1841|                     10.16|                        15.24|                       20.32|\n",
            "|          de|   Germany|              5668|         3814|        1854|                      9.03|                        14.67|                       20.32|\n",
            "|          gi| Gibraltar|              6167|         4079|        2088|                      9.03|                        14.67|                       20.32|\n",
            "+------------+----------+------------------+-------------+------------+--------------------------+-----------------------------+----------------------------+\n",
            "only showing top 20 rows\n",
            "\n"
          ]
        }
      ]
    },
    {
      "cell_type": "code",
      "source": [
        "data.printSchema()"
      ],
      "metadata": {
        "colab": {
          "base_uri": "https://localhost:8080/"
        },
        "id": "fUETkCjrPDSY",
        "outputId": "d8a5f9bd-9fca-4afe-bac0-88f90ada5483"
      },
      "execution_count": 134,
      "outputs": [
        {
          "output_type": "stream",
          "name": "stdout",
          "text": [
            "root\n",
            " |-- Country_code: string (nullable = true)\n",
            " |-- Country: string (nullable = true)\n",
            " |-- Total Library Size: integer (nullable = true)\n",
            " |-- No_of_TVShows: integer (nullable = true)\n",
            " |-- No_of_Movies: integer (nullable = true)\n",
            " |-- Cost Per Month - Basic ($): double (nullable = true)\n",
            " |-- Cost Per Month - Standard ($): double (nullable = true)\n",
            " |-- Cost Per Month - Premium ($): double (nullable = true)\n",
            "\n"
          ]
        }
      ]
    },
    {
      "cell_type": "code",
      "source": [
        "data.describe('Cost Per Month - Premium ($)').show()"
      ],
      "metadata": {
        "colab": {
          "base_uri": "https://localhost:8080/"
        },
        "id": "KVuMG1IBMcC7",
        "outputId": "c4f024e7-a2c3-43d3-cb8b-ae926dac0469"
      },
      "execution_count": 135,
      "outputs": [
        {
          "output_type": "stream",
          "name": "stdout",
          "text": [
            "+-------+----------------------------+\n",
            "|summary|Cost Per Month - Premium ($)|\n",
            "+-------+----------------------------+\n",
            "|  count|                          65|\n",
            "|   mean|          15.612923076923078|\n",
            "| stddev|           4.040672408104298|\n",
            "|    min|                        4.02|\n",
            "|    max|                       26.96|\n",
            "+-------+----------------------------+\n",
            "\n"
          ]
        }
      ]
    },
    {
      "cell_type": "code",
      "source": [
        "# used to serialize the data and convert to a regular python variable\n",
        "data.collect()"
      ],
      "metadata": {
        "id": "KUJlrVftW4df"
      },
      "execution_count": null,
      "outputs": []
    },
    {
      "cell_type": "code",
      "source": [
        "from pyspark.sql import functions as F"
      ],
      "metadata": {
        "id": "lPUDsSBoDoCx"
      },
      "execution_count": 137,
      "outputs": []
    },
    {
      "cell_type": "markdown",
      "source": [
        "# Selection of a column"
      ],
      "metadata": {
        "id": "_drvCRR8EXy8"
      }
    },
    {
      "cell_type": "code",
      "source": [],
      "metadata": {
        "id": "C8Xq72w9Er_d"
      },
      "execution_count": 137,
      "outputs": []
    },
    {
      "cell_type": "code",
      "source": [],
      "metadata": {
        "id": "r8bjyDHJEo7w"
      },
      "execution_count": 137,
      "outputs": []
    },
    {
      "cell_type": "code",
      "source": [],
      "metadata": {
        "id": "ALG-jga2EXGq"
      },
      "execution_count": 137,
      "outputs": []
    },
    {
      "cell_type": "markdown",
      "source": [
        "# Filter Operation"
      ],
      "metadata": {
        "id": "qqm_MKAjGIDI"
      }
    },
    {
      "cell_type": "code",
      "source": [],
      "metadata": {
        "id": "KLsO7G7aGJxI"
      },
      "execution_count": 137,
      "outputs": []
    },
    {
      "cell_type": "markdown",
      "source": [
        "## Filtering Questions"
      ],
      "metadata": {
        "id": "DV7S79c6GfS6"
      }
    },
    {
      "cell_type": "markdown",
      "source": [],
      "metadata": {
        "id": "gdfpzTyRGoP8"
      }
    },
    {
      "cell_type": "code",
      "source": [
        "# Filter all the countries where the number of movies offered are > 2000\n"
      ],
      "metadata": {
        "id": "NoVzrwBHGhNH"
      },
      "execution_count": 138,
      "outputs": []
    },
    {
      "cell_type": "markdown",
      "source": [
        "Filter all the countries where the number of movies offered are > 2000 AND \"Cost Per Month - Basic ($)\" is greater than 8 per month"
      ],
      "metadata": {
        "id": "OyDYQxnTHLvJ"
      }
    },
    {
      "cell_type": "code",
      "source": [
        "# Filter all the countries where the number of movies offered are > 2000\n"
      ],
      "metadata": {
        "id": "Hq3BmxgyHoww"
      },
      "execution_count": 139,
      "outputs": []
    },
    {
      "cell_type": "code",
      "source": [
        "# Filter countries with library size > 5000\n"
      ],
      "metadata": {
        "id": "OCeIsxKaLiC8"
      },
      "execution_count": 140,
      "outputs": []
    },
    {
      "cell_type": "code",
      "source": [
        "# Select countries with Premium plan cost < $15\n"
      ],
      "metadata": {
        "id": "jieDVSa9LsCi"
      },
      "execution_count": 141,
      "outputs": []
    },
    {
      "cell_type": "code",
      "source": [
        "# Filter for more TV shows than movies\n"
      ],
      "metadata": {
        "id": "xUt0P6M8LqCI"
      },
      "execution_count": 142,
      "outputs": []
    },
    {
      "cell_type": "markdown",
      "source": [
        "# Selection based on a condition\n",
        "\n",
        "Print 1 for a condition otherwise 0"
      ],
      "metadata": {
        "id": "F-ubS0P3FyG1"
      }
    },
    {
      "cell_type": "code",
      "source": [
        "# all coutries with library size < 7000\n"
      ],
      "metadata": {
        "id": "UUJEr9lBF_YA"
      },
      "execution_count": 143,
      "outputs": []
    },
    {
      "cell_type": "markdown",
      "source": [
        "# Challenging Questions\n",
        "\n",
        "1. Find the countries with the lowest no of movies offered and the higest.\n",
        "\n",
        "2. Determine whether the countries are in the 1st, 2nd, 3rd or 4th quartile of the distribution of values in the no of movies column. We want a column that says 1,2,3, ocr 4 denoting those quartiles respectively"
      ],
      "metadata": {
        "id": "7VMaUjXWLepk"
      }
    },
    {
      "cell_type": "markdown",
      "source": [
        "1. First Question"
      ],
      "metadata": {
        "id": "IJqMmp9mT3E4"
      }
    },
    {
      "cell_type": "code",
      "source": [
        "# find min and max\n"
      ],
      "metadata": {
        "id": "eA-JSdJiSKS1"
      },
      "execution_count": 144,
      "outputs": []
    },
    {
      "cell_type": "code",
      "source": [
        "# can use either filtering or F.when to select the records\n",
        "# (For Smartasses: Yes there is a way to get it by aggregating) but we haven't covered it yet\n"
      ],
      "metadata": {
        "id": "MLiV3EoiSqNA"
      },
      "execution_count": 145,
      "outputs": []
    },
    {
      "cell_type": "code",
      "source": [],
      "metadata": {
        "id": "wdXsFGMhTLpK"
      },
      "execution_count": 145,
      "outputs": []
    },
    {
      "cell_type": "markdown",
      "source": [
        "2. Second Question\n",
        "\n",
        "Hey Nerds... yes I know you can use custom Lambda Functions to do this.. I get it you're smart.. while we cover them for the other mere mortals in the class in the next lecture, please contend with doing it in Lowly Earthly Peasantly Python"
      ],
      "metadata": {
        "id": "jMEYm8WAT9uD"
      }
    },
    {
      "cell_type": "code",
      "source": [
        "# convert Spark to Python List\n"
      ],
      "metadata": {
        "id": "kj_vaeV_T9TV"
      },
      "execution_count": 146,
      "outputs": []
    },
    {
      "cell_type": "code",
      "source": [
        "# convert raw spark types to ints\n"
      ],
      "metadata": {
        "id": "-OuYsm_7UwOT"
      },
      "execution_count": 147,
      "outputs": []
    },
    {
      "cell_type": "code",
      "source": [
        "# get quartiles values for the list of ints\n",
        "import statistics\n",
        "\n",
        "# Calculate quartiles\n"
      ],
      "metadata": {
        "id": "fIi_BsnIU-vu"
      },
      "execution_count": 148,
      "outputs": []
    },
    {
      "cell_type": "code",
      "source": [
        "# all coutries with quartiles of no of movies\n"
      ],
      "metadata": {
        "id": "x0X2Z7-2ZFcB"
      },
      "execution_count": 149,
      "outputs": []
    }
  ],
  "metadata": {
    "colab": {
      "provenance": []
    },
    "kernelspec": {
      "display_name": "Python 3",
      "name": "python3"
    }
  },
  "nbformat": 4,
  "nbformat_minor": 0
}